{
 "cells": [
  {
   "cell_type": "code",
   "execution_count": null,
   "id": "ed98579c-0bb8-4849-b58d-10ed82520307",
   "metadata": {},
   "outputs": [],
   "source": [
    "#conditional Statement(if ,elif,else)\n",
    "#itetative statement\n",
    "#Transfer Statement"
   ]
  },
  {
   "cell_type": "code",
   "execution_count": 2,
   "id": "519eb40c-f0f0-4221-aa6d-1a21b433afe7",
   "metadata": {},
   "outputs": [
    {
     "name": "stdin",
     "output_type": "stream",
     "text": [
      "Enter your name:- Vivek\n"
     ]
    },
    {
     "name": "stdout",
     "output_type": "stream",
     "text": [
      "Hi Vivek Good Morning\n"
     ]
    }
   ],
   "source": [
    "#conditional:-  if your condition is True then statement will execute.\n",
    "#syntax\n",
    "#use the identation to make sure the statement.\n",
    "'''if condition:\n",
    "    statement\n",
    "    stament\n",
    "    statement'''\n",
    "\n",
    "name = input('Enter your name:-')\n",
    "\n",
    "if name == 'Vivek':\n",
    "    print('Hi Vivek Good Morning')\n",
    "\n",
    "    "
   ]
  },
  {
   "cell_type": "code",
   "execution_count": 4,
   "id": "139bd608-5951-4665-bb69-25242029f322",
   "metadata": {},
   "outputs": [
    {
     "name": "stdin",
     "output_type": "stream",
     "text": [
      "Enter your number 21\n"
     ]
    }
   ],
   "source": [
    "#check the number even or not\n",
    "\n",
    "number = int(input('Enter your number'))\n",
    "\n",
    "if (number%2)==0:\n",
    "    print('Even')"
   ]
  },
  {
   "cell_type": "code",
   "execution_count": 6,
   "id": "0449a4c3-741d-45b1-a2e3-2f4a861f075e",
   "metadata": {},
   "outputs": [
    {
     "name": "stdin",
     "output_type": "stream",
     "text": [
      "Enter your number 21\n"
     ]
    },
    {
     "name": "stdout",
     "output_type": "stream",
     "text": [
      "Odd\n"
     ]
    }
   ],
   "source": [
    "#what is else?\n",
    "''' else keyword in the python, where it is used in conditional statement\n",
    "when if condition failed automatically else will excute.\n",
    "else have condition , it is toally dependsupon if condition'''\n",
    "\n",
    "number = int(input('Enter your number'))\n",
    "\n",
    "if (number%2)==0:\n",
    "    print('Even')\n",
    "else:\n",
    "    print('Odd')"
   ]
  },
  {
   "cell_type": "code",
   "execution_count": 9,
   "id": "74df9e54-3dae-4418-88d9-0f04e5f19164",
   "metadata": {},
   "outputs": [
    {
     "name": "stdin",
     "output_type": "stream",
     "text": [
      "Enter your number 20\n"
     ]
    },
    {
     "name": "stdout",
     "output_type": "stream",
     "text": [
      "20 is not div by 3 and 5\n"
     ]
    }
   ],
   "source": [
    "#the number div by 3 and 5 both\n",
    "\n",
    "number = int(input('Enter your number'))\n",
    "\n",
    "\n",
    "if (number%3==0) and (number%5==0):\n",
    "    print(f'yes {number} is div by 3 and 5')\n",
    "else:\n",
    "    print(f'{number} is not div by 3 and 5')"
   ]
  },
  {
   "cell_type": "code",
   "execution_count": 14,
   "id": "fa180130-320c-4e6c-ab6b-c6e6227e95ad",
   "metadata": {},
   "outputs": [
    {
     "name": "stdin",
     "output_type": "stream",
     "text": [
      "Enter your string bat\n"
     ]
    },
    {
     "name": "stdout",
     "output_type": "stream",
     "text": [
      "bat is not pallindrom\n"
     ]
    }
   ],
   "source": [
    "#string pallindrom or not\n",
    "#when we will reverse string then its same original string\n",
    "#mam , madam \n",
    "\n",
    "st = input('Enter your string')\n",
    "rev_st = st[::-1]\n",
    "\n",
    "if st == rev_st:\n",
    "    print(f'{st} is pallindrom')\n",
    "else:\n",
    "    print(f'{st} is not pallindrom')"
   ]
  },
  {
   "cell_type": "code",
   "execution_count": 16,
   "id": "3d5afdeb-cea6-4c50-9789-8ecfe04e5685",
   "metadata": {},
   "outputs": [
    {
     "name": "stdin",
     "output_type": "stream",
     "text": [
      "Enter your substrinh xy\n"
     ]
    },
    {
     "name": "stdout",
     "output_type": "stream",
     "text": [
      "xy is not present in st\n"
     ]
    }
   ],
   "source": [
    "#check in a string the substring is avl or not\n",
    "\n",
    "st= 'i love india'\n",
    "\n",
    "sub_string = input('Enter your substrinh')\n",
    "\n",
    "if sub_string in st:\n",
    "    print(f'{sub_string} is present in st')\n",
    "else:\n",
    "    print(f'{sub_string} is not present in st')\n",
    "    \n",
    "\n"
   ]
  },
  {
   "cell_type": "code",
   "execution_count": 19,
   "id": "6e0ddafb-1767-4d57-9122-e715160caa94",
   "metadata": {},
   "outputs": [
    {
     "name": "stdin",
     "output_type": "stream",
     "text": [
      "Enter your number:- 10\n",
      "Enter your number:- 15\n"
     ]
    },
    {
     "name": "stdout",
     "output_type": "stream",
     "text": [
      "15 is bigger num\n"
     ]
    }
   ],
   "source": [
    "#find the biggest number between the two number\n",
    "\n",
    "num1 = int(input('Enter your number:-'))\n",
    "num2 = int(input('Enter your number:-'))\n",
    "\n",
    "if num1>num2:\n",
    "    print(f'{num1} is bigger num')\n",
    "else:\n",
    "    print(f'{num2} is bigger num')"
   ]
  },
  {
   "cell_type": "code",
   "execution_count": null,
   "id": "1517b33f-963d-40c4-a4be-91d29e47f8c7",
   "metadata": {},
   "outputs": [],
   "source": []
  }
 ],
 "metadata": {
  "kernelspec": {
   "display_name": "Python 3 (ipykernel)",
   "language": "python",
   "name": "python3"
  },
  "language_info": {
   "codemirror_mode": {
    "name": "ipython",
    "version": 3
   },
   "file_extension": ".py",
   "mimetype": "text/x-python",
   "name": "python",
   "nbconvert_exporter": "python",
   "pygments_lexer": "ipython3",
   "version": "3.13.1"
  }
 },
 "nbformat": 4,
 "nbformat_minor": 5
}
