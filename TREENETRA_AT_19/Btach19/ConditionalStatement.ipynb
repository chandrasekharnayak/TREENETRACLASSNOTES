{
 "cells": [
  {
   "cell_type": "code",
   "execution_count": null,
   "id": "ed98579c-0bb8-4849-b58d-10ed82520307",
   "metadata": {},
   "outputs": [],
   "source": [
    "#conditional Statement(if ,elif,else)\n",
    "#itetative statement\n",
    "#Transfer Statement"
   ]
  },
  {
   "cell_type": "code",
   "execution_count": 2,
   "id": "519eb40c-f0f0-4221-aa6d-1a21b433afe7",
   "metadata": {},
   "outputs": [
    {
     "name": "stdin",
     "output_type": "stream",
     "text": [
      "Enter your name:- Vivek\n"
     ]
    },
    {
     "name": "stdout",
     "output_type": "stream",
     "text": [
      "Hi Vivek Good Morning\n"
     ]
    }
   ],
   "source": [
    "#conditional:-  if your condition is True then statement will execute.\n",
    "#syntax\n",
    "#use the identation to make sure the statement.\n",
    "'''if condition:\n",
    "    statement\n",
    "    stament\n",
    "    statement'''\n",
    "\n",
    "name = input('Enter your name:-')\n",
    "\n",
    "if name == 'Vivek':\n",
    "    print('Hi Vivek Good Morning')\n",
    "\n",
    "    "
   ]
  },
  {
   "cell_type": "code",
   "execution_count": 4,
   "id": "139bd608-5951-4665-bb69-25242029f322",
   "metadata": {},
   "outputs": [
    {
     "name": "stdin",
     "output_type": "stream",
     "text": [
      "Enter your number 21\n"
     ]
    }
   ],
   "source": [
    "#check the number even or not\n",
    "\n",
    "number = int(input('Enter your number'))\n",
    "\n",
    "if (number%2)==0:\n",
    "    print('Even')"
   ]
  },
  {
   "cell_type": "code",
   "execution_count": 6,
   "id": "0449a4c3-741d-45b1-a2e3-2f4a861f075e",
   "metadata": {},
   "outputs": [
    {
     "name": "stdin",
     "output_type": "stream",
     "text": [
      "Enter your number 21\n"
     ]
    },
    {
     "name": "stdout",
     "output_type": "stream",
     "text": [
      "Odd\n"
     ]
    }
   ],
   "source": [
    "#what is else?\n",
    "''' else keyword in the python, where it is used in conditional statement\n",
    "when if condition failed automatically else will excute.\n",
    "else have condition , it is toally dependsupon if condition'''\n",
    "\n",
    "number = int(input('Enter your number'))\n",
    "\n",
    "if (number%2)==0:\n",
    "    print('Even')\n",
    "else:\n",
    "    print('Odd')"
   ]
  },
  {
   "cell_type": "code",
   "execution_count": 9,
   "id": "74df9e54-3dae-4418-88d9-0f04e5f19164",
   "metadata": {},
   "outputs": [
    {
     "name": "stdin",
     "output_type": "stream",
     "text": [
      "Enter your number 20\n"
     ]
    },
    {
     "name": "stdout",
     "output_type": "stream",
     "text": [
      "20 is not div by 3 and 5\n"
     ]
    }
   ],
   "source": [
    "#the number div by 3 and 5 both\n",
    "\n",
    "number = int(input('Enter your number'))\n",
    "\n",
    "\n",
    "if (number%3==0) and (number%5==0):\n",
    "    print(f'yes {number} is div by 3 and 5')\n",
    "else:\n",
    "    print(f'{number} is not div by 3 and 5')"
   ]
  },
  {
   "cell_type": "code",
   "execution_count": 14,
   "id": "fa180130-320c-4e6c-ab6b-c6e6227e95ad",
   "metadata": {},
   "outputs": [
    {
     "name": "stdin",
     "output_type": "stream",
     "text": [
      "Enter your string bat\n"
     ]
    },
    {
     "name": "stdout",
     "output_type": "stream",
     "text": [
      "bat is not pallindrom\n"
     ]
    }
   ],
   "source": [
    "#string pallindrom or not\n",
    "#when we will reverse string then its same original string\n",
    "#mam , madam \n",
    "\n",
    "st = input('Enter your string')\n",
    "rev_st = st[::-1]\n",
    "\n",
    "if st == rev_st:\n",
    "    print(f'{st} is pallindrom')\n",
    "else:\n",
    "    print(f'{st} is not pallindrom')"
   ]
  },
  {
   "cell_type": "code",
   "execution_count": 16,
   "id": "3d5afdeb-cea6-4c50-9789-8ecfe04e5685",
   "metadata": {},
   "outputs": [
    {
     "name": "stdin",
     "output_type": "stream",
     "text": [
      "Enter your substrinh xy\n"
     ]
    },
    {
     "name": "stdout",
     "output_type": "stream",
     "text": [
      "xy is not present in st\n"
     ]
    }
   ],
   "source": [
    "#check in a string the substring is avl or not\n",
    "\n",
    "st= 'i love india'\n",
    "\n",
    "sub_string = input('Enter your substrinh')\n",
    "\n",
    "if sub_string in st:\n",
    "    print(f'{sub_string} is present in st')\n",
    "else:\n",
    "    print(f'{sub_string} is not present in st')\n",
    "    \n",
    "\n"
   ]
  },
  {
   "cell_type": "code",
   "execution_count": 19,
   "id": "6e0ddafb-1767-4d57-9122-e715160caa94",
   "metadata": {},
   "outputs": [
    {
     "name": "stdin",
     "output_type": "stream",
     "text": [
      "Enter your number:- 10\n",
      "Enter your number:- 15\n"
     ]
    },
    {
     "name": "stdout",
     "output_type": "stream",
     "text": [
      "15 is bigger num\n"
     ]
    }
   ],
   "source": [
    "#find the biggest number between the two number\n",
    "\n",
    "num1 = int(input('Enter your number:-'))\n",
    "num2 = int(input('Enter your number:-'))\n",
    "\n",
    "if num1>num2:\n",
    "    print(f'{num1} is bigger num')\n",
    "else:\n",
    "    print(f'{num2} is bigger num')"
   ]
  },
  {
   "cell_type": "code",
   "execution_count": 5,
   "id": "1517b33f-963d-40c4-a4be-91d29e47f8c7",
   "metadata": {},
   "outputs": [
    {
     "name": "stdin",
     "output_type": "stream",
     "text": [
      "Enter srk picture name:- Raees\n"
     ]
    },
    {
     "name": "stdout",
     "output_type": "stream",
     "text": [
      "Raees am not aware about it\n"
     ]
    }
   ],
   "source": [
    "#elif statement\n",
    "#how multi condition works in conditional statement\n",
    "#in multi condition if all the condition gor failed , then else statement will execute.\n",
    "#else is always a optional one.\n",
    "\n",
    "'''\n",
    "syntax\n",
    "if condition1:\n",
    "    if statement execute\n",
    "elif condition2:\n",
    "    elif stetatemenet2 execute\n",
    "elif condition3:\n",
    "    elif statemenet3 excute\n",
    "else:\n",
    "    else statement\n",
    "\n",
    "\n",
    "'''\n",
    "\n",
    "srk_picture = input('Enter srk picture name:-')\n",
    "\n",
    "if srk_picture == 'DDLJ':\n",
    "    print(f'{srk_picture} Yes it a good movie')\n",
    "\n",
    "elif srk_picture =='VeerZara':\n",
    "    print(f'{srk_picture} it is ok type movie')\n",
    "\n",
    "elif srk_picture == 'Zero':\n",
    "    print(f'{srk_picture} it is a wrost moview')\n",
    "else:\n",
    "    print(f'{srk_picture} am not aware about it')\n",
    "\n",
    "    \n",
    "\n"
   ]
  },
  {
   "cell_type": "code",
   "execution_count": 9,
   "id": "c0619bf3-f48c-43df-8451-7dfe363853c8",
   "metadata": {},
   "outputs": [
    {
     "name": "stdin",
     "output_type": "stream",
     "text": [
      "Enter a number 4\n"
     ]
    },
    {
     "name": "stdout",
     "output_type": "stream",
     "text": [
      "4 is not by 3 and 5\n"
     ]
    }
   ],
   "source": [
    "#check the number is diviable by 3 and 5 , or number div by only 3 or number div by only 5. if number is not by 3 and by 5 reject the number.\n",
    "\n",
    "num = int(input('Enter a number'))\n",
    "\n",
    "if (num%3==0) and (num%5==0):\n",
    "    print(f'{num} div by both 3 and 5')\n",
    "\n",
    "elif num%3==0:\n",
    "    print(f'{num} div by 3 only')\n",
    "elif num%5==0:\n",
    "    print(f'{num} div by 5 only')\n",
    "else:\n",
    "    print(f'{num} is not by 3 and 5')\n",
    "    "
   ]
  },
  {
   "cell_type": "code",
   "execution_count": 13,
   "id": "c2e181c8-af7c-4df2-a1a4-94a8cfd0b97f",
   "metadata": {},
   "outputs": [
    {
     "name": "stdin",
     "output_type": "stream",
     "text": [
      "Enter a number:- 19\n",
      "Enter a number:- 20\n",
      "Enter a number:- 45\n"
     ]
    },
    {
     "name": "stdout",
     "output_type": "stream",
     "text": [
      "45 is biggest number\n"
     ]
    }
   ],
   "source": [
    "#have 3 int, find the highest amoung them\n",
    "\n",
    "num1 = int(input('Enter a number:-'))\n",
    "num2 = int(input('Enter a number:-'))\n",
    "num3 = int(input('Enter a number:-'))\n",
    "\n",
    "if (num1>num2) and (num1>num3):\n",
    "    print(f'{num1} is biggest number')\n",
    "elif num2>num3:\n",
    "    print(f'{num2} is biggest number')\n",
    "else:\n",
    "    print(f'{num3} is biggest number')\n",
    "    \n",
    "    "
   ]
  },
  {
   "cell_type": "code",
   "execution_count": 19,
   "id": "8b97ba5d-bec4-4c2e-9903-59c7a8d5ece4",
   "metadata": {},
   "outputs": [
    {
     "name": "stdin",
     "output_type": "stream",
     "text": [
      "Enter your percentage:- 23\n"
     ]
    },
    {
     "name": "stdout",
     "output_type": "stream",
     "text": [
      "failed\n"
     ]
    }
   ],
   "source": [
    "#60% and more 60% first class, 50%  more then 50% 2nd class and 30% and more 30% 3rd class , below 30% Failed.\n",
    "\n",
    "percentage = int(input('Enter your percentage:-'))\n",
    "\n",
    "if percentage >=60:\n",
    "    print('First class')\n",
    "elif percentage>=50:\n",
    "    print('Second Class')\n",
    "elif percentage>=30:\n",
    "    print('Third class')\n",
    "else:\n",
    "    print('failed')\n",
    "\n"
   ]
  },
  {
   "cell_type": "code",
   "execution_count": 39,
   "id": "2d9727b5-522a-4349-abee-eb3544d71c6e",
   "metadata": {},
   "outputs": [
    {
     "name": "stdin",
     "output_type": "stream",
     "text": [
      "Enter a year:- 1200\n"
     ]
    },
    {
     "name": "stdout",
     "output_type": "stream",
     "text": [
      "1200 is a leap year\n"
     ]
    }
   ],
   "source": [
    "# find leap year based end user data.\n",
    "#step1:- \n",
    "\n",
    "\n",
    "\n",
    "year = int(input('Enter a year:-'))\n",
    "\n",
    "if (year%4==0 and year%100!=0) or (year%400==0):\n",
    "    print(f'{year} is a leap year')\n",
    "else:\n",
    "    print(f'{year} is not a leap year')"
   ]
  },
  {
   "cell_type": "code",
   "execution_count": null,
   "id": "2d33c7a6-710c-42da-90aa-6d10b1a87d60",
   "metadata": {},
   "outputs": [],
   "source": []
  }
 ],
 "metadata": {
  "kernelspec": {
   "display_name": "Python 3 (ipykernel)",
   "language": "python",
   "name": "python3"
  },
  "language_info": {
   "codemirror_mode": {
    "name": "ipython",
    "version": 3
   },
   "file_extension": ".py",
   "mimetype": "text/x-python",
   "name": "python",
   "nbconvert_exporter": "python",
   "pygments_lexer": "ipython3",
   "version": "3.13.1"
  }
 },
 "nbformat": 4,
 "nbformat_minor": 5
}
