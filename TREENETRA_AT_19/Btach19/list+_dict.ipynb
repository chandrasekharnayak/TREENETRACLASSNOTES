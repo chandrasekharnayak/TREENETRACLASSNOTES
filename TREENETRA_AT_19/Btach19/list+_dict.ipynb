{
 "cells": [
  {
   "cell_type": "code",
   "execution_count": 7,
   "id": "131442a1-dde2-4b81-b6ca-677cba3e2d1d",
   "metadata": {},
   "outputs": [
    {
     "name": "stdout",
     "output_type": "stream",
     "text": [
      "[734, 254, 97, 89, 67, 45, 23, 21]\n"
     ]
    }
   ],
   "source": [
    "#write a program sort a list(asc -dsc) (dsc-asc)\n",
    "\n",
    "\n",
    "li = [89,67,23,45,97,21,734,254]\n",
    "\n",
    "n = len(li)\n",
    "\n",
    "for i in range(n):\n",
    "    for j in range(n-i-1):\n",
    "        if li[j]<li[j+1]:\n",
    "            li[j],li[j+1]=li[j+1],li[j]\n",
    "\n",
    "print(li)\n",
    "\n",
    "\n",
    "\n",
    "\n",
    "\n"
   ]
  },
  {
   "cell_type": "code",
   "execution_count": 17,
   "id": "09194ef8-47ef-44a8-bc62-694d2f9928b6",
   "metadata": {},
   "outputs": [
    {
     "name": "stdout",
     "output_type": "stream",
     "text": [
      "890\n",
      "90\n",
      "73\n"
     ]
    }
   ],
   "source": [
    "#write program find the 3rd highest element in a list.\n",
    "\n",
    "li = [890,67,23,21,890,45,73,90]\n",
    "\n",
    "highest = 0\n",
    "second_highest = 0\n",
    "third_highest = 0\n",
    "\n",
    "for i in li:\n",
    "    if i>highest: \n",
    "        third_highest = second_highest\n",
    "        second_highest = highest\n",
    "        highest = i\n",
    "\n",
    "    elif i>second_highest and i!= highest:\n",
    "        third_highest = second_highest\n",
    "        second_highest = i\n",
    "\n",
    "    elif i>third_highest and i != second_highest:\n",
    "        third_highest = i\n",
    "        \n",
    "        \n",
    "print(highest)\n",
    "print(second_highest)\n",
    "print(third_highest)"
   ]
  },
  {
   "cell_type": "code",
   "execution_count": 21,
   "id": "bfc447c1-5eab-4c40-9e94-1d7e5037f78e",
   "metadata": {},
   "outputs": [
    {
     "name": "stdout",
     "output_type": "stream",
     "text": [
      "[90, 73, 45, 890, 21, 23, 67, 890]\n"
     ]
    }
   ],
   "source": [
    "#write program reverse a list without using inbuid function?\n",
    "\n",
    "li = [890,67,23,21,890,45,73,90]\n",
    "\n",
    "reverse_li = []\n",
    "\n",
    "for i in li:\n",
    "    reverse_li.insert(0,i)\n",
    "\n",
    "print(reverse_li)\n",
    "\n"
   ]
  },
  {
   "cell_type": "code",
   "execution_count": 34,
   "id": "d8196f01-f524-4fe5-9bd7-601c8502c772",
   "metadata": {},
   "outputs": [
    {
     "name": "stdout",
     "output_type": "stream",
     "text": [
      "[9, 8, 7, 6, 5, 4, 3, 2, 1]\n"
     ]
    }
   ],
   "source": [
    "# class room. --- 10 canda 1 2 3 4        5      6 7 8 9\n",
    "\n",
    "# 4 3 2 1\n",
    "\n",
    "li = [1,2,3,4,5,6,7,8,9]\n",
    "\n",
    "\n",
    "n = len(li)\n",
    "\n",
    "\n",
    "mid = n//2\n",
    "\n",
    "for i in range(mid):\n",
    "    li[i],li[n-1-i]= li[n-1-i],li[i]\n",
    "print(li)"
   ]
  },
  {
   "cell_type": "code",
   "execution_count": 46,
   "id": "dafc91ad-2fed-49f5-8ac9-d1951832f5e0",
   "metadata": {},
   "outputs": [
    {
     "name": "stdout",
     "output_type": "stream",
     "text": [
      "[10, 11, 12, 13]\n"
     ]
    }
   ],
   "source": [
    "#remove the duplicates in li\n",
    "\n",
    "li = [10,11,10,12,11,12,13]\n",
    "\n",
    "unq_li  = []\n",
    "\n",
    "for i in li:\n",
    "    if i not in unq_li:\n",
    "        unq_li.append(i)\n",
    "\n",
    "print(unq_li)"
   ]
  },
  {
   "cell_type": "code",
   "execution_count": 51,
   "id": "1476930e-0be4-4fad-8e63-ae747bea4acd",
   "metadata": {},
   "outputs": [
    {
     "name": "stdout",
     "output_type": "stream",
     "text": [
      "10 11\n",
      "10 10\n",
      "10 11\n",
      "10 12\n",
      "10 13\n"
     ]
    },
    {
     "ename": "IndexError",
     "evalue": "list index out of range",
     "output_type": "error",
     "traceback": [
      "\u001b[0;31m---------------------------------------------------------------------------\u001b[0m",
      "\u001b[0;31mIndexError\u001b[0m                                Traceback (most recent call last)",
      "Cell \u001b[0;32mIn[51], line 7\u001b[0m\n\u001b[1;32m      5\u001b[0m \u001b[38;5;28;01mfor\u001b[39;00m i \u001b[38;5;129;01min\u001b[39;00m \u001b[38;5;28mrange\u001b[39m(n):\n\u001b[1;32m      6\u001b[0m     \u001b[38;5;28;01mfor\u001b[39;00m j \u001b[38;5;129;01min\u001b[39;00m \u001b[38;5;28mrange\u001b[39m(i\u001b[38;5;241m+\u001b[39m\u001b[38;5;241m1\u001b[39m,n\u001b[38;5;241m-\u001b[39mi):\n\u001b[0;32m----> 7\u001b[0m         \u001b[38;5;28mprint\u001b[39m(li[i],\u001b[43mli\u001b[49m\u001b[43m[\u001b[49m\u001b[43mj\u001b[49m\u001b[43m]\u001b[49m)\n\u001b[1;32m      8\u001b[0m         \u001b[38;5;28;01mif\u001b[39;00m li[i]\u001b[38;5;241m==\u001b[39mli[j]:\n\u001b[1;32m      9\u001b[0m             li\u001b[38;5;241m.\u001b[39mpop(j)\n",
      "\u001b[0;31mIndexError\u001b[0m: list index out of range"
     ]
    }
   ],
   "source": [
    "li = [10,11,10,12,11,12,13]\n",
    "\n",
    "n = len(li)\n",
    "\n",
    "for i in range(n):\n",
    "    for j in range(i+1,n-i):\n",
    "        print(li[i],li[j])\n",
    "        if li[i]==li[j]:\n",
    "            li.pop(j)\n",
    "\n"
   ]
  },
  {
   "cell_type": "code",
   "execution_count": 52,
   "id": "049e60ff-d6c2-4117-b09d-bf895f4e0cb7",
   "metadata": {},
   "outputs": [
    {
     "name": "stdout",
     "output_type": "stream",
     "text": [
      "{10: 2, 11: 2, 12: 2, 13: 1}\n"
     ]
    }
   ],
   "source": [
    "li = [10,11,10,12,11,12,13]\n",
    "\n",
    "elemnt_count = {}\n",
    "\n",
    "for i in li:\n",
    "    if i in elemnt_count:\n",
    "        elemnt_count[i]+=1\n",
    "    else:\n",
    "        elemnt_count[i]=1\n",
    "\n",
    "print(elemnt_count)"
   ]
  },
  {
   "cell_type": "code",
   "execution_count": 1,
   "id": "16228229-9459-4e87-b6ec-89508c096fd1",
   "metadata": {},
   "outputs": [
    {
     "name": "stdout",
     "output_type": "stream",
     "text": [
      "{'name': 'Hitesh', 'age': '28'}\n"
     ]
    }
   ],
   "source": [
    "#dictionary\n",
    "# two convert two list into a dictionary\n",
    "\n",
    "keys = ['name','age']\n",
    "values = ['Hitesh','28']\n",
    "\n",
    "\n",
    "var = dict(zip(keys,values))\n",
    "print(var)\n"
   ]
  },
  {
   "cell_type": "code",
   "execution_count": 3,
   "id": "8d319919-7329-4b31-9be8-042f046af9ec",
   "metadata": {},
   "outputs": [
    {
     "name": "stdout",
     "output_type": "stream",
     "text": [
      "Janet\n"
     ]
    }
   ],
   "source": [
    "#nested dictionary\n",
    "\n",
    "di = {\n",
    "    \"data\": {\n",
    "        \"id\": 2,\n",
    "        \"email\": \"janet.weaver@reqres.in\",\n",
    "        \"first_name\": \"Janet\",\n",
    "        \"last_name\": \"Weaver\",\n",
    "        \"avatar\": \"https://reqres.in/img/faces/2-image.jpg\"\n",
    "    },\n",
    "    \"support\": {\n",
    "        \"url\": \"https://contentcaddy.io?utm_source=reqres&utm_medium=json&utm_campaign=referral\",\n",
    "        \"text\": \"Tired of writing endless social media content? Let Content Caddy generate it for you.\"\n",
    "    }\n",
    "}\n",
    "\n",
    "print(di['data']['first_name'])"
   ]
  },
  {
   "cell_type": "code",
   "execution_count": 6,
   "id": "6b9e6a9c-042d-43d1-b373-bb0367c819d7",
   "metadata": {},
   "outputs": [
    {
     "name": "stdout",
     "output_type": "stream",
     "text": [
      "Janet\n"
     ]
    }
   ],
   "source": [
    "for k,v in di.items():\n",
    "    for k1,v1 in v.items():\n",
    "        if k1=='first_name':\n",
    "            print(v1)"
   ]
  },
  {
   "cell_type": "code",
   "execution_count": 13,
   "id": "fc88f1fd-630c-44ba-82eb-925d8cea4d25",
   "metadata": {},
   "outputs": [
    {
     "name": "stdout",
     "output_type": "stream",
     "text": [
      "{'a': 1, 'b': 2, 'e': 3}\n"
     ]
    }
   ],
   "source": [
    "di = {'a':1,'b':2,'c':1,'d':2,'e':3}\n",
    "\n",
    "\n",
    "\n",
    "emp_di = {}\n",
    "\n",
    "for k,v in di.items():\n",
    "    if v not in emp_di.values():\n",
    "        emp_di[k]=v\n",
    "\n",
    "print(emp_di)\n",
    "\n",
    "\n",
    "# operator-- less space\n",
    "# direct method --- mid space\n",
    "# inbuilt method -- high space\n",
    "\n",
    "        "
   ]
  },
  {
   "cell_type": "code",
   "execution_count": 17,
   "id": "ab7e6dfe-b73d-4f42-9ebd-039612bdbe5f",
   "metadata": {},
   "outputs": [
    {
     "name": "stdout",
     "output_type": "stream",
     "text": [
      "[10, 20, 89, 90, 91, 56]\n"
     ]
    }
   ],
   "source": [
    "#convert a nested list into a single list.\n",
    "\n",
    "li = [[10,20],[89,90],91,56]\n",
    "\n",
    "# Op = [10,20,89,90,91,56]\n",
    "\n",
    "\n",
    "new_li = []\n",
    "\n",
    "for i in li:\n",
    "    if type(i) == list:\n",
    "        for j in i:\n",
    "            new_li.append(j)\n",
    "    else:\n",
    "        new_li.append(i)\n",
    "\n",
    "print(new_li)"
   ]
  },
  {
   "cell_type": "code",
   "execution_count": 27,
   "id": "4d4de4a9-5b8d-429b-8980-780b42a5ebc6",
   "metadata": {},
   "outputs": [
    {
     "name": "stdout",
     "output_type": "stream",
     "text": [
      "[10, 20, 30, 40, 50, 60, 70, 80, 90, 100]\n"
     ]
    }
   ],
   "source": [
    "li = [10,[20,[30,[40,[50,[60,[70,[80,[90,[100]]]]]]]]]]\n",
    "\n",
    "# op = [10,20,30,40,50,60,70]\n",
    "\n",
    "def flatten_list(li):\n",
    "\n",
    "    new_li = []\n",
    "    \n",
    "    for i in li:\n",
    "        if isinstance(i,list):\n",
    "            new_li.extend(flatten_list(i))\n",
    "        else:\n",
    "            new_li.append(i)\n",
    "\n",
    "    return new_li\n",
    "\n",
    "print(flatten_list(li))"
   ]
  },
  {
   "cell_type": "code",
   "execution_count": 23,
   "id": "9aa14773-eb44-4fa3-8f99-b152bb7e6bdf",
   "metadata": {},
   "outputs": [
    {
     "name": "stdout",
     "output_type": "stream",
     "text": [
      "5\n",
      "4\n",
      "3\n",
      "2\n"
     ]
    },
    {
     "data": {
      "text/plain": [
       "120"
      ]
     },
     "execution_count": 23,
     "metadata": {},
     "output_type": "execute_result"
    }
   ],
   "source": [
    "#recursion function:- when a function called its self know as recursion\n",
    "\n",
    "# How Recursion work\n",
    "\n",
    "'''\n",
    "1.Base case :- A condition to stop recursion\n",
    "2.Recursive case :- The function call its self with a smaller input\n",
    "\n",
    "'''\n",
    "\n",
    "def print_reverse(n):\n",
    "    if n == 0:\n",
    "        return\n",
    "    print(n)\n",
    "    print_reverse(n+1)\n",
    "\n",
    "print_reverse(5)"
   ]
  },
  {
   "cell_type": "code",
   "execution_count": null,
   "id": "2ab6a8ab-bb00-44db-bd0e-911e41d545fd",
   "metadata": {},
   "outputs": [],
   "source": [
    "# write factorial number help of recursion in python\n",
    "\n",
    "def print_reverse(n):\n",
    "    if n == 0 or n==1:\n",
    "        return 1\n",
    "    print(n)\n",
    "    return n*print_reverse(n-1)\n",
    "\n",
    "print_reverse(5)"
   ]
  },
  {
   "cell_type": "code",
   "execution_count": 32,
   "id": "fcfebf2f-02ba-47fd-bfe4-3531ae3808b9",
   "metadata": {},
   "outputs": [
    {
     "name": "stdout",
     "output_type": "stream",
     "text": [
      "michael.lawson@reqres.in\n",
      "lindsay.ferguson@reqres.in\n",
      "tobias.funke@reqres.in\n",
      "byron.fields@reqres.in\n",
      "george.edwards@reqres.in\n",
      "rachel.howell@reqres.in\n"
     ]
    }
   ],
   "source": [
    "di = {\n",
    "  \"page\": 2,\n",
    "  \"per_page\": 6,\n",
    "  \"total\": 12,\n",
    "  \"total_pages\": 2,\n",
    "  \"data\": [\n",
    "    {\n",
    "      \"id\": 7,\n",
    "      \"email\": \"michael.lawson@reqres.in\",\n",
    "      \"first_name\": \"Michael\",\n",
    "      \"last_name\": \"Lawson\",\n",
    "      \"avatar\": \"https://reqres.in/img/faces/7-image.jpg\"\n",
    "    },\n",
    "    {\n",
    "      \"id\": 8,\n",
    "      \"email\": \"lindsay.ferguson@reqres.in\",\n",
    "      \"first_name\": \"Lindsay\",\n",
    "      \"last_name\": \"Ferguson\",\n",
    "      \"avatar\": \"https://reqres.in/img/faces/8-image.jpg\"\n",
    "    },\n",
    "    {\n",
    "      \"id\": 9,\n",
    "      \"email\": \"tobias.funke@reqres.in\",\n",
    "      \"first_name\": \"Tobias\",\n",
    "      \"last_name\": \"Funke\",\n",
    "      \"avatar\": \"https://reqres.in/img/faces/9-image.jpg\"\n",
    "    },\n",
    "    {\n",
    "      \"id\": 10,\n",
    "      \"email\": \"byron.fields@reqres.in\",\n",
    "      \"first_name\": \"Byron\",\n",
    "      \"last_name\": \"Fields\",\n",
    "      \"avatar\": \"https://reqres.in/img/faces/10-image.jpg\"\n",
    "    },\n",
    "    {\n",
    "      \"id\": 11,\n",
    "      \"email\": \"george.edwards@reqres.in\",\n",
    "      \"first_name\": \"George\",\n",
    "      \"last_name\": \"Edwards\",\n",
    "      \"avatar\": \"https://reqres.in/img/faces/11-image.jpg\"\n",
    "    },\n",
    "    {\n",
    "      \"id\": 12,\n",
    "      \"email\": \"rachel.howell@reqres.in\",\n",
    "      \"first_name\": \"Rachel\",\n",
    "      \"last_name\": \"Howell\",\n",
    "      \"avatar\": \"https://reqres.in/img/faces/12-image.jpg\"\n",
    "    }\n",
    "  ],\n",
    "  \"support\": {\n",
    "    \"url\": \"https://contentcaddy.io?utm_source=reqres&utm_medium=json&utm_campaign=referral\",\n",
    "    \"text\": \"Tired of writing endless social media content? Let Content Caddy generate it for you.\"\n",
    "  }\n",
    "}\n",
    "\n",
    "for i in di['data']:\n",
    "    print(i['avatar'][-12::])"
   ]
  },
  {
   "cell_type": "code",
   "execution_count": 39,
   "id": "df5c62dc-7214-4008-bb9a-150c6b6dd3fe",
   "metadata": {},
   "outputs": [
    {
     "name": "stdout",
     "output_type": "stream",
     "text": [
      "michael.lawson\n",
      "lindsay.ferguson\n",
      "tobias.funke\n",
      "byron.fields\n",
      "george.edwards\n",
      "rachel.howell\n"
     ]
    }
   ],
   "source": [
    "\n",
    "\n",
    "for i in di['data']:\n",
    "    print(i['email'].split('@')[0])"
   ]
  },
  {
   "cell_type": "code",
   "execution_count": null,
   "id": "4057caa8-27a6-4000-852b-6772f643b4eb",
   "metadata": {},
   "outputs": [],
   "source": []
  }
 ],
 "metadata": {
  "kernelspec": {
   "display_name": "Python 3 (ipykernel)",
   "language": "python",
   "name": "python3"
  },
  "language_info": {
   "codemirror_mode": {
    "name": "ipython",
    "version": 3
   },
   "file_extension": ".py",
   "mimetype": "text/x-python",
   "name": "python",
   "nbconvert_exporter": "python",
   "pygments_lexer": "ipython3",
   "version": "3.13.2"
  }
 },
 "nbformat": 4,
 "nbformat_minor": 5
}
