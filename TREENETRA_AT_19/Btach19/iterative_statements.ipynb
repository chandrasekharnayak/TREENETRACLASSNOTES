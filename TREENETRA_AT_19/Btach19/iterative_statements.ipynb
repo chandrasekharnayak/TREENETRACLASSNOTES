{
 "cells": [
  {
   "cell_type": "code",
   "execution_count": 1,
   "id": "635268c0-c575-4a31-adde-53d062b7ff6e",
   "metadata": {},
   "outputs": [
    {
     "name": "stdout",
     "output_type": "stream",
     "text": [
      "10\n",
      "20\n",
      "30\n"
     ]
    }
   ],
   "source": [
    "#what is iteration\n",
    "'''iteration is a process of repeatedly executing a block of code until a collection is complitaed or until a certain condition is met.'''\n",
    "'''in python there are 2 types of iteation is avl'''\n",
    "''' for loop (collectional iteration) (str, list, tuple, dict, range etc)'''\n",
    "''' while loop (conditional iteration'''\n",
    "\n",
    "#for loop:- \n",
    "'''for loop in python is used for itearting over the sequence such as lists, tuple, dict and string and others'''\n",
    "\n",
    "# synatx\n",
    "\n",
    "\n",
    "li = [10,20,30]\n",
    "\n",
    "#syntax\n",
    "'''for var_name in  collection_name:\n",
    "        statement'''\n",
    "\n",
    "for i in li:\n",
    "    print(i)\n",
    "\n",
    "\n",
    "\n"
   ]
  },
  {
   "cell_type": "code",
   "execution_count": 3,
   "id": "14a505bc-581d-45d4-93d1-828aab74b160",
   "metadata": {},
   "outputs": [
    {
     "name": "stdout",
     "output_type": "stream",
     "text": [
      "10\n",
      "56\n",
      "34\n",
      "22\n",
      "98\n"
     ]
    }
   ],
   "source": [
    "#write a program check even number in a list and print it.\n",
    "\n",
    "li = [10,33,21,56,34,22,43,11,89,98]\n",
    "\n",
    "\n",
    "for i in li:\n",
    "    if i%2==0:\n",
    "        print(i)"
   ]
  },
  {
   "cell_type": "code",
   "execution_count": 6,
   "id": "b8bc5787-e542-4229-974e-b0ffb5bf5b60",
   "metadata": {},
   "outputs": [
    {
     "name": "stdout",
     "output_type": "stream",
     "text": [
      "qwerty is not a pallindrom\n",
      "mam is a pallindrom\n",
      "you is not a pallindrom\n",
      "ete is a pallindrom\n",
      "madam is a pallindrom\n",
      "ko is not a pallindrom\n"
     ]
    }
   ],
   "source": [
    "#write a program check in a list, fetch pallindrom string\n",
    "\n",
    "li_string = ['qwerty','mam','you','ete','madam','ko']\n",
    "\n",
    "\n",
    "for i in li_string:\n",
    "    if i == i[::-1]:\n",
    "        print(f'{i} is a pallindrom')\n",
    "    else:\n",
    "        print(f'{i} is not a pallindrom')\n",
    "    \n",
    "\n"
   ]
  },
  {
   "cell_type": "code",
   "execution_count": 8,
   "id": "d89e7c28-2ad2-4d16-a148-b66b246c9cf7",
   "metadata": {},
   "outputs": [
    {
     "name": "stdout",
     "output_type": "stream",
     "text": [
      "mam\n",
      "ete\n",
      "madam\n"
     ]
    }
   ],
   "source": [
    "#what is nested condition:- \n",
    "'''\n",
    "i.when inside if write a another if then it called nested condition\n",
    "ii. if outet_if is passed then inner_if will be exceute.\n",
    "\n",
    "if condition:\n",
    "    if condition:\n",
    "        if condition:\n",
    "            if condition:\n",
    "\n",
    "'''\n",
    "\n",
    "\n",
    "#write a program check in a list, fetch pallindrom string\n",
    "\n",
    "li = ['qwerty',12,'mam',45,89,'you','ete',[12,89],(90,98),'madam','ko']\n",
    "\n",
    "\n",
    "for i in li_string:\n",
    "    if type(i)==str:\n",
    "        if i == i[::-1]:\n",
    "            print(i)"
   ]
  },
  {
   "cell_type": "code",
   "execution_count": 13,
   "id": "658aad0b-07df-4749-b807-532ed44448a2",
   "metadata": {},
   "outputs": [
    {
     "name": "stdout",
     "output_type": "stream",
     "text": [
      "454\n",
      "898\n"
     ]
    }
   ],
   "source": [
    "#write a program check in list number is even, if it is check number is pallindrom or not.\n",
    "\n",
    "\n",
    "li = [121,787,454,668,343,898]\n",
    "\n",
    "for i in li:\n",
    "    if i%2==0:\n",
    "        if str(i) == str(i)[::-1]:\n",
    "            print(i)"
   ]
  },
  {
   "cell_type": "code",
   "execution_count": 3,
   "id": "5a0e17d6-75a9-47d4-ad23-affae77a2c80",
   "metadata": {},
   "outputs": [
    {
     "name": "stdout",
     "output_type": "stream",
     "text": [
      "[140, 128, 95, 106, 81, 141]\n"
     ]
    }
   ],
   "source": [
    "#have list of int, and want add 50 in each element and add those element in a another list.\n",
    "\n",
    "li = [90,78,45,56,31,91]\n",
    "\n",
    "new_li = []\n",
    "\n",
    "for i in li:\n",
    "    new_li.append(i+50)\n",
    "print(new_li)\n"
   ]
  },
  {
   "cell_type": "code",
   "execution_count": 7,
   "id": "4fefb1f7-ba68-452b-b62d-f71274453edb",
   "metadata": {},
   "outputs": [
    {
     "name": "stdout",
     "output_type": "stream",
     "text": [
      "[10, 56, 34, 22, 98]\n",
      "[33, 21, 43, 11, 89]\n"
     ]
    }
   ],
   "source": [
    "#write a program check even number or odd number in a list and add them in a new li\n",
    "\n",
    "li = [10,33,21,56,34,22,43,11,89,98]\n",
    "\n",
    "even_li = []\n",
    "odd_li = []\n",
    "\n",
    "for i in li:\n",
    "    if i%2==0:\n",
    "        even_li.append(i)\n",
    "    else:\n",
    "        odd_li.append(i)\n",
    "print(even_li)\n",
    "print(odd_li)\n"
   ]
  },
  {
   "cell_type": "code",
   "execution_count": 10,
   "id": "5c20c300-2a8e-4b7c-a70c-49d0134febb7",
   "metadata": {},
   "outputs": [
    {
     "name": "stdin",
     "output_type": "stream",
     "text": [
      "Enter a list [10,20,30,40]\n"
     ]
    },
    {
     "name": "stdout",
     "output_type": "stream",
     "text": [
      "[10, 20, 30, 40]\n",
      "<class 'list'>\n"
     ]
    }
   ],
   "source": [
    "user_input = eval(input('Enter a list'))\n",
    "\n",
    "print(user_input)\n",
    "print(type(user_input))"
   ]
  },
  {
   "cell_type": "code",
   "execution_count": 18,
   "id": "40527dfe-5d11-4a3d-bb51-ec256af61dec",
   "metadata": {},
   "outputs": [
    {
     "name": "stdout",
     "output_type": "stream",
     "text": [
      "501\n",
      "503\n",
      "505\n",
      "507\n",
      "509\n",
      "511\n",
      "513\n",
      "515\n",
      "517\n",
      "519\n",
      "521\n",
      "523\n",
      "525\n",
      "527\n",
      "529\n",
      "531\n",
      "533\n",
      "535\n",
      "537\n",
      "539\n",
      "541\n",
      "543\n",
      "545\n",
      "547\n",
      "549\n",
      "551\n",
      "553\n",
      "555\n",
      "557\n",
      "559\n",
      "561\n",
      "563\n",
      "565\n",
      "567\n",
      "569\n",
      "571\n",
      "573\n",
      "575\n",
      "577\n",
      "579\n",
      "581\n",
      "583\n",
      "585\n",
      "587\n",
      "589\n",
      "591\n",
      "593\n",
      "595\n",
      "597\n",
      "599\n",
      "601\n",
      "603\n"
     ]
    }
   ],
   "source": [
    "#range :- range is a data type , who create the sequenece of based o start and end number\n",
    "#python is zero based index , so that range by default start from zero.\n",
    "#end position should end with +1.\n",
    "\n",
    "'''\n",
    "syntax\n",
    "\n",
    "range(start,end+1,step)\n",
    "'''\n",
    "\n",
    "#range(5)\n",
    "\n",
    "# print(range(5))\n",
    "\n",
    "'''for var in range(5):\n",
    "    print(var)'''\n",
    "\n",
    "#want to print 1 to 10 help of range\n",
    "\n",
    "'''for i in range(1,11):\n",
    "    print(i)'''\n",
    "\n",
    "\n",
    "#want to print 500 to 603 only odd number\n",
    "\n",
    "'''for i in range(501,604,2):\n",
    "    print(i)'''\n"
   ]
  },
  {
   "cell_type": "code",
   "execution_count": 32,
   "id": "9d617eb5-51f6-4508-a78a-4b47f3eba1af",
   "metadata": {},
   "outputs": [
    {
     "name": "stdout",
     "output_type": "stream",
     "text": [
      "2 90\n",
      "4 56\n",
      "6 25\n",
      "8 43\n",
      "10 35\n",
      "12 8\n",
      "14 3\n",
      "16 456\n",
      "18 98\n",
      "20 876\n",
      "22 98\n",
      "24 645\n",
      "26 45\n"
     ]
    }
   ],
   "source": [
    "li = [67,90,23,56,43,25,67,43,21,35,6,8,4,3,2,456,6,98,777,876,876,98,987,645,87,45]\n",
    "# print(li[1::2])\n",
    "n = len(li)\n",
    "# print(n)\n",
    "\n",
    "for i in range(1,n,2):\n",
    "    print(i+1, li[i])"
   ]
  },
  {
   "cell_type": "code",
   "execution_count": 1,
   "id": "d5981047-0de7-42f8-901c-f1a56a029d1c",
   "metadata": {},
   "outputs": [
    {
     "name": "stdout",
     "output_type": "stream",
     "text": [
      "*\n",
      "*\n",
      "*\n",
      "*\n",
      "*\n"
     ]
    }
   ],
   "source": [
    "#start program\n",
    "'''\n",
    "*\n",
    "*\n",
    "*\n",
    "*\n",
    "*\n",
    "*\n",
    "'''\n",
    "\n",
    "for i in range(5):\n",
    "    print('*')"
   ]
  },
  {
   "cell_type": "code",
   "execution_count": 14,
   "id": "99921e2a-e03a-40f5-a952-67b2925073f3",
   "metadata": {},
   "outputs": [
    {
     "name": "stdout",
     "output_type": "stream",
     "text": [
      "*****"
     ]
    },
    {
     "data": {
      "text/plain": [
       "'\\nin string we are using the escape char.\\n\\nsome times in string \\n1.we are break the line and create a new line\\n2.sometime we will a tab.    gfuyg\\n3.sometime we will need a backspace\\n'"
      ]
     },
     "execution_count": 14,
     "metadata": {},
     "output_type": "execute_result"
    }
   ],
   "source": [
    "'*****'\n",
    "\n",
    "for i in range(5):\n",
    "    print('*',end='')\n",
    "\n",
    "#escape char in python\n",
    "'''\n",
    "in string we are using the escape char.\n",
    "\n",
    "some times in string \n",
    "1.we are break the line and create a new line\n",
    "2.sometime we will a tab.    gfuyg\n",
    "3.sometime we will need a backspace\n",
    "'''\n",
    "\n",
    "# print('hi this side is Subham,\\nam in bhubaneswar')\n",
    "# print('hi this side is Subham,\\tam in bhubaneswar')\n",
    "# print('hi this side is Subham,\\bam in bhubaneswar')\n"
   ]
  },
  {
   "cell_type": "code",
   "execution_count": 15,
   "id": "a156c9bb-a135-4a5f-8b5d-47e3ba3d3c31",
   "metadata": {},
   "outputs": [
    {
     "name": "stdout",
     "output_type": "stream",
     "text": [
      "*\n",
      "**\n",
      "***\n",
      "****\n",
      "*****\n"
     ]
    }
   ],
   "source": [
    "'''\n",
    "*\n",
    "**\n",
    "***\n",
    "****\n",
    "*****\n",
    "'''\n",
    "\n",
    "\n",
    "for i in range(1,6):\n",
    "    print('*'*i)"
   ]
  },
  {
   "cell_type": "code",
   "execution_count": 58,
   "id": "868b2027-ebd1-4b33-ac69-ec7a068ee95e",
   "metadata": {},
   "outputs": [
    {
     "name": "stdout",
     "output_type": "stream",
     "text": [
      "*****\n",
      "****\n",
      "***\n",
      "**\n",
      "*\n"
     ]
    }
   ],
   "source": [
    "'''\n",
    "*****\n",
    "****\n",
    "***\n",
    "**\n",
    "*\n",
    "'''\n",
    "\n",
    "# for i in range(1,6):\n",
    "#     print('*'*(6-i))\n",
    "\n",
    "for i in range(5,0,-1):\n",
    "    print('*'*i)"
   ]
  },
  {
   "cell_type": "code",
   "execution_count": 18,
   "id": "5c303b42-371c-41b6-acfd-5f4893453cef",
   "metadata": {},
   "outputs": [
    {
     "name": "stdout",
     "output_type": "stream",
     "text": [
      "*\n",
      "**\n",
      "***\n",
      "****\n",
      "*****\n",
      "****\n",
      "***\n",
      "**\n",
      "*\n"
     ]
    }
   ],
   "source": [
    "'''\n",
    "*\n",
    "**\n",
    "***\n",
    "****\n",
    "*****\n",
    "****\n",
    "***\n",
    "**\n",
    "*\n",
    "'''\n",
    "\n",
    "\n",
    "for i in range(1,6):\n",
    "    print('*'*i)\n",
    "for j in range(1,5):\n",
    "    print('*'*(5-j))"
   ]
  },
  {
   "cell_type": "code",
   "execution_count": 22,
   "id": "c75997cd-4742-4c5d-bec2-c5e95720742f",
   "metadata": {},
   "outputs": [
    {
     "name": "stdin",
     "output_type": "stream",
     "text": [
      "Enter your number:- 5\n"
     ]
    },
    {
     "name": "stdout",
     "output_type": "stream",
     "text": [
      "1\n",
      "22\n",
      "333\n",
      "4444\n",
      "55555\n"
     ]
    }
   ],
   "source": [
    "'''\n",
    "1\n",
    "22\n",
    "333\n",
    "4444\n",
    "55555\n",
    "'''\n",
    "\n",
    "n = int(input('Enter your number:-'))\n",
    "\n",
    "for i in range(1,n+1):\n",
    "    print(str(i)*i)\n",
    "\n"
   ]
  },
  {
   "cell_type": "code",
   "execution_count": 23,
   "id": "20ea0fae-9da4-4706-ad5c-378540bafbf8",
   "metadata": {},
   "outputs": [
    {
     "name": "stdout",
     "output_type": "stream",
     "text": [
      "1\n",
      "22\n",
      "333\n",
      "4444\n",
      "55555\n",
      "5555\n",
      "555\n",
      "55\n",
      "5\n"
     ]
    }
   ],
   "source": [
    "'''\n",
    "1\n",
    "22\n",
    "333\n",
    "4444\n",
    "55555\n",
    "4444\n",
    "333\n",
    "22\n",
    "1\n",
    "'''\n",
    "\n",
    "for i in range(1,6):\n",
    "    print(str(i)*i)\n",
    "for j in range(1,5):\n",
    "    print(str(i)*(5-j))"
   ]
  },
  {
   "cell_type": "code",
   "execution_count": 25,
   "id": "b0d2e1de-a301-4501-be48-612ba19d757c",
   "metadata": {},
   "outputs": [
    {
     "name": "stdout",
     "output_type": "stream",
     "text": [
      "   * \n",
      "  * * \n",
      " * * * \n"
     ]
    }
   ],
   "source": [
    "'''\n",
    "  *\n",
    " * *\n",
    "* * *\n",
    "'''\n",
    "\n",
    "for i in range(1,4):\n",
    "    print(' '*(3-i),'* '*i)\n",
    "\n",
    "\n"
   ]
  },
  {
   "cell_type": "code",
   "execution_count": 36,
   "id": "15c43494-7c94-4744-852d-dbed7b459805",
   "metadata": {},
   "outputs": [
    {
     "name": "stdout",
     "output_type": "stream",
     "text": [
      "     *\n",
      "    ***\n",
      "   *****\n",
      "  *******\n",
      " *********\n"
     ]
    }
   ],
   "source": [
    "'''\n",
    "    *\n",
    "   ***\n",
    "  *****\n",
    " *******\n",
    "*********\n",
    "\n",
    "'''\n",
    "for i in range(1,6):\n",
    "    print(' '*(5-i),'*'*(2*i-1))"
   ]
  },
  {
   "cell_type": "code",
   "execution_count": 42,
   "id": "c53a5d51-3fa2-4558-b4df-0bc02b232516",
   "metadata": {},
   "outputs": [
    {
     "name": "stdout",
     "output_type": "stream",
     "text": [
      " *********\n",
      "  *******\n",
      "   *****\n",
      "    ***\n",
      "     *\n"
     ]
    }
   ],
   "source": [
    "'''\n",
    "*********\n",
    " *******\n",
    "  *****\n",
    "   ***\n",
    "    *\n",
    "'''\n",
    "\n",
    "'''for i in range(5,0,-1):\n",
    "    print(' '*(5-i),'*'*(2*i-1))'''"
   ]
  },
  {
   "cell_type": "code",
   "execution_count": 45,
   "id": "9a50d879-492d-4e49-8da0-f05b6d41978e",
   "metadata": {},
   "outputs": [
    {
     "name": "stdout",
     "output_type": "stream",
     "text": [
      "10\n",
      "20\n",
      "1\n",
      "30\n",
      "40\n",
      "2\n",
      "50\n",
      "60\n",
      "3\n",
      "70\n",
      "80\n",
      "4\n",
      "5\n",
      "6\n",
      "7\n",
      "8\n",
      "9\n"
     ]
    }
   ],
   "source": [
    "#nested for \n",
    "''' when we will declare for inside a for that's called nested for\n",
    "\n",
    "collection inside a collection then use nested for.\n",
    "\n",
    "list -- list\n",
    "list-- tuple\n",
    "list-- string\n",
    "list-- dict\n",
    "tuple -- tuple \n",
    "tuple--list\n",
    "tuple--string\n",
    "dict---list\n",
    "dict--dict\n",
    "\n",
    "\n",
    "\n",
    "\n",
    "'''\n",
    "\n",
    "#var : A\n",
    "#var : B\n",
    "#bar :C\n",
    "\n",
    "'''\n",
    "for var in x:\n",
    "    for new_var in var\n",
    "    '''\n",
    "\n",
    "li = [ \n",
    "    [10,20,1],\n",
    "    [30,40,2],\n",
    "    [50,60,3],\n",
    "    [70,80,4,5,6,7,8,9]\n",
    "]\n",
    "\n",
    "#var :70,80,4,5,6,7,8,9]\n",
    "for var in li:#4\n",
    "    for new_var in var:#17\n",
    "        print(new_var)\n",
    "    "
   ]
  },
  {
   "cell_type": "code",
   "execution_count": 3,
   "id": "ea5fe448-38af-4625-b50a-c8dfe092a965",
   "metadata": {},
   "outputs": [
    {
     "name": "stdout",
     "output_type": "stream",
     "text": [
      "1 1\n",
      "1 2\n",
      "2 1\n",
      "2 2\n",
      "3 1\n",
      "3 2\n",
      "4 1\n",
      "4 2\n",
      "5 1\n",
      "5 2\n"
     ]
    },
    {
     "data": {
      "text/plain": [
       "'\\n1 1\\n1 2\\n1 3\\n1 4\\n1 5\\n2 1\\n2 2\\n2 3\\n2 4\\n2 5\\n'"
      ]
     },
     "execution_count": 3,
     "metadata": {},
     "output_type": "execute_result"
    }
   ],
   "source": [
    "#range nested for\n",
    "\n",
    "for i in range(1,6):#outer for loop\n",
    "    for j in range(1,3):#inner for loop\n",
    "        print(i,j)\n",
    "\n",
    "'''\n",
    "1 1\n",
    "1 2\n",
    "1 3\n",
    "1 4\n",
    "1 5\n",
    "2 1\n",
    "2 2\n",
    "2 3\n",
    "2 4\n",
    "2 5\n",
    "'''\n",
    "\n",
    "# A- 1 2 3,4\n",
    "# B- 1 2 3\n",
    "# C -1 \n",
    "\n",
    "# for i in my_home:\n",
    "#     for j in i:\n",
    "# A1\n",
    "# A2\n",
    "# A3\n",
    "# A4\n",
    "# B1\n",
    "# B2\n",
    "# B3\n",
    "# C1\n",
    "\n",
    "\n",
    "\n",
    "\n",
    "\n"
   ]
  },
  {
   "cell_type": "code",
   "execution_count": 6,
   "id": "e509d455-9421-40e7-8af3-782d514885f8",
   "metadata": {},
   "outputs": [
    {
     "name": "stdout",
     "output_type": "stream",
     "text": [
      "90\n",
      "97\n"
     ]
    }
   ],
   "source": [
    "li = [ 10,78.89,[90,97]]\n",
    "\n",
    "'''\n",
    "90\n",
    "97'''\n",
    "\n",
    "for i in li:\n",
    "    if type(i)==list:\n",
    "        for j in i:\n",
    "            print(j)"
   ]
  },
  {
   "cell_type": "code",
   "execution_count": 8,
   "id": "cdae5429-6b9a-48d6-801e-1aba761c6c9a",
   "metadata": {},
   "outputs": [
    {
     "name": "stdout",
     "output_type": "stream",
     "text": [
      "qwerty\n",
      "ty\n"
     ]
    }
   ],
   "source": [
    "li = [ 78,79.89,[78,90,'qwerty'],['ty',787]]\n",
    "\n",
    "for i in li:\n",
    "    if type(i)==list:\n",
    "        for j in i:\n",
    "            if type(j)==str:\n",
    "                print(j)\n",
    "            \n",
    "\n",
    "\n"
   ]
  },
  {
   "cell_type": "code",
   "execution_count": 12,
   "id": "cd5b9142-eb8f-4d7e-85ce-b2859afb0a5e",
   "metadata": {},
   "outputs": [
    {
     "name": "stdout",
     "output_type": "stream",
     "text": [
      "56\n",
      "78\n",
      "91\n",
      "92\n",
      "56\n",
      "76\n"
     ]
    }
   ],
   "source": [
    "li = [10,89.90,(56,78),[91,92],{56,76}]\n",
    "collection_name = [list,tuple,set,frozenset,bytes,bytearray]\n",
    "\n",
    "for i in li:\n",
    "    if type(i) in collection_name:\n",
    "        for j in i :\n",
    "            print(j)"
   ]
  },
  {
   "cell_type": "code",
   "execution_count": 15,
   "id": "b2f6ca90-ec86-4fa8-82b5-46729f5e8170",
   "metadata": {},
   "outputs": [
    {
     "name": "stdout",
     "output_type": "stream",
     "text": [
      "10\n",
      "20\n",
      "30\n",
      "40\n"
     ]
    }
   ],
   "source": [
    "# li = [[10,20],[30,40]]\n",
    "\n",
    "# for i in li:\n",
    "#     for j in i:\n",
    "#         print(j)"
   ]
  },
  {
   "cell_type": "code",
   "execution_count": 19,
   "id": "f628e5eb-89f6-4f53-9686-bd01efa5e0b4",
   "metadata": {},
   "outputs": [
    {
     "name": "stdout",
     "output_type": "stream",
     "text": [
      "dict_items([('Name', 'Vivek'), ('Age', 24), ('Salary', 56000)])\n",
      "Name Vivek\n",
      "Age 24\n",
      "Salary 56000\n"
     ]
    }
   ],
   "source": [
    "# for loop use in a dictionary\n",
    "'''in dictionary if we are useing normal generic for loop, then only keys are extract.\n",
    "in dictionary if we are extracting both key and value then use dict items().\n",
    "'''\n",
    "\n",
    "\n",
    "di = {'Name':'Vivek','Age':24,'Salary':56000}\n",
    "print(di.items())\n",
    "\n",
    "for key,value in di.items():\n",
    "    print(key,value)"
   ]
  },
  {
   "cell_type": "code",
   "execution_count": 28,
   "id": "a161aeb9-debf-4170-98e3-ecea886475f4",
   "metadata": {},
   "outputs": [
    {
     "name": "stdout",
     "output_type": "stream",
     "text": [
      "Math\n",
      "Science\n",
      "History\n"
     ]
    }
   ],
   "source": [
    "di = {'Name':'Vivek','Age':24,'Salary':56000,'subject':['Math','Science','History']}\n",
    "\n",
    "#normal way\n",
    "\n",
    "'''for key,value in di.items():\n",
    "    if key =='subject':\n",
    "        for j in value:\n",
    "            print(j)'''\n",
    "\n",
    "'''for i in di.get('subject'):\n",
    "    print(i)'''\n",
    "\n",
    "'''for i in di['subject']:\n",
    "    print(i)'''\n"
   ]
  },
  {
   "cell_type": "code",
   "execution_count": null,
   "id": "03dcdfe5-685b-4335-bfaa-da1a96802460",
   "metadata": {},
   "outputs": [],
   "source": [
    "#next upcoming ex\n",
    "'''\n",
    "1. for using list with dict\n",
    "2. for using dict with dict\n",
    "3. for using in string and some prac problems.\n",
    "4. for using in list and some prac problem.\n",
    "5. for using string,list,dict some prac problem\n",
    "'''\n",
    "\n",
    "# 6 to 7 class"
   ]
  },
  {
   "cell_type": "code",
   "execution_count": 28,
   "id": "57ca1749-f0c0-420b-b967-12d90098b348",
   "metadata": {},
   "outputs": [
    {
     "name": "stdout",
     "output_type": "stream",
     "text": [
      "Chandan\n",
      "Nitya\n"
     ]
    }
   ],
   "source": [
    "# for using list with dict\n",
    "\n",
    "li = [\n",
    "    {'id':1,'Name':'Chandan','Salary':78000,'Dept':'QA','Language':['Python','Java','C++']},\n",
    "    {'id':2,'Name':'Vivek','Salary':67000,'Dept':'Dev','Language':['Golang','Perl','C++']},\n",
    "    {'id':3,'Name':'Ratnakar','Salary':54000,'Dept':'Dev','Language':['C','Java Scripts','Bootsrap']},\n",
    "    {'id':4,'Name':'Kiran','Salary':84000,'Dept':'QA','Language':['C','dotnet','Golang']},\n",
    "    {'id':5,'Name':'Nitya','Salary':67000,'Dept':'Cloud','Language':['Python','Java','C++']},\n",
    "    {'id':6,'Name':'Rupali','Salary':90100,'Dept':'Cloud','Language':['Golang','dotnet','Bootstrap']},\n",
    "    {'id':7,'Name':'Mohan','Salary':74000,'Dept':'Dev','Language':['Java','Perl','C']},\n",
    "    \n",
    "]\n",
    "\n",
    "'''for i in li:\n",
    "    print(type(i))'''\n",
    "\n",
    "#those salary are more then 80k, print them name.\n",
    "'''for i in li:\n",
    "    if i['Salary']>80000:\n",
    "        print(i['Name'])'''\n",
    "\n",
    "#those dept is QA, print them name.\n",
    "\n",
    "'''for i in li:\n",
    "    if i['Dept']=='QA':\n",
    "        print(i['Name'])'''\n",
    "\n",
    "\n",
    "#write for program fetch salary less than 60k and above than 90k, add them salary and return those name\n",
    "\n",
    "'''salary_sum = 0\n",
    "for i in li:\n",
    "    if i['Salary']<60000 or i['Salary']>90000:\n",
    "        print(i['Name'] ,i['Salary'])\n",
    "        salary_sum = salary_sum+i['Salary']\n",
    "\n",
    "print(salary_sum)'''\n",
    "'''li =[10,20,30]\n",
    "\n",
    "sum=0\n",
    "\n",
    "for i in li:\n",
    "    sum = sum+i\n",
    "print(sum)'''\n",
    "\n",
    "\n",
    "#if name is kiran fetch language\n",
    "\n",
    "'''for i in li:\n",
    "    if i['Name']=='Kiran':\n",
    "        print(i['Language'])'''\n",
    "\n",
    "\n",
    "#fetch the name who is preffered python in language.\n",
    "\n",
    "for i in li:\n",
    "    if 'Python' in i['Language']:\n",
    "        print(i['Name'])\n"
   ]
  },
  {
   "cell_type": "code",
   "execution_count": 18,
   "id": "7f3a5f41-0675-40fa-b2ae-ef99ca77af33",
   "metadata": {},
   "outputs": [
    {
     "name": "stdout",
     "output_type": "stream",
     "text": [
      "Byron\n",
      "George\n",
      "Rachel\n"
     ]
    }
   ],
   "source": [
    "di = {\n",
    "    \"page\": 2,\n",
    "    \"per_page\": 6,\n",
    "    \"total\": 12,\n",
    "    \"total_pages\": 2,\n",
    "    \"data\": [\n",
    "        {\n",
    "            \"id\": 7,\n",
    "            \"email\": \"michael.lawson@reqre.in\",\n",
    "            \"first_name\": \"Michael\",\n",
    "            \"last_name\": \"Lawson\",\n",
    "            \"avatar\": \"https://reqres.in/img/faces/7-image.jpg\"\n",
    "        },\n",
    "        {\n",
    "            \"id\": 8,\n",
    "            \"email\": \"lindsay.ferguson@reqres.in\",\n",
    "            \"first_name\": \"Lindsay\",\n",
    "            \"last_name\": \"Ferguson\",\n",
    "            \"avatar\": \"https://reqres.in/img/faces/8-image.jpg\"\n",
    "        },\n",
    "        {\n",
    "            \"id\": 9,\n",
    "            \"email\": \"tobias.funke@reqres.in\",\n",
    "            \"first_name\": \"Tobias\",\n",
    "            \"last_name\": \"Funke\",\n",
    "            \"avatar\": \"https://reqres.in/img/faces/9-image.jpg\"\n",
    "        },\n",
    "        {\n",
    "            \"id\": 10,\n",
    "            \"email\": \"byron.fields@reqres.in\",\n",
    "            \"first_name\": \"Byron\",\n",
    "            \"last_name\": \"Fields\",\n",
    "            \"avatar\": \"https://reqres.in/img/faces/10-image.jpg\"\n",
    "        },\n",
    "        {\n",
    "            \"id\": 11,\n",
    "            \"email\": \"george.edwards@reqres.in\",\n",
    "            \"first_name\": \"George\",\n",
    "            \"last_name\": \"Edwards\",\n",
    "            \"avatar\": \"https://reqres.in/img/faces/11-image.jpg\"\n",
    "        },\n",
    "        {\n",
    "            \"id\": 12,\n",
    "            \"email\": \"rachel.howell@reqres.in\",\n",
    "            \"first_name\": \"Rachel\",\n",
    "            \"last_name\": \"Howell\",\n",
    "            \"avatar\": \"https://reqres.in/img/faces/12-image.jpg\"\n",
    "        }\n",
    "    ],\n",
    "    \"support\": {\n",
    "        \"url\": \"https://contentcaddy.io?utm_source=reqres&utm_medium=json&utm_campaign=referral\",\n",
    "        \"text\": \"Tired of writing endless social media content? Let Content Caddy generate it for you.\"\n",
    "    }\n",
    "}\n",
    "\n",
    "'''for i in di.keys():\n",
    "    print(i)'''\n",
    "\n",
    "\n",
    "#fetch the email id of Lindsay\n",
    "\n",
    "'''for i in di['data']:\n",
    "    if i['first_name'] =='Lindsay':\n",
    "        print(i['email'])'''\n",
    "\n",
    "\n",
    "#check all the email id domain name is same or not\n",
    "'''for i in di['data']:\n",
    "    position_at = i['email'].find('@')\n",
    "    position_dot = i['email'].find('.in')\n",
    "    # print(position_at,position_dot)\n",
    "    domain_check = i['email'][position_at+1:position_dot]\n",
    "    if domain_check == 'reqres':\n",
    "        print(True,i['first_name'])\n",
    "    else:\n",
    "        print(False,i['first_name'])'''\n",
    "#fetch those name , id between 10 to 12\n",
    "\n",
    "'''for i in di['data']:\n",
    "    if i['id']>=10 and i['id']<=12:\n",
    "        print(i['first_name'])'''"
   ]
  },
  {
   "cell_type": "code",
   "execution_count": 23,
   "id": "73b005ec-0568-48ea-83ea-b6516df85177",
   "metadata": {},
   "outputs": [
    {
     "name": "stdout",
     "output_type": "stream",
     "text": [
      "['H', 'C', 'L']\n",
      "['s', 'y', 's', 'o', 'f', 'n', 'I']\n",
      "LCHsysofnI\n"
     ]
    },
    {
     "data": {
      "text/plain": [
       "\"st = 'qwerty'\\nrev_st = ''\\nfor i in st:\\n    rev_st = i+rev_st\\nprint(rev_st)\""
      ]
     },
     "execution_count": 23,
     "metadata": {},
     "output_type": "execute_result"
    }
   ],
   "source": [
    "#string iteartion\n",
    "\n",
    "#all are without using any inbuid function, or mimum using inbuild\n",
    "\n",
    "'''st = 'vivek dash'\n",
    "\n",
    "for i in st:\n",
    "    print(i)'''\n",
    "\n",
    "#count each occurance of string chars.\n",
    "'''\n",
    "1.want to create a dict, coz dict not allowed dupliactes key\n",
    "2.itearte the string with help of for loop.\n",
    "3.want to check iteration each value present in the dictionary or not.\n",
    "4. if it is present then increase value count one by one\n",
    "5. if it is not present then mention the count is 1.\n",
    "\n",
    "\n",
    "\n",
    "'''\n",
    "\n",
    "'''st = 'i love india india is best'\n",
    "\n",
    "char_count = {}\n",
    "\n",
    "for i in st:\n",
    "    if i in char_count:\n",
    "        char_count[i]+=1\n",
    "    else:\n",
    "        char_count[i]=1\n",
    "print(char_count)'''\n",
    "\n",
    "#count each word of occurance\n",
    "\n",
    "st = 'i love india india is best'\n",
    "\n",
    "'''words = st.split()\n",
    "\n",
    "word_count = {}\n",
    "\n",
    "for i in words:\n",
    "    if i in word_count:\n",
    "        word_count[i]+=1\n",
    "    else:\n",
    "        word_count[i]=1\n",
    "\n",
    "for k,v in word_count.items():\n",
    "    if v>1:\n",
    "        print(k,v)'''\n",
    "\n",
    "\n",
    "#3\n",
    "st = 'aabbbaacdddbb'\n",
    "# output ='2a3b2a1c3d2b'\n",
    "\n",
    "'''result = ''\n",
    "count = 1\n",
    "n = len(st)\n",
    "\n",
    "for i in range(1,n):#4. b b\n",
    "    if st[i] == st[i-1]:\n",
    "        count+=1\n",
    "    else:\n",
    "        result = result+str(count)+st[i-1]\n",
    "        count = 1\n",
    "\n",
    "result = result+str(count)+st[-1]\n",
    "print(result)'''\n",
    "\n",
    "#5  \n",
    "st = 'HCL123Infosys'\n",
    "# output = 'LCH123sysofnI'\n",
    "LCHsysofnI\n",
    "\n",
    "first_half = []\n",
    "for i in st:\n",
    "    if i.isdigit():\n",
    "        break\n",
    "    else:\n",
    "        first_half.append(i)\n",
    "print(first_half)\n",
    "\n",
    "second_half = []\n",
    "for i in st[::-1]:\n",
    "    if i.isdigit():\n",
    "        break\n",
    "    else:\n",
    "        second_half.append(i)\n",
    "print(second_half)\n",
    "\n",
    "merge_list = first_half[::-1]+second_half\n",
    "\n",
    "result  =''.join(merge_list)\n",
    "print(result)\n",
    "\n",
    "\n",
    "\n",
    "    \n",
    "\n",
    "#4 found the longest substring without any repeatation\n",
    "\n",
    "# st = 'abccbdabce'\n",
    "# dabce\n",
    "\n",
    "#5 write program to reverse a string without using slicing.\n",
    "\n",
    "'''st = 'qwerty'\n",
    "rev_st = ''\n",
    "for i in st:\n",
    "    rev_st = i+rev_st\n",
    "print(rev_st)'''\n",
    "    \n",
    "\n",
    "\n"
   ]
  },
  {
   "cell_type": "code",
   "execution_count": null,
   "id": "22e640b2-7694-4e07-863b-0a6ea9b7b258",
   "metadata": {},
   "outputs": [],
   "source": [
    "application --- chrome -- firefox -- deployment"
   ]
  },
  {
   "cell_type": "code",
   "execution_count": 34,
   "id": "0cbc3e84-c741-45b6-80a2-65ee9438e4b2",
   "metadata": {},
   "outputs": [
    {
     "name": "stdout",
     "output_type": "stream",
     "text": [
      "[20, [30, [40, 50, [60]]]] 20\n",
      "[20, [30, [40, 50, [60]]]] [30, [40, 50, [60]]]\n"
     ]
    }
   ],
   "source": [
    "#list\n",
    "#1. sort a list without using inbuit function\n",
    "\n",
    "'''li = [99,89,23,45,32,27,78,91]\n",
    "n = len(li)\n",
    "\n",
    "for i in range(n):\n",
    "    for j in range(0,n-i-1):\n",
    "        if li[j]>li[j+1]:\n",
    "            li[j],li[j+1]=li[j+1],li[j]\n",
    "print(li)\n",
    "\n",
    "#acce\n",
    "#des'''\n",
    "\n",
    "#write a program find the 2nd largest number in a list.\n",
    "\n",
    "'''li = [99,89,23,45,32,27,78,91]\n",
    "\n",
    "max = 0\n",
    "sec_max = 0\n",
    "third_max= 0\n",
    "\n",
    "for i in li:\n",
    "    if i>max:\n",
    "        third_max = sec_max\n",
    "        sec_max = max\n",
    "        max = i\n",
    "    elif i>sec_max and i!=max:\n",
    "        third_max = sec_max\n",
    "        sec_max = i\n",
    "    elif i>third_max and i != sec_max:\n",
    "        third_max = i\n",
    "print(max)\n",
    "print(sec_max)\n",
    "print(third_max)'''\n",
    "\n",
    "\n",
    "#3 find the missing number in the list\n",
    "\n",
    "'''li = [3,5,2,1,4,7]\n",
    "#find length including missing.\n",
    "n = len(li)+1\n",
    "\n",
    "excepeted_sum = n*(n+1)//2\n",
    "actual_sum = sum(li)\n",
    "missing_num = excepeted_sum - actual_sum\n",
    "print(missing_num)'''\n",
    "\n",
    "#4 \n",
    "\n",
    "'''li = [1,7,5,2,3,6,4]\n",
    "target = 8\n",
    "# [(1,7),(5,3),(2,6)\n",
    "\n",
    "n = len(li)\n",
    "new_li = []\n",
    "\n",
    "for i in range(n):\n",
    "    for j in range(0,n-i-1):\n",
    "        if li[i]+li[j+i+1] == target:\n",
    "            new_li.append((li[i],li[j+i+1]))\n",
    "\n",
    "print(new_li)'''\n",
    "\n",
    "# 5\n",
    "\n",
    "li = [10,[20,[30,[40,50,[60]]]]]\n",
    "ot = [10,20,30,40,50,60]\n",
    "\n",
    "\n",
    "#list comp\n",
    "#dict Comp\n",
    "#terenarry op\n",
    "#shallow copy\n",
    "#deep copy\n",
    "#while\n",
    "#transfor statement"
   ]
  },
  {
   "cell_type": "code",
   "execution_count": 10,
   "id": "1f0195d3-ed71-45f0-a954-105b7f9195d3",
   "metadata": {},
   "outputs": [
    {
     "name": "stdout",
     "output_type": "stream",
     "text": [
      "[202, 212, 222, 232, 242, 252, 262, 272, 282, 292]\n"
     ]
    }
   ],
   "source": [
    "#list comp\n",
    "\n",
    "\n",
    "#comprehension :- inside the bracket iterate the for loop and fetch the result and store in that data strc.\n",
    "#list comp = [i for i in collection]\n",
    "\n",
    "'''var = [i for i in range(1,11)]\n",
    "print(var)'''\n",
    "\n",
    "#terenarry op\n",
    "#terenarry op :- write if and else condition in a single line.\n",
    "# syntax\n",
    "\n",
    "# var = if_statement if condition else else_statement\n",
    "'''i = 10\n",
    "var = 'Even' if i%2==0 else 'Odd'\n",
    "print(var)'''\n",
    "\n",
    "#write list comprehension generate even of 1 to 11\n",
    "\n",
    "'''var  = [i for i in range(1,11) if i%2==0]\n",
    "print(var)'''\n",
    "\n",
    "#write a list comprehension generate 200 to 300 check the number is pallindrom and even\n",
    "\n",
    "'''var = [i for i in range(200,301) if i%2==0 if str(i)==str(i)[::-1]]\n",
    "print(var)'''\n",
    "\n",
    "\n"
   ]
  },
  {
   "cell_type": "code",
   "execution_count": 16,
   "id": "f2407706-0808-4ace-b5d6-a0679cb41c5d",
   "metadata": {},
   "outputs": [
    {
     "name": "stdout",
     "output_type": "stream",
     "text": [
      "{'qwerty': 6, 'ghji': 4, 'vb': 2, 'xcvbnm': 6}\n"
     ]
    }
   ],
   "source": [
    "#dict Comp :- {key:value for i in collection}\n",
    "\n",
    "'''var = {i:i**3 for i in range(1,11)}\n",
    "print(var)'''\n",
    "\n",
    "'''li = ['qwerty',56,'ghji','vb',67,'xcvbnm']\n",
    "\n",
    "var = {i:len(i) for i in li if type(i)==str}\n",
    "print(var)'''\n",
    "\n",
    "li = ['qwerty',56,'ghji','vb',67,'xcvbnm']\n"
   ]
  },
  {
   "cell_type": "code",
   "execution_count": 20,
   "id": "0ba66b19-23fc-468f-8a03-0b64554baf3d",
   "metadata": {},
   "outputs": [
    {
     "name": "stdout",
     "output_type": "stream",
     "text": [
      "6\n"
     ]
    }
   ],
   "source": [
    "#transfor statement(break,continue,pass)\n",
    "#break :- based the on condition it will break loop, once it breaks loop, not excute any more.\n",
    "\n",
    "'''for i in range(1,11):\n",
    "    if i==6:\n",
    "        break\n",
    "    print(i)'''\n",
    "\n",
    "#continue :- skip the iteration based on the condition\n",
    "\n",
    "'''for i in range(1,11):\n",
    "    if i%2==0:\n",
    "        continue\n",
    "    print(i)\n",
    "'''\n",
    "#pass :- pass the statement.\n",
    "for i in range(1,11):\n",
    "    pass\n",
    "\n",
    "if 2%2==0:\n",
    "    pass\n",
    "\n",
    "def f1():\n",
    "    pass\n",
    "\n",
    "class F:\n",
    "    pass\n",
    "    \n",
    "\n",
    "\n",
    "\n",
    "\n",
    "\n",
    "\n"
   ]
  },
  {
   "cell_type": "code",
   "execution_count": 31,
   "id": "733a7cfb-3613-4f83-823d-78254d022f2f",
   "metadata": {},
   "outputs": [
    {
     "name": "stdout",
     "output_type": "stream",
     "text": [
      "old_li:- [[100, 20], [30, 40]]\n",
      "new_li:- [[100, 20], [30, 40]]\n"
     ]
    }
   ],
   "source": [
    "#shallow copy -- main object -- copy --- main object \n",
    "#deep copy\n",
    "import copy \n",
    "\n",
    "old_li = [[10,20],[30,40]]\n",
    "new_li = copy.copy(old_li)\n",
    "\n",
    "old_li[0][0]=100\n",
    "\n",
    "print('old_li:-',old_li)\n",
    "print('new_li:-',new_li)\n",
    "\n",
    "#deep copy\n",
    "\n",
    "old_li = [[10,20],[30,40]]\n",
    "new_li = copy.deepcopy(old_li)\n",
    "\n",
    "old_li[0][0]=100\n",
    "\n",
    "print('old_li:-',old_li)\n",
    "print('new_li:-',new_li)\n",
    "\n",
    "\n",
    "#while"
   ]
  },
  {
   "cell_type": "code",
   "execution_count": null,
   "id": "84924ea0-bc51-4ee1-90d5-3b7cbe7a2ecf",
   "metadata": {},
   "outputs": [],
   "source": [
    "#while loop\n",
    "'''\n",
    "conditional Iteration:- if condition is satisfied then iteration will start, till condition failed.\n",
    "Boolean \n",
    "\n",
    "if statement will True, then iteration will execute, till boolean value is False. that know as while loop\n",
    "\n",
    "syntax\n",
    "\n",
    "while condition:\n",
    "    statement\n",
    "\n",
    "'''\n",
    "\n",
    "#write program to print 1 to 10 with the help of while loop.\n",
    "\n",
    "num = 1 \n",
    "while num<=10:\n",
    "    print(num)\n",
    "    num= num+1\n",
    "    \n",
    "\n",
    "\n"
   ]
  },
  {
   "cell_type": "code",
   "execution_count": null,
   "id": "fb36f0ac-fe62-4838-bdfa-4ffdf0d219b7",
   "metadata": {},
   "outputs": [],
   "source": [
    "#print fisrt 10 num sum with help of while loop"
   ]
  },
  {
   "cell_type": "code",
   "execution_count": null,
   "id": "a5b8c2e7-4b0b-4361-aacc-09603437d200",
   "metadata": {},
   "outputs": [],
   "source": [
    "\n",
    "\n",
    "#print fisrt 10 num sum with help of while loop\n",
    "\n",
    "'''num = 1\n",
    "sum = 0\n",
    "while num<=10:\n",
    "    print(num)\n",
    "    sum = sum+num\n",
    "    num= num+1\n",
    "print(sum)'''\n",
    "\n",
    "#reverse a string with help of while loop.\n",
    "\n",
    "'''st = 'Python'\n",
    "# ot = 'nohtyp'\n",
    "\n",
    "reverse_st = ''\n",
    "n = len(st)-1\n",
    "\n",
    "while n>=0:\n",
    "    reverse_st = reverse_st+st[n]\n",
    "    n = n-1\n",
    "print(reverse_st)'''\n",
    "\n",
    "#in string the counts the vowels help of while loop.\n",
    "\n",
    "'''st = 'programming mania'\n",
    "vowels = 'aeiouAEIOU'\n",
    "count = 0\n",
    "i= 0\n",
    "\n",
    "while i <len(st):\n",
    "    if st[i] in vowels:\n",
    "        count = count+1\n",
    "    i= i+1\n",
    "\n",
    "print(count)'''\n",
    "\n",
    "\n",
    "#write while program remove the space in this string.\n",
    "\n",
    "'''st = 'vivek das'\n",
    "n  = len(st)-1\n",
    "i = 0\n",
    "\n",
    "while i<=n:\n",
    "    if st[i]!=' ':\n",
    "        print(st[i])\n",
    "    i = i+1'''\n",
    "\n",
    "\n",
    "#have string , from string some space is their and end some space is their, remove spaces.\n",
    "'''\n",
    "lstrip\n",
    "rstrip'''\n",
    "\n",
    "\n",
    "st = '       vivek das           '\n",
    "\n",
    "\n",
    "n = len(st)-1\n",
    "i =0\n",
    "\n",
    "#i value increase and skip the space\n",
    "while i<=n and st[i]==' ':\n",
    "    i= i+1\n",
    "\n",
    "\n",
    "new_st = ''\n",
    "\n",
    "while i<len(st):\n",
    "    new_st = new_st+st[i]\n",
    "    i=i+1\n",
    "print(new_st)\n",
    "print(len(new_st))\n",
    "\n",
    "\n",
    "\n",
    "#print each char in while loop\n",
    "#reverse a string using while loop."
   ]
  },
  {
   "cell_type": "code",
   "execution_count": null,
   "id": "2a77e467-2733-418a-9fbd-b87e70cc0c15",
   "metadata": {},
   "outputs": [],
   "source": []
  },
  {
   "cell_type": "code",
   "execution_count": null,
   "id": "fc194f16-9b1f-49d6-9e64-a67ecd7cf77f",
   "metadata": {},
   "outputs": [],
   "source": []
  },
  {
   "cell_type": "code",
   "execution_count": null,
   "id": "b99e29b1-9518-43e1-bbe8-3aa50319c2a1",
   "metadata": {},
   "outputs": [],
   "source": []
  },
  {
   "cell_type": "code",
   "execution_count": null,
   "id": "7406908e-7319-47a9-9959-88592248fc1e",
   "metadata": {},
   "outputs": [],
   "source": []
  },
  {
   "cell_type": "code",
   "execution_count": null,
   "id": "e8f7002c-760f-464e-99ee-3d4506a85ff1",
   "metadata": {},
   "outputs": [],
   "source": []
  },
  {
   "cell_type": "code",
   "execution_count": null,
   "id": "c1ea0b95-76ba-4bf8-9133-3f109934ed0d",
   "metadata": {},
   "outputs": [],
   "source": []
  },
  {
   "cell_type": "code",
   "execution_count": null,
   "id": "02940a3b-c0c7-4826-8d30-3bd5fd46e63d",
   "metadata": {},
   "outputs": [],
   "source": []
  },
  {
   "cell_type": "code",
   "execution_count": null,
   "id": "e077fa92-20f3-47b4-a06c-343d6517f860",
   "metadata": {},
   "outputs": [],
   "source": []
  },
  {
   "cell_type": "code",
   "execution_count": null,
   "id": "d5c38b1d-cd79-4ae2-abe1-4eaebb278648",
   "metadata": {},
   "outputs": [],
   "source": []
  },
  {
   "cell_type": "code",
   "execution_count": null,
   "id": "a069008f-8d20-47f3-8a61-c3759cd6ae8c",
   "metadata": {},
   "outputs": [],
   "source": []
  }
 ],
 "metadata": {
  "kernelspec": {
   "display_name": "Python 3 (ipykernel)",
   "language": "python",
   "name": "python3"
  },
  "language_info": {
   "codemirror_mode": {
    "name": "ipython",
    "version": 3
   },
   "file_extension": ".py",
   "mimetype": "text/x-python",
   "name": "python",
   "nbconvert_exporter": "python",
   "pygments_lexer": "ipython3",
   "version": "3.13.1"
  }
 },
 "nbformat": 4,
 "nbformat_minor": 5
}
