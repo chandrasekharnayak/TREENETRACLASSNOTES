{
 "cells": [
  {
   "cell_type": "code",
   "execution_count": 1,
   "id": "ae05f0b5-b639-4e48-8ac0-a7739f50a686",
   "metadata": {},
   "outputs": [
    {
     "data": {
      "text/plain": [
       "'\\nsyntax\\n\\ndef function_name():\\n    logic \\n    return data\\n\\nfunction_name()\\n\\n\\nwhen we will call a function with help of function_name, after that function will execute.\\n\\nAdv :\\n\\n1. function reduce duplicacy.\\n2. reduce time and line code.\\n4. code is more optimize.\\n\\n'"
      ]
     },
     "execution_count": 1,
     "metadata": {},
     "output_type": "execute_result"
    }
   ],
   "source": [
    "#logic  check the number is even or odd --- 10 15 \n",
    "#time --- waste\n",
    "#line -- code \n",
    "#resource --- 10L --\n",
    "#project issues -- time, line, cost \n",
    "\n",
    "#block of code (start, end) point --- statement --- functional statement\n",
    "\n",
    "# def :- define to a function\n",
    "\n",
    "'''\n",
    "syntax\n",
    "\n",
    "def function_name():\n",
    "    logic \n",
    "    return data\n",
    "\n",
    "function_name()\n",
    "\n",
    "\n",
    "when we will call a function with help of function_name, after that function will execute.\n",
    "\n",
    "Adv :\n",
    "\n",
    "1. function reduce duplicacy.\n",
    "2. reduce time and line code.\n",
    "4. code is more optimize.\n",
    "\n",
    "'''\n",
    "\n",
    "\n",
    "\n",
    "\n",
    "\n"
   ]
  },
  {
   "cell_type": "code",
   "execution_count": 8,
   "id": "88b5d9ac-3a95-4c71-9bf7-e68a74fc45ea",
   "metadata": {},
   "outputs": [
    {
     "name": "stdout",
     "output_type": "stream",
     "text": [
      "Hi Good morning all\n",
      "Hi Good morning all\n"
     ]
    }
   ],
   "source": [
    "#write a function in basic way\n",
    "\n",
    "def wish():\n",
    "    return 'Hi Good morning all'\n",
    "\n",
    "wish()\n",
    "print(wish())\n",
    "print(wish())\n",
    "\n",
    "\n",
    "\n"
   ]
  },
  {
   "cell_type": "code",
   "execution_count": 10,
   "id": "868a729c-7de0-4e81-9eb2-cd048cbd266e",
   "metadata": {},
   "outputs": [
    {
     "ename": "TypeError",
     "evalue": "add() missing 1 required positional argument: 'b'",
     "output_type": "error",
     "traceback": [
      "\u001b[0;31m---------------------------------------------------------------------------\u001b[0m",
      "\u001b[0;31mTypeError\u001b[0m                                 Traceback (most recent call last)",
      "Cell \u001b[0;32mIn[10], line 15\u001b[0m\n\u001b[1;32m     11\u001b[0m     add \u001b[38;5;241m=\u001b[39m a\u001b[38;5;241m+\u001b[39mb\n\u001b[1;32m     12\u001b[0m     \u001b[38;5;28;01mreturn\u001b[39;00m add\n\u001b[0;32m---> 15\u001b[0m \u001b[43madd\u001b[49m\u001b[43m(\u001b[49m\u001b[38;5;241;43m10\u001b[39;49m\u001b[43m)\u001b[49m\n",
      "\u001b[0;31mTypeError\u001b[0m: add() missing 1 required positional argument: 'b'"
     ]
    }
   ],
   "source": [
    "#why paraentheisis used in a function?\n",
    "\n",
    "'''parathensis used in a function to pass the parameter inside a function\n",
    "\n",
    "number of parameter pass in function, as time of call that same function pass arguments as well.'''\n",
    "\n",
    "#what is parameter :- when we will execute a function, in that time we will pass some variable name inside the parathensis that's know as paranmeter.\n",
    "#based on program req we will pass the parameter.\n",
    "\n",
    "def add(a,b):#\n",
    "    add = a+b\n",
    "    return add\n",
    "\n",
    "\n",
    "add(10)"
   ]
  },
  {
   "cell_type": "code",
   "execution_count": 15,
   "id": "a9388d23-fd20-44ec-81ec-23b291407dfa",
   "metadata": {},
   "outputs": [
    {
     "data": {
      "text/plain": [
       "'Odd'"
      ]
     },
     "execution_count": 15,
     "metadata": {},
     "output_type": "execute_result"
    }
   ],
   "source": [
    "#write a program check the number is even or odd\n",
    "\n",
    "'''def is_even_odd(num):\n",
    "    if num%2==0:\n",
    "        return 'Even'\n",
    "    \n",
    "    else:\n",
    "        return 'Odd'\n",
    "\n",
    "is_even_odd(13)'''\n",
    "        \n"
   ]
  },
  {
   "cell_type": "code",
   "execution_count": 16,
   "id": "6934fd5c-84ed-457c-86ad-bc3b9fe02791",
   "metadata": {},
   "outputs": [
    {
     "data": {
      "text/plain": [
       "'20 is biggest'"
      ]
     },
     "execution_count": 16,
     "metadata": {},
     "output_type": "execute_result"
    }
   ],
   "source": [
    "#write function found the biggest number between 3 int.\n",
    "\n",
    "def is_biggest(a,b,c):\n",
    "    if a>b and a>c:\n",
    "        return f'{a} is biggest'\n",
    "    elif b>c:\n",
    "        return f'{b} is biggest'\n",
    "    else:\n",
    "        return f'{c} is biggest'\n",
    "\n",
    "is_biggest(10,20,14)\n",
    "       "
   ]
  },
  {
   "cell_type": "code",
   "execution_count": 19,
   "id": "540cd480-5d44-4900-93ca-7377f9613dd5",
   "metadata": {},
   "outputs": [
    {
     "data": {
      "text/plain": [
       "False"
      ]
     },
     "execution_count": 19,
     "metadata": {},
     "output_type": "execute_result"
    }
   ],
   "source": [
    "#write function check the number is armstrong or not?\n",
    "\n",
    "def is_armstrong(num):\n",
    "    length = len(str(num))\n",
    "\n",
    "    res = 0\n",
    "    for i in str(num):\n",
    "        res = res+int(i)**length\n",
    "\n",
    "    return res == num\n",
    "\n",
    "is_armstrong(154)\n",
    "        \n",
    "\n"
   ]
  },
  {
   "cell_type": "code",
   "execution_count": 28,
   "id": "fab73565-7b02-456e-a352-60934605f075",
   "metadata": {},
   "outputs": [
    {
     "data": {
      "text/plain": [
       "[0, 1, 1, 2, 3, 5, 8, 13, 21, 34, 55, 89, 144, 233, 377]"
      ]
     },
     "execution_count": 28,
     "metadata": {},
     "output_type": "execute_result"
    }
   ],
   "source": [
    "#write function generate a fibonaccy series based on end user req.\n",
    "\n",
    "\n",
    "def fib_series(num):\n",
    "    fib_list = [0,1]\n",
    "    \n",
    "    for i in range(num-2):\n",
    "        fib_list.append(fib_list[-2]+fib_list[-1])\n",
    "    \n",
    "    return fib_list\n",
    "\n",
    "fib_series(15)"
   ]
  },
  {
   "cell_type": "code",
   "execution_count": null,
   "id": "393515d1-8fce-4e21-96f8-a5f7e946114d",
   "metadata": {},
   "outputs": [],
   "source": [
    "#relationship between parameter and arguments\n",
    "\n",
    "def f1 (): #fab arguments-- relationship args --- parameter\n",
    "\n",
    "\n",
    "f1() :- actual arguments--- args\n",
    "\n",
    "\n"
   ]
  },
  {
   "cell_type": "code",
   "execution_count": 1,
   "id": "2fc1d658-645e-4e03-a607-ba129f7215ed",
   "metadata": {},
   "outputs": [
    {
     "data": {
      "text/plain": [
       "'\\nin python there are 4 types args'"
      ]
     },
     "execution_count": 1,
     "metadata": {},
     "output_type": "execute_result"
    }
   ],
   "source": [
    "#types parameter or types arguments\n",
    "'''\n",
    "in python there are 4 types args'''\n",
    "\n",
    "#positional args\n",
    "#keyword args\n",
    "#deafult args\n",
    "#variable length args\n",
    "\n"
   ]
  },
  {
   "cell_type": "code",
   "execution_count": 23,
   "id": "733d7c29-dba8-4eda-bff8-4aaef542330b",
   "metadata": {},
   "outputs": [
    {
     "name": "stdout",
     "output_type": "stream",
     "text": [
      "{'name': 'Vivek', 'age': 25, 'addres': 'Odisha'}\n"
     ]
    }
   ],
   "source": [
    "#positinal arguments\n",
    "\n",
    "'''def add(a,b,c):\n",
    "    return a+b+c\n",
    "\n",
    "add(10,20,30)'''\n",
    "\n",
    "#keyword args.\n",
    "\n",
    "'''def candidate_deatils(name,age,salary,address):\n",
    "    return f'Name of the candidate is :-{name}, age is {age}, salary is:{salary}, address is :- {address}'\n",
    "\n",
    "candidate_deatils(address='Odisha',salary=78000,age=25,name='Vivek')'''\n",
    "\n",
    "\n",
    "#default args\n",
    "\n",
    "'''def wish_mrg(guest_name='Uncle'):\n",
    "    return f'Hi welcome {guest_name} to my sister mrg fuc'\n",
    "\n",
    "wish_mrg('Mishra Uncle')'''\n",
    "\n",
    "\n",
    "#variable length of args.\n",
    "'''*args ----- elements. --- tuple\n",
    "# **kwargs -- key - value  --dict'''#(keyword variale length of arguments)\n",
    "\n",
    "\n",
    "'''def f1(*args):\n",
    "    print(type(args))\n",
    "    print(args)'''\n",
    "\n",
    "'''def f1(*args):\n",
    "    add = 0\n",
    "\n",
    "    for i in args:\n",
    "        add +=i\n",
    "    return add\n",
    "\n",
    "f1(10,20,30,40,50,60,70,80,90,100)'''\n",
    "\n",
    "\n",
    "\n",
    "'''def f1(**kwargs):\n",
    "    print(type(kwargs))'''\n",
    "\n",
    "'''def f1(**kwargs):\n",
    "    print(kwargs)\n",
    "\n",
    "f1(name='Vivek',age=25,addres='Odisha')'''\n",
    "\n",
    "\n",
    "'''server-- 24 hrs -- ipadress hit count\n",
    "\n",
    "def ip_count(*args):\n",
    "    return len(args)\n",
    "\n",
    "\n",
    "ip_count(ip1,ip2,ip) '''\n",
    "\n",
    "    "
   ]
  },
  {
   "cell_type": "code",
   "execution_count": 1,
   "id": "f2780b80-848d-4375-956b-23326d59af53",
   "metadata": {},
   "outputs": [],
   "source": [
    "#types variables\n",
    "#lambda function\n",
    "#map filter reduce "
   ]
  },
  {
   "cell_type": "code",
   "execution_count": 7,
   "id": "bd8047b9-7823-4078-bfb1-3d1eecfb0844",
   "metadata": {},
   "outputs": [
    {
     "name": "stdout",
     "output_type": "stream",
     "text": [
      "inside the fuc:- 10\n",
      "outside of the func:- 10\n"
     ]
    }
   ],
   "source": [
    "#global variable:-\n",
    "'''\n",
    "variable declare in outside of function and it's excute both outside and inside of the function\n",
    "'''\n",
    "\n",
    "'''a = 10\n",
    "print('outside of the func:-',a)\n",
    "def f1():\n",
    "    print('inside of the func:-',a)\n",
    "\n",
    "f1()'''\n",
    "\n",
    "\n",
    "\n",
    "#local variable:- \n",
    "''' inside a function declare a variable , and that variable only accessable by the function only.'''\n",
    "\n",
    "\n",
    "def f1():\n",
    "    a = 10\n",
    "    print('inside the fuc:-',a)\n",
    "\n",
    "f1()\n",
    "print('outside of the func:-',a)\n"
   ]
  },
  {
   "cell_type": "code",
   "execution_count": 8,
   "id": "f7405ee4-6642-4dcc-8a38-4d708b62f842",
   "metadata": {},
   "outputs": [
    {
     "ename": "SyntaxError",
     "evalue": "expected ':' (2430878422.py, line 8)",
     "output_type": "error",
     "traceback": [
      "\u001b[0;36m  Cell \u001b[0;32mIn[8], line 8\u001b[0;36m\u001b[0m\n\u001b[0;31m    def class_9()\u001b[0m\n\u001b[0m                 ^\u001b[0m\n\u001b[0;31mSyntaxError\u001b[0m\u001b[0;31m:\u001b[0m expected ':'\n"
     ]
    }
   ],
   "source": [
    "def f1():\n",
    "    global a\n",
    "    a = 10\n",
    "    print('inside the fuc:-',a)\n",
    "\n",
    "f1()\n",
    "\n",
    "def f2():\n",
    "    print('outside of the func:-',a)\n",
    "\n",
    "f2()"
   ]
  },
  {
   "cell_type": "code",
   "execution_count": 9,
   "id": "e4e35d69-c315-4872-b334-545807ade14f",
   "metadata": {},
   "outputs": [
    {
     "name": "stdout",
     "output_type": "stream",
     "text": [
      "inside the fuc:- 10\n",
      "outside of the func:- 10\n"
     ]
    }
   ],
   "source": []
  },
  {
   "cell_type": "code",
   "execution_count": 10,
   "id": "1f2d17b5-8032-4203-877a-3a413f513a06",
   "metadata": {},
   "outputs": [
    {
     "data": {
      "text/plain": [
       "'var= lambda parameter:logic'"
      ]
     },
     "execution_count": 10,
     "metadata": {},
     "output_type": "execute_result"
    }
   ],
   "source": [
    "#anonomyous function or lambda function\n",
    "''' \n",
    "anonomyous functiona is a nameless function or a function have no name \n",
    "anonomyous function declare by the lambda keyword.\n",
    "lambda or anonomyous function is a single file function , like list com, terrnary op.\n",
    "'''\n",
    "#syntax\n",
    "'''var= lambda parameter:logic'''\n",
    "\n"
   ]
  },
  {
   "cell_type": "code",
   "execution_count": 11,
   "id": "e7320fe7-fe0d-4fa3-8846-3c5f61fc20a3",
   "metadata": {},
   "outputs": [
    {
     "data": {
      "text/plain": [
       "30"
      ]
     },
     "execution_count": 11,
     "metadata": {},
     "output_type": "execute_result"
    }
   ],
   "source": [
    "#write a addition function help of lambda\n",
    "\n",
    "var = lambda a,b:a+b\n",
    "\n",
    "var(10,20)"
   ]
  },
  {
   "cell_type": "code",
   "execution_count": 13,
   "id": "02102b81-9d22-4227-a2d4-7ae3f1521d98",
   "metadata": {},
   "outputs": [
    {
     "data": {
      "text/plain": [
       "False"
      ]
     },
     "execution_count": 13,
     "metadata": {},
     "output_type": "execute_result"
    }
   ],
   "source": [
    "#write lambda function check number is even or odd\n",
    "\n",
    "var = lambda num :num%2==0\n",
    "var(11)"
   ]
  },
  {
   "cell_type": "code",
   "execution_count": 14,
   "id": "59f560f4-a015-48f1-a19c-b01017a55b72",
   "metadata": {},
   "outputs": [
    {
     "data": {
      "text/plain": [
       "True"
      ]
     },
     "execution_count": 14,
     "metadata": {},
     "output_type": "execute_result"
    }
   ],
   "source": [
    "#write a lambda function , check the number is pallindrom or not?\n",
    "\n",
    "''' = lambda num : str(num)==str(num)[::-1]\n",
    "var(121)'''"
   ]
  },
  {
   "cell_type": "code",
   "execution_count": 21,
   "id": "ae815378-2958-4459-a6cf-0a68ee61c858",
   "metadata": {},
   "outputs": [
    {
     "data": {
      "text/plain": [
       "[12, 18, 22, 88, 92, 90]"
      ]
     },
     "execution_count": 21,
     "metadata": {},
     "output_type": "execute_result"
    }
   ],
   "source": [
    "#write lambda function take list of int and return even number only.\n",
    "\n",
    "#filter , map, reduce\n",
    "\n",
    "#filter :- based on conditional function, it will filter the value from a collection\n",
    "'''\n",
    "synatx :-\n",
    "var = filter(conditional_function, collection)'''\n",
    "\n",
    "'''li = [12,15,18,13,19,22,43,67,88,92,90]\n",
    "\n",
    "var = list(filter(lambda num:num%2==0,li))'''\n",
    "\n",
    "\n",
    "li = [67,90,'yu',56,.90,[78,90],'io']\n",
    "\n",
    "var = filter(lambda data:type(data)==s\n",
    "\n",
    "\n"
   ]
  },
  {
   "cell_type": "code",
   "execution_count": 7,
   "id": "b3ee9c13-6a57-42ae-a0de-d883d9eceec2",
   "metadata": {},
   "outputs": [
    {
     "name": "stdout",
     "output_type": "stream",
     "text": [
      "['Soumya', 'Vivek', 'Jibi', 'Rupali']\n"
     ]
    }
   ],
   "source": [
    "#map :- modify the entier collection based on some function\n",
    "\n",
    "# map(function_name,collection)\n",
    "\n",
    "'''li = ['soumya','vivek','jibi','rupali']\n",
    "\n",
    "var = list(map(lambda a:a.capitalize(),li))\n",
    "print(var)\n"
   ]
  },
  {
   "cell_type": "code",
   "execution_count": 24,
   "id": "d12f9afe-e8d1-4e76-b49c-8b4b3f32e3d7",
   "metadata": {},
   "outputs": [
    {
     "data": {
      "text/plain": [
       "{'Name': ['Soumya', 'Vivek', 'Jibi', 'Rupali'],\n",
       " 'age': [30, 32, 26, 33],\n",
       " 'salary': [77000, 60000, 73000, 68000]}"
      ]
     },
     "execution_count": 24,
     "metadata": {},
     "output_type": "execute_result"
    }
   ],
   "source": [
    "di = {\n",
    "      'Name' :['soumya','vivek','jibi','rupali'], \n",
    "      'age':[25,27,21,28],\n",
    "      'salary':[67000,50000,63000,58000]\n",
    "     }\n",
    "\n",
    "'''{'name':'a','age':[25,27,21,28],\n",
    "      'salary':[67000,50000,63000,58000]}'''\n",
    "\n",
    "\n",
    "\n",
    "di['Name']= list(map(lambda a:a.capitalize(),di['Name']))\n",
    "di['age'] = list(map(lambda a: a+5,di['age']))\n",
    "di['salary'] = list(map(lambda a:a+10000,di['salary']))\n",
    "di\n"
   ]
  },
  {
   "cell_type": "code",
   "execution_count": 42,
   "id": "fa5e5c7a-7cbf-4194-9c74-74ad91d77683",
   "metadata": {},
   "outputs": [
    {
     "data": {
      "text/plain": [
       "{'Name': ['soumya', 'vivek', 'rupali'],\n",
       " 'age': [25, 27, 28],\n",
       " 'salary': [67000, 50000, 58000]}"
      ]
     },
     "execution_count": 42,
     "metadata": {},
     "output_type": "execute_result"
    }
   ],
   "source": [
    "di = {\n",
    "      'Name' :['soumya','vivek','jibi','rupali'], \n",
    "      'age':[25,27,21,28],\n",
    "      'salary':[67000,50000,63000,58000]\n",
    "     }\n",
    "\n",
    "index_jibi = di['Name'].index('jibi')\n",
    "\n",
    "di['Name'] = list(filter(lambda a:a!='jibi',di['Name']))\n",
    "di['age'] = list(filter(lambda a:di['age'][index_jibi]!=a,di['age']))\n",
    "di['salary'] = list(filter(lambda a:di['salary'][index_jibi]!=a,di['salary']))\n",
    "di"
   ]
  },
  {
   "cell_type": "code",
   "execution_count": 44,
   "id": "0ff17f0e-9721-45c9-a3f8-1cb76aea226e",
   "metadata": {},
   "outputs": [
    {
     "name": "stdout",
     "output_type": "stream",
     "text": [
      "100\n"
     ]
    }
   ],
   "source": [
    "from functools import reduce \n",
    "'''syntax:-\n",
    "\n",
    "reduce(function_name,collection)'''\n",
    "\n",
    "li = [10,20,30,40]\n",
    "\n",
    "var = reduce(lambda a,b:a+b,li)\n",
    "print(var)\n",
    "\n"
   ]
  },
  {
   "cell_type": "code",
   "execution_count": 26,
   "id": "1fda0758-30e3-4f3b-8607-3e1742343f67",
   "metadata": {},
   "outputs": [
    {
     "name": "stdout",
     "output_type": "stream",
     "text": [
      "('circle', 628.5714285714286)\n"
     ]
    }
   ],
   "source": [
    "'''Nested function'''\n",
    "\n",
    "'''def outer_function():\n",
    "    print('outer function execute')\n",
    "    def inner_function():\n",
    "        print('inner function execute')\n",
    "\n",
    "    inner_function()\n",
    "    print('inner function completed')\n",
    "\n",
    "outer_function()\n",
    "print('outer function completed, if it is called')'''\n",
    "\n",
    "\n",
    "\n",
    "'''def outer(exp):#2\n",
    "    def inner(base):\n",
    "        return base **exp\n",
    "    return inner\n",
    "\n",
    "squre = outer(4)#---- base point\n",
    "\n",
    "print(squre(4))'''\n",
    "\n",
    "\n",
    "'''def telecom_prepaid(day):\n",
    "    def per_talk_time(base_min):\n",
    "        price = day*base_min\n",
    "        return price\n",
    "    return per_talk_time\n",
    "\n",
    "main_telecom_op = telecom_prepaid()\n",
    "\n",
    "vivek = main_telecom_op(200)\n",
    "print(vivek)\n",
    "\n",
    "kiran = main_telecom_op(2000)\n",
    "print(kiran)'''\n",
    "\n",
    "\n",
    "\n",
    "'''write program , let a doctor has come to visit the hospital  monday to friday based on requirement per day 5 hours, and hospital auth per day \n",
    "can provide not more 10 pt and per pt charge 10rs, and per hr charge 5 rs., write program in nested function.'''\n",
    "\n",
    "\n",
    "'''def dr_vivek(days=5,hours= 5):\n",
    "    def hospital_provide_pt(pt):\n",
    "        days_price_cal = (days*hours)*5\n",
    "        pt_price = pt*10\n",
    "        total =days_price_cal+pt_price\n",
    "        return total,days_price_cal,pt_price\n",
    "    return hospital_provide_pt\n",
    "\n",
    "vivek_1st_week = dr_vivek(3)\n",
    "\n",
    "hospital_provide_amount = vivek_1st_week(24)\n",
    "print(hospital_provide_amount)'''\n",
    "\n",
    "\n",
    "\n",
    "'''def dr_vivek(hours=5):\n",
    "    def hospital_provide_pt(day_name,per_day_pt):\n",
    "        day_price_cal = hours*5\n",
    "        pt_price = per_day_pt*10\n",
    "        total = day_price_cal+pt_price\n",
    "        return day_name,total\n",
    "    return hospital_provide_pt\n",
    "\n",
    "vivek = dr_vivek(10)\n",
    "\n",
    "monday_hopsital = vivek('Monday',8)\n",
    "print(monday_hopsital)\n",
    "\n",
    "\n",
    "tuesday_hopsital = vivek('Tuesday',2)\n",
    "print(tuesday_hopsital)'''\n",
    "\n",
    "\n",
    "# write program you have hight and width, radius  want calculate rect,squre,circle areas help of nested fucntion\n",
    "\n",
    "\n",
    "def outer(area_name):\n",
    "    if area_name == 'rect':\n",
    "        def rect_area(height,width):\n",
    "            area = height*width\n",
    "            return area_name,area\n",
    "        return rect_area\n",
    "    elif area_name== 'squre':\n",
    "        def squre_area(height,width):\n",
    "            if height == width:\n",
    "                area = height*width\n",
    "                return area_name,area\n",
    "            else:\n",
    "                return 'hight and width must be same'\n",
    "        return squre_area\n",
    "\n",
    "    elif area_name=='circle':\n",
    "        def circle(radius):\n",
    "            area = 2*(22/7)*(radius)**2\n",
    "            return area_name,area\n",
    "        return circle\n",
    "\n",
    "\n",
    "name = outer('circle')\n",
    "\n",
    "rect_area = name(10)\n",
    "print(rect_area)\n",
    "\n",
    "            \n",
    "        \n",
    "\n"
   ]
  },
  {
   "cell_type": "code",
   "execution_count": null,
   "id": "6a75a5cb-0bec-4290-abb6-491ce03a2a40",
   "metadata": {},
   "outputs": [],
   "source": []
  }
 ],
 "metadata": {
  "kernelspec": {
   "display_name": "Python 3 (ipykernel)",
   "language": "python",
   "name": "python3"
  },
  "language_info": {
   "codemirror_mode": {
    "name": "ipython",
    "version": 3
   },
   "file_extension": ".py",
   "mimetype": "text/x-python",
   "name": "python",
   "nbconvert_exporter": "python",
   "pygments_lexer": "ipython3",
   "version": "3.13.2"
  }
 },
 "nbformat": 4,
 "nbformat_minor": 5
}
