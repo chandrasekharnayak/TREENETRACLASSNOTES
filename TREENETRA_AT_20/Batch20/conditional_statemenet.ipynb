{
 "cells": [
  {
   "cell_type": "code",
   "execution_count": 4,
   "id": "9dca0c73-9772-4266-b1fa-2b69b6651f79",
   "metadata": {},
   "outputs": [
    {
     "name": "stdin",
     "output_type": "stream",
     "text": [
      "Enter a number:- 11\n"
     ]
    }
   ],
   "source": [
    "#if :- if if_statement condition is True , then statemenet will execute\n",
    "\n",
    "\n",
    "#write a check the number is even or not\n",
    "\n",
    "var = int(input('Enter a number:-'))\n",
    "\n",
    "if (var%2==0):\n",
    "    print(f'{var} :- Even')"
   ]
  },
  {
   "cell_type": "code",
   "execution_count": 6,
   "id": "02efb424-8368-41ec-aa0a-aa0d8d8ebeae",
   "metadata": {},
   "outputs": [
    {
     "name": "stdin",
     "output_type": "stream",
     "text": [
      "Enter a number:- 11\n"
     ]
    },
    {
     "name": "stdout",
     "output_type": "stream",
     "text": [
      "11:- Odd\n"
     ]
    }
   ],
   "source": [
    "#write a program chcek the number even or odd\n",
    "\n",
    "var = int(input('Enter a number:-'))\n",
    "\n",
    "if (var%2==0):\n",
    "    print(f'{var} :- Even')\n",
    "else:\n",
    "    print(f'{var}:- Odd')"
   ]
  },
  {
   "cell_type": "code",
   "execution_count": 11,
   "id": "23baf49b-744d-480a-bed5-a0527740d0cf",
   "metadata": {},
   "outputs": [
    {
     "name": "stdin",
     "output_type": "stream",
     "text": [
      "Enter a string:- uio\n"
     ]
    },
    {
     "name": "stdout",
     "output_type": "stream",
     "text": [
      "Not a pallindrom\n"
     ]
    }
   ],
   "source": [
    "#write program check the string is pallindrom or not\n",
    "\n",
    "\n",
    "var = input('Enter a string:-')\n",
    "\n",
    "reverse_var = var[::-1]\n",
    "\n",
    "if var == reverse_var:\n",
    "    print('Pallindrom')\n",
    "else:\n",
    "    print('Not a pallindrom')"
   ]
  },
  {
   "cell_type": "code",
   "execution_count": 15,
   "id": "a6665daa-ec3a-4abf-b986-d320958c65ad",
   "metadata": {},
   "outputs": [
    {
     "name": "stdin",
     "output_type": "stream",
     "text": [
      "Enter your name:- Rahul\n"
     ]
    },
    {
     "name": "stdout",
     "output_type": "stream",
     "text": [
      "Hi Rahul\n"
     ]
    }
   ],
   "source": [
    "#write a program if string Rahul the hi rahul, for other name is Hi good morning.\n",
    "\n",
    "name = input('Enter your name:-')\n",
    "\n",
    "if name=='Rahul':\n",
    "    print('Hi Rahul')\n",
    "else:\n",
    "    print(f'Hi Good morning {name}')"
   ]
  },
  {
   "cell_type": "code",
   "execution_count": null,
   "id": "e54bc628-d5ba-4b01-879e-7f65912a9033",
   "metadata": {},
   "outputs": [],
   "source": [
    "#write program check between two number who is the biggest\n",
    "#write prgram is the data is string, then convert all string element in upper case"
   ]
  },
  {
   "cell_type": "code",
   "execution_count": 3,
   "id": "7090e498-3741-40c1-8dca-c34adf313322",
   "metadata": {},
   "outputs": [
    {
     "name": "stdin",
     "output_type": "stream",
     "text": [
      "Enter a number1:- 10\n",
      "Enter a number2:- 10\n"
     ]
    },
    {
     "name": "stdout",
     "output_type": "stream",
     "text": [
      "10 is biggest\n"
     ]
    }
   ],
   "source": [
    "num1 = int(input('Enter a number1:-'))\n",
    "num2 = int(input('Enter a number2:-'))\n",
    "\n",
    "if num1>num2:\n",
    "    print(num1, 'is biggest')\n",
    "else:\n",
    "    print(num2, 'is biggest')\n",
    "    "
   ]
  },
  {
   "cell_type": "code",
   "execution_count": 7,
   "id": "e5d1e52c-514d-4437-9c86-b2c0822e6fd4",
   "metadata": {},
   "outputs": [
    {
     "name": "stdin",
     "output_type": "stream",
     "text": [
      "Enter your data 'qwerty'\n"
     ]
    },
    {
     "name": "stdout",
     "output_type": "stream",
     "text": [
      "QWERTY\n"
     ]
    }
   ],
   "source": [
    "data = eval(input('Enter your data'))\n",
    "\n",
    "if type(data) == str:\n",
    "    print(data.upper())\n"
   ]
  },
  {
   "cell_type": "code",
   "execution_count": null,
   "id": "7182022c-f0fe-4f67-96fb-932ebdc936c6",
   "metadata": {},
   "outputs": [],
   "source": [
    "#multiple condition (if, elif, else)\n",
    "''' \n",
    "70% --- 1st div\n",
    "50% --- 2nd div\n",
    "\n",
    "35% ---- 3rd div\n",
    "\n",
    "less than 35% --- Failed'''\n",
    "\n",
    "if some getting more than 70%:\n",
    "    print(1st div)\n",
    "\n",
    "elif -- 2nd condition\n",
    "\n",
    "elif\n",
    "\n",
    "elif\n",
    "\n",
    "elif"
   ]
  },
  {
   "cell_type": "code",
   "execution_count": 19,
   "id": "8b568137-7792-4fed-9552-03fd7c4781dc",
   "metadata": {},
   "outputs": [
    {
     "name": "stdin",
     "output_type": "stream",
     "text": [
      "Enter your percentage 101\n"
     ]
    },
    {
     "name": "stdout",
     "output_type": "stream",
     "text": [
      "101 failed\n"
     ]
    }
   ],
   "source": [
    "marks = int(input('Enter your percentage'))\n",
    "\n",
    "\n",
    "if marks>=70:\n",
    "    print(marks, '1st division')\n",
    "    \n",
    "elif marks >= 50:\n",
    "    print(marks, '2nd division')\n",
    "    \n",
    "elif marks >=35:\n",
    "    print(marks,'3rd division')\n",
    "\n",
    "else:\n",
    "    print(marks,'failed')\n",
    "\n"
   ]
  },
  {
   "cell_type": "code",
   "execution_count": 23,
   "id": "5200ee7a-841b-49b1-8139-745d1c5a4ca1",
   "metadata": {},
   "outputs": [
    {
     "name": "stdin",
     "output_type": "stream",
     "text": [
      "Enter a number1:- 10\n",
      "Enter a number2:- 18\n",
      "Enter a number3:- 21\n"
     ]
    },
    {
     "name": "stdout",
     "output_type": "stream",
     "text": [
      "21 is biggest number\n"
     ]
    }
   ],
   "source": [
    "# write multiple condition check between 3 number, which one is the biggest number\n",
    "\n",
    "a = int(input('Enter a number1:-'))\n",
    "b = int(input('Enter a number2:-'))\n",
    "c = int(input('Enter a number3:-'))\n",
    "\n",
    "if a>b and a>c:\n",
    "    print(a,'is biggest number')\n",
    "elif b>c:\n",
    "    print(b,'is biggest number')\n",
    "else:\n",
    "    print(c,'is biggest number')\n",
    "\n",
    "\n"
   ]
  },
  {
   "cell_type": "code",
   "execution_count": null,
   "id": "ffb76e8a-6b60-48fb-a309-9b0be36b114e",
   "metadata": {},
   "outputs": [],
   "source": [
    "#city temp \n",
    "\n",
    "temp is more 40 or equal to 40 ---- humidity is high 41------\n",
    "temp is more 30 and less 40 ---- may be rain is happend 30 --- 39\n",
    "\n",
    "temp is more 20 and less 30 --- everything is normal\n",
    "\n",
    "temp less than 20 ---- wear the jackets."
   ]
  },
  {
   "cell_type": "code",
   "execution_count": 32,
   "id": "a80bf2b0-2fd1-4207-8e44-05c0e5190510",
   "metadata": {},
   "outputs": [
    {
     "name": "stdin",
     "output_type": "stream",
     "text": [
      "Enter your temp 18\n"
     ]
    },
    {
     "name": "stdout",
     "output_type": "stream",
     "text": [
      "18 wear the jackets.\n"
     ]
    }
   ],
   "source": [
    "temp = int(input('Enter your temp'))\n",
    "\n",
    "if temp>=40:\n",
    "    print(temp,'humidity is high')\n",
    "elif temp >= 30 and temp<40:\n",
    "    print(temp,' may be rain is happening')\n",
    "elif temp>=20 and temp<30:\n",
    "    print(temp,'everything is normal')\n",
    "else:\n",
    "    print(temp,'wear the jackets.')"
   ]
  },
  {
   "cell_type": "code",
   "execution_count": 33,
   "id": "a829d4ed-b8a0-4037-86db-67ccc762ebc0",
   "metadata": {},
   "outputs": [
    {
     "ename": "IndentationError",
     "evalue": "unexpected indent (423374735.py, line 2)",
     "output_type": "error",
     "traceback": [
      "\u001b[0;36m  Cell \u001b[0;32mIn[33], line 2\u001b[0;36m\u001b[0m\n\u001b[0;31m    '''statement inside a same statement know as nested'''\u001b[0m\n\u001b[0m    ^\u001b[0m\n\u001b[0;31mIndentationError\u001b[0m\u001b[0;31m:\u001b[0m unexpected indent\n"
     ]
    }
   ],
   "source": [
    "#nested condtion \n",
    "    '''statement inside a same statement know as nested\n",
    "    \n",
    "    if outet condition is statisfied , then inner condition will execute'''\n",
    "\n",
    "'''\n",
    "percetnage is  not more than 100\n",
    "70 or more than 70 --1st div\n",
    "50 or more than 50 -- 2nd div\n",
    "35 or more than 35 -- 3rd\n",
    "less than 35 -- failed\n",
    "'''\n",
    "\n",
    "\n"
   ]
  },
  {
   "cell_type": "code",
   "execution_count": 44,
   "id": "14cc6582-7b7f-466b-93ef-3a067911aec8",
   "metadata": {},
   "outputs": [
    {
     "name": "stdin",
     "output_type": "stream",
     "text": [
      "Enter your percentage 120\n"
     ]
    },
    {
     "name": "stdout",
     "output_type": "stream",
     "text": [
      "more then 100 percentage not possiable , plz be in 100\n"
     ]
    }
   ],
   "source": [
    "marks = int(input('Enter your percentage'))\n",
    "\n",
    "\n",
    "if marks<=100:\n",
    "    \n",
    "    if marks>=70:\n",
    "        print(marks, '1st division')\n",
    "    \n",
    "    elif marks >= 50:\n",
    "        print(marks, '2nd division')\n",
    "        \n",
    "    elif marks >=35:\n",
    "        print(marks,'3rd division')\n",
    "    \n",
    "    else:\n",
    "        print(marks,'failed')\n",
    "\n",
    "else:\n",
    "    print('more then 100 percentage not possiable , plz be in 100')\n"
   ]
  },
  {
   "cell_type": "code",
   "execution_count": null,
   "id": "37662380-0f52-45f0-961b-f0289395e6ef",
   "metadata": {},
   "outputs": [],
   "source": []
  }
 ],
 "metadata": {
  "kernelspec": {
   "display_name": "Python 3 (ipykernel)",
   "language": "python",
   "name": "python3"
  },
  "language_info": {
   "codemirror_mode": {
    "name": "ipython",
    "version": 3
   },
   "file_extension": ".py",
   "mimetype": "text/x-python",
   "name": "python",
   "nbconvert_exporter": "python",
   "pygments_lexer": "ipython3",
   "version": "3.13.2"
  }
 },
 "nbformat": 4,
 "nbformat_minor": 5
}
