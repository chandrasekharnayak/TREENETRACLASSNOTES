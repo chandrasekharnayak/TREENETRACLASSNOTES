{
 "cells": [
  {
   "cell_type": "code",
   "execution_count": 1,
   "id": "797c3027-4793-4af5-af22-04a921cf7ecf",
   "metadata": {},
   "outputs": [],
   "source": [
    "#what is data ?\n",
    "\n",
    "''' when a elemenet have fixed or var location, this is know as object, when this object need to implimenet then its a data'''\n",
    "\n",
    "'''every data have a typed, in python there are 14 typed of datatype.'''\n",
    "\n",
    "''' in always for use a data , we will store in a variable(it's a idenitifier)'''\n",
    "\n",
    "''' we will provide a name of the variable, and use = (assignment symbol) to store a data in variable '''\n",
    "\n",
    "\n",
    "#variable_name = data\n",
    "\n",
    "\n",
    "\n",
    "'''\n",
    "integer\n",
    "float\n",
    "complex\n",
    "boolean\n",
    "string\n",
    "list\n",
    "tuple\n",
    "set\n",
    "frozenset\n",
    "bytes\n",
    "bytearry\n",
    "range\n",
    "dictionary\n",
    "None\n",
    "\n",
    "'''\n",
    "\n",
    "\n",
    "#inbuilt function\n",
    "print() :- print the result\n",
    "type() :- check the data type\n",
    "dir() :- its check the functionality of a class"
   ]
  },
  {
   "cell_type": "code",
   "execution_count": 3,
   "id": "227460ab-7597-4936-8559-04df94a4d302",
   "metadata": {},
   "outputs": [
    {
     "name": "stdout",
     "output_type": "stream",
     "text": [
      "<class 'int'>\n",
      "['__abs__', '__add__', '__and__', '__bool__', '__ceil__', '__class__', '__delattr__', '__dir__', '__divmod__', '__doc__', '__eq__', '__float__', '__floor__', '__floordiv__', '__format__', '__ge__', '__getattribute__', '__getnewargs__', '__getstate__', '__gt__', '__hash__', '__index__', '__init__', '__init_subclass__', '__int__', '__invert__', '__le__', '__lshift__', '__lt__', '__mod__', '__mul__', '__ne__', '__neg__', '__new__', '__or__', '__pos__', '__pow__', '__radd__', '__rand__', '__rdivmod__', '__reduce__', '__reduce_ex__', '__repr__', '__rfloordiv__', '__rlshift__', '__rmod__', '__rmul__', '__ror__', '__round__', '__rpow__', '__rrshift__', '__rshift__', '__rsub__', '__rtruediv__', '__rxor__', '__setattr__', '__sizeof__', '__str__', '__sub__', '__subclasshook__', '__truediv__', '__trunc__', '__xor__', 'as_integer_ratio', 'bit_count', 'bit_length', 'conjugate', 'denominator', 'from_bytes', 'imag', 'is_integer', 'numerator', 'real', 'to_bytes']\n"
     ]
    }
   ],
   "source": [
    "#integer\n",
    "''' -inf to +inf those numbers are in complete format know as integer'''\n",
    "\n",
    "a = 10\n",
    "print(type(a))\n",
    "print(dir(a))\n"
   ]
  },
  {
   "cell_type": "code",
   "execution_count": 5,
   "id": "6023ff35-2a61-4540-ad8c-38ff8a2a8a88",
   "metadata": {},
   "outputs": [
    {
     "name": "stdout",
     "output_type": "stream",
     "text": [
      "<class 'float'>\n",
      "['__abs__', '__add__', '__bool__', '__ceil__', '__class__', '__delattr__', '__dir__', '__divmod__', '__doc__', '__eq__', '__float__', '__floor__', '__floordiv__', '__format__', '__ge__', '__getattribute__', '__getformat__', '__getnewargs__', '__getstate__', '__gt__', '__hash__', '__init__', '__init_subclass__', '__int__', '__le__', '__lt__', '__mod__', '__mul__', '__ne__', '__neg__', '__new__', '__pos__', '__pow__', '__radd__', '__rdivmod__', '__reduce__', '__reduce_ex__', '__repr__', '__rfloordiv__', '__rmod__', '__rmul__', '__round__', '__rpow__', '__rsub__', '__rtruediv__', '__setattr__', '__sizeof__', '__str__', '__sub__', '__subclasshook__', '__truediv__', '__trunc__', 'as_integer_ratio', 'conjugate', 'fromhex', 'hex', 'imag', 'is_integer', 'real']\n"
     ]
    }
   ],
   "source": [
    "#float \n",
    "''' -inf to +inf those numbers are in decimal format know as float'''\n",
    "\n",
    "a = -19.890\n",
    "print(type(a))\n",
    "print(dir(a))"
   ]
  },
  {
   "cell_type": "code",
   "execution_count": 9,
   "id": "72e543ac-a1d3-4c63-b21e-45eef8a436b5",
   "metadata": {},
   "outputs": [
    {
     "name": "stdout",
     "output_type": "stream",
     "text": [
      "<class 'complex'>\n",
      "(-978.2-703j)\n"
     ]
    }
   ],
   "source": [
    "#complex\n",
    "''' combination of real number and imaginary number know as a complex number'''\n",
    "\n",
    "'''Real number :- -inf to +inf all complete and decimal number know as real numbre'''\n",
    "\n",
    "'''Imaginary Number :- squre root negetive number, in python its represent by j'''\n",
    "\n",
    "''' complex number addition and sub :- real part add with real part, img part add woth img'''\n",
    "\n",
    "\n",
    "a = 10+6j\n",
    "print(type(a))\n",
    "\n",
    "\n",
    "a = 10 +9j\n",
    "b = -89+9.8j\n",
    "\n",
    "print(a*b)]\n",
    "\n"
   ]
  },
  {
   "cell_type": "code",
   "execution_count": 15,
   "id": "f27ee4e3-0bab-48b0-bc95-251569d499bc",
   "metadata": {},
   "outputs": [
    {
     "name": "stdout",
     "output_type": "stream",
     "text": [
      "False\n"
     ]
    }
   ],
   "source": [
    "#bool :- express the common logics answerable points (yes or no)\n",
    "\n",
    "# in python bool values retunr True or False\n",
    "\n",
    "''' \n",
    "True :\n",
    "\n",
    "if value are positive and negeieve  then True\n",
    "If something is exits \n",
    "\n",
    "False:\n",
    " if values are in Zero state\n",
    " if nothing is exits\n",
    "\n",
    " '''\n",
    "\n",
    "\n",
    "True+True\n",
    "True+False\n",
    "False+False\n",
    "\n",
    "\n",
    "li  = []\n",
    "print(bool(li))"
   ]
  },
  {
   "cell_type": "code",
   "execution_count": 16,
   "id": "a628ecee-7cff-49ad-9cdd-1832e0d6e21c",
   "metadata": {},
   "outputs": [],
   "source": [
    "# how variable store data?\n",
    "# memory allocation in python\\?\n",
    "#Garbage collection \n",
    "# string , list, tuple"
   ]
  },
  {
   "cell_type": "code",
   "execution_count": null,
   "id": "f5ae4809-98c3-48d7-ad8b-9189f30a93e3",
   "metadata": {},
   "outputs": [],
   "source": []
  }
 ],
 "metadata": {
  "kernelspec": {
   "display_name": "Python 3 (ipykernel)",
   "language": "python",
   "name": "python3"
  },
  "language_info": {
   "codemirror_mode": {
    "name": "ipython",
    "version": 3
   },
   "file_extension": ".py",
   "mimetype": "text/x-python",
   "name": "python",
   "nbconvert_exporter": "python",
   "pygments_lexer": "ipython3",
   "version": "3.13.2"
  }
 },
 "nbformat": 4,
 "nbformat_minor": 5
}
