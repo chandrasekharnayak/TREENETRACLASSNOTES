{
 "cells": [
  {
   "cell_type": "code",
   "execution_count": 1,
   "id": "dfb798cb-5777-4ead-8348-66ffba59bf95",
   "metadata": {},
   "outputs": [
    {
     "name": "stdout",
     "output_type": "stream",
     "text": [
      "15\n",
      "25\n",
      "35\n"
     ]
    }
   ],
   "source": [
    "li = [10,20,30]\n",
    "\n",
    "for i in li:\n",
    "    print(i+5)"
   ]
  },
  {
   "cell_type": "code",
   "execution_count": 2,
   "id": "00ad0f76-4944-498d-bbc3-1e2bead82e16",
   "metadata": {},
   "outputs": [
    {
     "name": "stdout",
     "output_type": "stream",
     "text": [
      "11 is odd\n",
      "14 is even\n",
      "78 is even\n",
      "65 is odd\n",
      "41 is odd\n",
      "89 is odd\n",
      "90 is even\n",
      "71 is odd\n"
     ]
    }
   ],
   "source": [
    "li = [11,14,78,65,41,89,90,71]\n",
    "\n",
    "for i in li:\n",
    "    if i%2==0:\n",
    "        print(i,'is even')\n",
    "    else:\n",
    "        print(i,'is odd')\n",
    "        "
   ]
  },
  {
   "cell_type": "code",
   "execution_count": 4,
   "id": "4a032e9d-9091-4ffb-8f67-c88a321bf2fc",
   "metadata": {},
   "outputs": [
    {
     "name": "stdout",
     "output_type": "stream",
     "text": [
      "1\n",
      "2\n",
      "3\n"
     ]
    }
   ],
   "source": [
    "st = 'b1ichi2tra3'\n",
    "\n",
    "for i in st:\n",
    "    if i.isdigit():\n",
    "        print(i)"
   ]
  },
  {
   "cell_type": "code",
   "execution_count": 7,
   "id": "3ac96fce-9514-4c6c-b301-f5bb2ee71eff",
   "metadata": {},
   "outputs": [
    {
     "name": "stdout",
     "output_type": "stream",
     "text": [
      "jkl not pallindrom\n",
      "tyu not pallindrom\n",
      "mmn not pallindrom\n",
      "asd not pallindrom\n"
     ]
    }
   ],
   "source": [
    "li = [ 'pop','jkl','tyu','sws','lpl','mmn','asd']\n",
    "\n",
    "\n",
    "for i in li:\n",
    "    if i == i[::-1]:\n",
    "        print(i,'pallindrom')"
   ]
  },
  {
   "cell_type": "code",
   "execution_count": null,
   "id": "358fea85-e534-4a75-8931-c93cc7e254c7",
   "metadata": {},
   "outputs": [],
   "source": [
    "1. Write a program , in collction of int list, calculate sum of of the list.\n",
    "2. write program fetch special char in string, ex := qwe#y4#@"
   ]
  },
  {
   "cell_type": "code",
   "execution_count": 6,
   "id": "040083cc-a9e0-484b-9cc2-fb1c9fa529bb",
   "metadata": {},
   "outputs": [
    {
     "name": "stdout",
     "output_type": "stream",
     "text": [
      "338\n"
     ]
    }
   ],
   "source": [
    "li = [90,2,3,21,45,67,89,21]\n",
    "\n",
    "\n",
    "\n",
    "sum = 0\n",
    "\n",
    "for i in li:\n",
    "    sum = sum + i \n",
    "\n",
    "print(sum)\n",
    "    "
   ]
  },
  {
   "cell_type": "code",
   "execution_count": 12,
   "id": "e2f7042c-fafc-4225-8b6c-da441f90097a",
   "metadata": {},
   "outputs": [
    {
     "name": "stdout",
     "output_type": "stream",
     "text": [
      "#\n",
      "#\n",
      "@\n"
     ]
    }
   ],
   "source": [
    "st = 'qwe#y4#@'\n",
    "\n",
    "for i in st:\n",
    "    if not i.isalpha() and not i.isdigit():\n",
    "        print(i)\n",
    "\n",
    "# i.alnum()"
   ]
  },
  {
   "cell_type": "code",
   "execution_count": 19,
   "id": "26af1b6d-e14e-41be-851c-ad323c11f911",
   "metadata": {},
   "outputs": [
    {
     "name": "stdout",
     "output_type": "stream",
     "text": [
      "1\n",
      "2\n",
      "3\n",
      "4\n",
      "5\n",
      "6\n",
      "7\n",
      "8\n",
      "9\n",
      "10\n",
      "500\n",
      "505\n",
      "510\n",
      "515\n",
      "520\n"
     ]
    }
   ],
   "source": [
    "#range :- generate the sequence of numbers only numeric values\n",
    "\n",
    "\n",
    "# range(start,end+1 , steps)\n",
    "\n",
    "for i in range(1,11):\n",
    "    print(i)\n",
    "\n",
    "\n",
    "for i in range(500,521,5):\n",
    "    print(i)\n",
    "\n"
   ]
  },
  {
   "cell_type": "code",
   "execution_count": 23,
   "id": "f05a4618-f68a-4b96-9b4e-a126f49901af",
   "metadata": {},
   "outputs": [
    {
     "name": "stdout",
     "output_type": "stream",
     "text": [
      "101\n",
      "111\n",
      "121\n",
      "131\n",
      "141\n",
      "151\n",
      "161\n",
      "171\n",
      "181\n",
      "191\n",
      "202\n",
      "212\n",
      "222\n",
      "232\n",
      "242\n",
      "252\n",
      "262\n",
      "272\n",
      "282\n",
      "292\n",
      "303\n",
      "313\n",
      "323\n",
      "333\n",
      "343\n",
      "353\n",
      "363\n",
      "373\n",
      "383\n",
      "393\n",
      "404\n",
      "414\n",
      "424\n",
      "434\n",
      "444\n",
      "454\n",
      "464\n",
      "474\n",
      "484\n",
      "494\n",
      "505\n",
      "515\n",
      "525\n",
      "535\n",
      "545\n",
      "555\n",
      "565\n",
      "575\n",
      "585\n",
      "595\n",
      "606\n",
      "616\n",
      "626\n",
      "636\n",
      "646\n",
      "656\n",
      "666\n",
      "676\n",
      "686\n",
      "696\n",
      "707\n",
      "717\n",
      "727\n",
      "737\n",
      "747\n",
      "757\n",
      "767\n",
      "777\n",
      "787\n",
      "797\n",
      "808\n",
      "818\n",
      "828\n",
      "838\n",
      "848\n",
      "858\n",
      "868\n",
      "878\n",
      "888\n",
      "898\n",
      "909\n",
      "919\n",
      "929\n",
      "939\n",
      "949\n",
      "959\n",
      "969\n",
      "979\n",
      "989\n",
      "999\n"
     ]
    }
   ],
   "source": [
    "#write program check the pallindrom number ,1 to 1000.\n",
    "\n",
    "'''\n",
    "\n",
    "1.write a for loop with help of range generating 1 to 1000.\n",
    "2.type case int to string \n",
    "3.then write condtiona and check main int to reverse int\n",
    "4.Those are pallindrom , write this one.\n",
    "\n",
    "'''\n",
    "\n",
    "for i in range(1,1001):\n",
    "    s = str(i)\n",
    "    if s == s[::-1] and len(s)>=3:\n",
    "        print(i)"
   ]
  },
  {
   "cell_type": "code",
   "execution_count": 25,
   "id": "99bc021a-0743-44ac-96c5-b3ec88b6846f",
   "metadata": {},
   "outputs": [
    {
     "name": "stdout",
     "output_type": "stream",
     "text": [
      "*\n",
      "*\n",
      "*\n",
      "*\n",
      "*\n"
     ]
    }
   ],
   "source": [
    "#star programs\n",
    "\n",
    "'''\n",
    "*\n",
    "*\n",
    "*\n",
    "*\n",
    "*\n",
    "\n",
    "'''\n",
    "\n",
    "for i in range(5):\n",
    "    print('*')"
   ]
  },
  {
   "cell_type": "code",
   "execution_count": 29,
   "id": "6265ebf3-270c-41b8-ada8-0ae1a7bca0d9",
   "metadata": {},
   "outputs": [
    {
     "name": "stdout",
     "output_type": "stream",
     "text": [
      "*\n",
      "**\n",
      "***\n",
      "****\n",
      "*****\n"
     ]
    }
   ],
   "source": [
    "'''\n",
    "*\n",
    "**\n",
    "***\n",
    "****\n",
    "*****\n",
    "'''\n",
    "\n",
    "# for i in range(5):\n",
    "#     print('*'*(i+1))\n",
    "\n",
    "for i in range(1,6):\n",
    "    print('*'*i)\n",
    "\n"
   ]
  },
  {
   "cell_type": "code",
   "execution_count": 2,
   "id": "b95de01f-dd64-4411-9135-34efa6d23809",
   "metadata": {},
   "outputs": [
    {
     "name": "stdout",
     "output_type": "stream",
     "text": [
      "*****\n",
      "*\n",
      "****\n",
      "**\n",
      "***\n",
      "***\n",
      "**\n",
      "****\n",
      "*\n",
      "*****\n"
     ]
    }
   ],
   "source": [
    "'''\n",
    "*****\n",
    "****\n",
    "***\n",
    "**\n",
    "*\n",
    "\n",
    "\n",
    "'''\n",
    "\n",
    "\n",
    "for i in range(5):\n",
    "    print('*'*(5-i))"
   ]
  },
  {
   "cell_type": "code",
   "execution_count": 7,
   "id": "3c93e7e5-6cac-492c-98ca-2eba2e6d5633",
   "metadata": {},
   "outputs": [
    {
     "name": "stdout",
     "output_type": "stream",
     "text": [
      "*\n",
      "***\n",
      "*****\n",
      "*******\n"
     ]
    }
   ],
   "source": [
    "'''\n",
    "*\n",
    "***\n",
    "*****\n",
    "*******\n",
    "'''\n",
    "\n",
    "for i in range(1,8,2):\n",
    "    print('*'*i)"
   ]
  },
  {
   "cell_type": "code",
   "execution_count": 8,
   "id": "a23dcdad-b256-4575-988d-64cc76dad795",
   "metadata": {},
   "outputs": [
    {
     "name": "stdout",
     "output_type": "stream",
     "text": [
      "*****\n",
      "****\n",
      "***\n",
      "**\n",
      "*\n",
      "**\n",
      "***\n",
      "****\n",
      "*****\n"
     ]
    }
   ],
   "source": [
    "'''\n",
    "*****\n",
    "****\n",
    "***\n",
    "**\n",
    "*\n",
    "**\n",
    "***\n",
    "****\n",
    "*****\n",
    "'''\n",
    "\n",
    "\n",
    "for i in range(5):\n",
    "    print('*'*(5-i))\n",
    "\n",
    "for i in range(2,6):\n",
    "    print('*'*i)"
   ]
  },
  {
   "cell_type": "code",
   "execution_count": 11,
   "id": "b25065c8-3f97-4fdd-b1ca-863109f0753e",
   "metadata": {},
   "outputs": [
    {
     "name": "stdout",
     "output_type": "stream",
     "text": [
      "     *\n",
      "    **\n",
      "   ***\n",
      "  ****\n",
      " *****\n"
     ]
    }
   ],
   "source": [
    "'''\n",
    "    *\n",
    "   **\n",
    "  ***\n",
    " ****\n",
    "*****\n",
    "'''\n",
    "\n",
    "for i in range(5):\n",
    "    print(' '*(4-i),'*'*(i+1))\n",
    "    "
   ]
  },
  {
   "cell_type": "code",
   "execution_count": 18,
   "id": "8d34d666-c540-4a09-9388-4bf9dc12622e",
   "metadata": {},
   "outputs": [
    {
     "name": "stdout",
     "output_type": "stream",
     "text": [
      " *******\n",
      "   *****\n",
      "     ***\n",
      "       *\n"
     ]
    }
   ],
   "source": [
    "'''\n",
    "******* 0 7\n",
    "  ***** 2. 5\n",
    "    *** 4. 3\n",
    "       * 6. 1\n",
    "\n",
    "'''\n",
    "\n",
    "for i in range(0,8,2):\n",
    "    print(' '*i,'*'*(7-i))\n",
    "    "
   ]
  },
  {
   "cell_type": "code",
   "execution_count": 24,
   "id": "e57bcf44-a9a6-483c-a299-17c322a84341",
   "metadata": {},
   "outputs": [
    {
     "name": "stdout",
     "output_type": "stream",
     "text": [
      "     * \n",
      "    * * \n",
      "   * * * \n",
      "  * * * * \n",
      " * * * * * \n"
     ]
    }
   ],
   "source": [
    "'''\n",
    "    *\n",
    "   * *\n",
    "  * * * \n",
    " * * * *\n",
    "* * * * *\n",
    "'''\n",
    "# 4 1\n",
    "# 3 2\n",
    "# 2 3\n",
    "# 1 4\n",
    "# 0 5\n",
    "\n",
    "for i in range(5):\n",
    "    print(' '*(4-i),'* '*(i+1))\n"
   ]
  },
  {
   "cell_type": "code",
   "execution_count": 27,
   "id": "a88809cc-4af1-493e-b1d2-0695e2daf706",
   "metadata": {},
   "outputs": [
    {
     "name": "stdout",
     "output_type": "stream",
     "text": [
      " * * * * * \n",
      "  * * * * \n",
      "   * * * \n",
      "    * * \n",
      "     * \n"
     ]
    }
   ],
   "source": [
    "'''\n",
    "* * * * *\n",
    " * * * *\n",
    "  * * *\n",
    "   * *\n",
    "    *\n",
    "'''\n",
    "# 0 5\n",
    "# 1 4\n",
    "# 2 3\n",
    "# 3 2\n",
    "# 4 1\n",
    "\n",
    "for i in range(5):\n",
    "    print(' '*i,'* '*(5-i) )"
   ]
  },
  {
   "cell_type": "code",
   "execution_count": 3,
   "id": "de49f2df-76e1-45a3-b984-cfb2ad6ffbc8",
   "metadata": {},
   "outputs": [
    {
     "name": "stdout",
     "output_type": "stream",
     "text": [
      "2 0\n",
      "2 1\n",
      "2 2\n",
      "2 3\n",
      "2 4\n",
      "4 0\n",
      "4 1\n",
      "4 2\n",
      "4 3\n",
      "4 4\n",
      "6 0\n",
      "6 1\n",
      "6 2\n",
      "6 3\n",
      "6 4\n"
     ]
    }
   ],
   "source": [
    "#Nested for :- \n",
    "\n",
    "# outer statement ---- a another statement(inner)\n",
    "\n",
    "\n",
    "# for i in range(5):#i = 1\n",
    "#     for j in range(5):\n",
    "#         print(i,j)\n",
    "\n",
    "\n",
    "# for i in range(2,8,2):#2 4 6\n",
    "#     for j in range(5):# 0 1 2 3 4\n",
    "#         print(i,j)\n",
    "\n",
    "\n",
    "    \n",
    "        \n",
    "\n"
   ]
  },
  {
   "cell_type": "code",
   "execution_count": 5,
   "id": "a7fbd034-1997-4784-ab2b-0c20af9c474a",
   "metadata": {},
   "outputs": [
    {
     "name": "stdout",
     "output_type": "stream",
     "text": [
      "10\n",
      "20\n",
      "30\n",
      "40\n",
      "50\n",
      "60\n",
      "70\n",
      "80\n"
     ]
    }
   ],
   "source": [
    "# extract the element from falttened list\n",
    "\n",
    "li = [ [10,20],[30,40],[50,60],[70,80]]\n",
    "\n",
    "for i in li:#[10,20]\n",
    "    for j in i:\n",
    "        print(j)"
   ]
  },
  {
   "cell_type": "code",
   "execution_count": 7,
   "id": "4310e777-eb64-4cce-b2b7-c070593c0fb6",
   "metadata": {},
   "outputs": [
    {
     "name": "stdout",
     "output_type": "stream",
     "text": [
      "[10, 32, 12, 90]\n"
     ]
    }
   ],
   "source": [
    "#extract even numbers from a list, add them in a another list\n",
    "\n",
    "li = [10,23,45,32,12,57,43,21,89,90]\n",
    "\n",
    "#create a empty list\n",
    "even_li = []\n",
    "\n",
    "#interate the loop\n",
    "for i in li:\n",
    "    if i%2==0:\n",
    "        even_li.append(i)\n",
    "\n",
    "print(new_li)"
   ]
  },
  {
   "cell_type": "code",
   "execution_count": 8,
   "id": "80fc1377-92d6-4eef-8d30-aad72b6ce990",
   "metadata": {},
   "outputs": [
    {
     "name": "stdout",
     "output_type": "stream",
     "text": [
      "[10, 89, 78, 23, 45]\n",
      "['yuio', 'ghju', 'nhyhj']\n"
     ]
    }
   ],
   "source": [
    "li = [10,89,'yuio',78,23,'ghju',45,'nhyhj']\n",
    "\n",
    "int_li = []\n",
    "str_li = []\n",
    "\n",
    "for i in li:\n",
    "    if type(i) == int:\n",
    "        int_li.append(i)\n",
    "    elif type(i) == str:\n",
    "        str_li.append(i)\n",
    "\n",
    "print(int_li)\n",
    "print(str_li)"
   ]
  },
  {
   "cell_type": "code",
   "execution_count": 9,
   "id": "60072063-7ab3-46a1-b15e-cdaf0fb613d3",
   "metadata": {},
   "outputs": [
    {
     "name": "stdout",
     "output_type": "stream",
     "text": [
      "252\n"
     ]
    }
   ],
   "source": [
    "#count the sum of a list.\n",
    "\n",
    "li = [11,33,22,55,67,43,21]\n",
    "\n",
    "result = 0\n",
    "\n",
    "for i in li:\n",
    "    result= result+i\n",
    "print(result)"
   ]
  },
  {
   "cell_type": "code",
   "execution_count": 15,
   "id": "58ba521e-76b4-4acd-9b17-9cb43eba45e8",
   "metadata": {},
   "outputs": [
    {
     "name": "stdout",
     "output_type": "stream",
     "text": [
      "[56, 34, 21, 67, 90]\n"
     ]
    }
   ],
   "source": [
    "#write program reverse a list without using any inbuid function\n",
    "\n",
    "li = [90,67,21,34,56]\n",
    "# print(li[::-1])\n",
    "\n",
    "# op :- [56,34,21,67,90]\n",
    "\n",
    "new_li = []\n",
    "\n",
    "for i in li:\n",
    "    new_li.insert(0,i)\n",
    "\n",
    "print(new_li)\n"
   ]
  },
  {
   "cell_type": "code",
   "execution_count": 16,
   "id": "c871c84f-69e8-4e9d-84ee-522c65cbd54a",
   "metadata": {},
   "outputs": [
    {
     "name": "stdout",
     "output_type": "stream",
     "text": [
      "0\n",
      "1\n",
      "2\n",
      "3\n",
      "4\n"
     ]
    }
   ],
   "source": [
    "for i in range(5):#0 1 2 3 4 \n",
    "    for j in range(5):# 0 1 2 3 4\n",
    "\n",
    "\n",
    "li = [[12,13],[90,89,88,87],[90]]\n",
    "\n",
    "for i in li:# 2\n",
    "    for j in i :\n"
   ]
  },
  {
   "cell_type": "code",
   "execution_count": null,
   "id": "63d19173-18b7-40e4-93d5-817ef45534f8",
   "metadata": {},
   "outputs": [],
   "source": []
  }
 ],
 "metadata": {
  "kernelspec": {
   "display_name": "Python 3 (ipykernel)",
   "language": "python",
   "name": "python3"
  },
  "language_info": {
   "codemirror_mode": {
    "name": "ipython",
    "version": 3
   },
   "file_extension": ".py",
   "mimetype": "text/x-python",
   "name": "python",
   "nbconvert_exporter": "python",
   "pygments_lexer": "ipython3",
   "version": "3.13.2"
  }
 },
 "nbformat": 4,
 "nbformat_minor": 5
}
