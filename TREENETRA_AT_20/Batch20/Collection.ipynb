{
 "cells": [
  {
   "cell_type": "code",
   "execution_count": 2,
   "id": "595c2135-f5af-4b68-b1ed-71eedddb1107",
   "metadata": {},
   "outputs": [
    {
     "data": {
      "text/plain": [
       "bytearray"
      ]
     },
     "execution_count": 2,
     "metadata": {},
     "output_type": "execute_result"
    }
   ],
   "source": [
    "#collection :- collection store same and different kind of data inside the closeing brackets\n",
    "\n",
    "# list\n",
    "# tuple\n",
    "# set\n",
    "# frozenset\n",
    "# bytes\n",
    "# bytearray\n",
    "# dictinary"
   ]
  },
  {
   "cell_type": "code",
   "execution_count": 7,
   "id": "2c7d9881-ac10-4538-9b5d-fd1c9e09455e",
   "metadata": {},
   "outputs": [
    {
     "name": "stdout",
     "output_type": "stream",
     "text": [
      "<class 'list'>\n",
      "[78, 90.89, (9+9j), 'Trye', False, [78, 90], (78, 89), {57, 67}, {'a': 1, 'b': 2}, 78, 78, 90.89]\n"
     ]
    },
    {
     "data": {
      "text/plain": [
       "78"
      ]
     },
     "execution_count": 7,
     "metadata": {},
     "output_type": "execute_result"
    }
   ],
   "source": [
    "#list \n",
    "\n",
    "'''\n",
    "list is hetrogenous object and its allowed any kind data inside the squre brackets\n",
    "list enclosed in squre brackets\n",
    "Every elements separte with another element help of comma.\n",
    "Its allowed the duplicates element.\n",
    "its follow the indexing and position is mattered.\n",
    "list is mutable datatype.\n",
    "list is growable in nature , it is possiable to add the elements and remove the elements.\n",
    "\n",
    "\n",
    "'''\n",
    "\n",
    "\n",
    "li = [78,90.89,9+9j,'Trye',False,[78,90],(78,89),{67,57},{'a':1,'b':2},78,78,90.89]\n",
    "print(type(li))\n",
    "print(li)\n",
    "\n"
   ]
  },
  {
   "cell_type": "code",
   "execution_count": 11,
   "id": "459cd20c-9e3a-4a5b-acd6-d6dd0e1fa70b",
   "metadata": {},
   "outputs": [
    {
     "data": {
      "text/plain": [
       "[100, 20, 30]"
      ]
     },
     "execution_count": 11,
     "metadata": {},
     "output_type": "execute_result"
    }
   ],
   "source": [
    "li = [10,20,30]\n",
    "\n",
    "li[0] = 100\n",
    "li"
   ]
  },
  {
   "cell_type": "code",
   "execution_count": 12,
   "id": "2242afcc-3bda-4a22-8712-2652a1c2d823",
   "metadata": {},
   "outputs": [
    {
     "name": "stdout",
     "output_type": "stream",
     "text": [
      "['__add__', '__class__', '__class_getitem__', '__contains__', '__delattr__', '__delitem__', '__dir__', '__doc__', '__eq__', '__format__', '__ge__', '__getattribute__', '__getitem__', '__getstate__', '__gt__', '__hash__', '__iadd__', '__imul__', '__init__', '__init_subclass__', '__iter__', '__le__', '__len__', '__lt__', '__mul__', '__ne__', '__new__', '__reduce__', '__reduce_ex__', '__repr__', '__reversed__', '__rmul__', '__setattr__', '__setitem__', '__sizeof__', '__str__', '__subclasshook__', 'append', 'clear', 'copy', 'count', 'extend', 'index', 'insert', 'pop', 'remove', 'reverse', 'sort']\n"
     ]
    }
   ],
   "source": [
    "li = [10,20,30]\n",
    "print(dir(li))"
   ]
  },
  {
   "cell_type": "code",
   "execution_count": 15,
   "id": "b22e5f8c-c1a2-4ca3-8589-0fc067dee112",
   "metadata": {},
   "outputs": [
    {
     "data": {
      "text/plain": [
       "[10, 20, 30, 40, [100, 200, 300]]"
      ]
     },
     "execution_count": 15,
     "metadata": {},
     "output_type": "execute_result"
    }
   ],
   "source": [
    "#append :- Adds an element at the end of the list, but a single element only\n",
    "\n",
    "li = [10,20,30]\n",
    "li.append(40)\n",
    "li\n",
    "\n",
    "li.append([100,200,300])\n",
    "li"
   ]
  },
  {
   "cell_type": "code",
   "execution_count": 16,
   "id": "0dac17e7-176c-4693-8249-6540b36e0f0f",
   "metadata": {},
   "outputs": [
    {
     "data": {
      "text/plain": [
       "[10, 20, 100, 30, 40]"
      ]
     },
     "execution_count": 16,
     "metadata": {},
     "output_type": "execute_result"
    }
   ],
   "source": [
    "#insert:- Adds an element at the specified position, but a single element only\n",
    "\n",
    "li = [10,20,30,40]\n",
    "# li.insert(postition,value)\n",
    "li.insert(2,100)\n",
    "li"
   ]
  },
  {
   "cell_type": "code",
   "execution_count": 27,
   "id": "b348977e-8467-48e8-901a-a79b4355502c",
   "metadata": {},
   "outputs": [
    {
     "data": {
      "text/plain": [
       "[10, 20, 30]"
      ]
     },
     "execution_count": 27,
     "metadata": {},
     "output_type": "execute_result"
    }
   ],
   "source": [
    "#extend :- Add the elements of a list (or any iterable), to the end of the current list,merge the two list\n",
    "\n",
    "li1 = [10,20,30]\n",
    "li2 = [40,50,60]\n",
    "\n",
    "li2.extend(li1)\n",
    "li2\n",
    "li1\n"
   ]
  },
  {
   "cell_type": "code",
   "execution_count": 29,
   "id": "65c2f600-4786-48b5-b294-45244012f79c",
   "metadata": {},
   "outputs": [
    {
     "data": {
      "text/plain": [
       "[20, 30, 40, 50]"
      ]
     },
     "execution_count": 29,
     "metadata": {},
     "output_type": "execute_result"
    }
   ],
   "source": [
    "#pop :- \tRemoves the element at the specified position, if position not given remove the position value,\n",
    "\n",
    "li = [10,20,30]\n",
    "li.pop()\n",
    "li\n",
    "\n",
    "\n",
    "\n",
    "li1 = [10,20,30,40,50]\n",
    "li1.pop(0)\n",
    "li1\n"
   ]
  },
  {
   "cell_type": "code",
   "execution_count": 31,
   "id": "49a49dfc-3ec6-4e4d-aba6-46bde3b7eb62",
   "metadata": {},
   "outputs": [
    {
     "data": {
      "text/plain": [
       "[10, 30, 20, 20, 20]"
      ]
     },
     "execution_count": 31,
     "metadata": {},
     "output_type": "execute_result"
    }
   ],
   "source": [
    "#remove :-Removes the item with the specified value\n",
    "\n",
    "li = [10,20,30,20,20,20]\n",
    "li.remove(20)\n",
    "li"
   ]
  },
  {
   "cell_type": "code",
   "execution_count": 32,
   "id": "b2e28775-159f-4397-9d1c-10b55ba57fbc",
   "metadata": {},
   "outputs": [
    {
     "data": {
      "text/plain": [
       "[]"
      ]
     },
     "execution_count": 32,
     "metadata": {},
     "output_type": "execute_result"
    }
   ],
   "source": [
    "#clear:- Removes all the elements from the list\n",
    "\n",
    "li = [10,20,30,40]\n",
    "li.clear()\n",
    "li"
   ]
  },
  {
   "cell_type": "code",
   "execution_count": 33,
   "id": "21ba4d8d-81da-4fa0-b204-d12ffe129dd9",
   "metadata": {},
   "outputs": [
    {
     "data": {
      "text/plain": [
       "[10, 20, 30]"
      ]
     },
     "execution_count": 33,
     "metadata": {},
     "output_type": "execute_result"
    }
   ],
   "source": [
    "#copy :- Returns a copy of the list\n",
    "\n",
    "li = [10,20,30]\n",
    "\n",
    "sp = li.copy()\n",
    "sp"
   ]
  },
  {
   "cell_type": "code",
   "execution_count": 35,
   "id": "93fa590d-a2db-4560-815c-4bf9047068e3",
   "metadata": {},
   "outputs": [
    {
     "data": {
      "text/plain": [
       "[89, 3, 6, 34, 21, 78, 65]"
      ]
     },
     "execution_count": 35,
     "metadata": {},
     "output_type": "execute_result"
    }
   ],
   "source": [
    "#reverse :-Reverses the order of the list\n",
    "\n",
    "li = [65,78,21,34,6,3,89]\n",
    "li.reverse()\n",
    "li"
   ]
  },
  {
   "cell_type": "code",
   "execution_count": 38,
   "id": "3971cafb-2aee-4c5b-a0f2-0679e2a77695",
   "metadata": {},
   "outputs": [
    {
     "data": {
      "text/plain": [
       "[3, 6, 21, 34, 65, 78, 89]"
      ]
     },
     "execution_count": 38,
     "metadata": {},
     "output_type": "execute_result"
    }
   ],
   "source": [
    "#sort:- sort the list, accending to desending\n",
    "\n",
    "li = [65,78,21,34,6,3,89]\n",
    "li.sort()\n",
    "li = [65,78,21,34,6,3,89]\n",
    "li.reverse()\n",
    "li"
   ]
  },
  {
   "cell_type": "code",
   "execution_count": null,
   "id": "5a967f7a-cd28-4b3e-9ca8-08927844cbc4",
   "metadata": {},
   "outputs": [],
   "source": [
    "#Tuple \n",
    "\n",
    "\n",
    "'''\n",
    "tuple  is hetrogenous object and its allowed any kind data inside the parenthesis brackets\n",
    "tuple  enclosed in parenthesis brackets\n",
    "Every elements separte with another element help of comma.\n",
    "Its allowed the duplicates element.\n",
    "its follow the indexing and position is mattered.\n",
    "tuple is immutable datatype.\n",
    "tuple is not growable in nature , it is not  possiable to add the elements and remove any elements.\n",
    "\n",
    "\n",
    "'''\n",
    "\n",
    "\n"
   ]
  },
  {
   "cell_type": "code",
   "execution_count": 4,
   "id": "f9a03967-bb2a-4f05-b7b4-c60a0ef40c6b",
   "metadata": {},
   "outputs": [
    {
     "name": "stdout",
     "output_type": "stream",
     "text": [
      "(10, 20, 30)\n"
     ]
    },
    {
     "data": {
      "text/plain": [
       "tuple"
      ]
     },
     "execution_count": 4,
     "metadata": {},
     "output_type": "execute_result"
    }
   ],
   "source": [
    "#how to create a tuple \n",
    "\n",
    "#1\n",
    "'''var = (10,20,30,'yuo',(890,90),[78,90])\n",
    "type(var)'''\n",
    "\n",
    "\n",
    "var = 10,20,30\n",
    "print(var)\n",
    "type(var)"
   ]
  },
  {
   "cell_type": "code",
   "execution_count": 5,
   "id": "371879aa-4d69-4782-a23c-2663c7080c63",
   "metadata": {},
   "outputs": [
    {
     "data": {
      "text/plain": [
       "['__add__',\n",
       " '__class__',\n",
       " '__class_getitem__',\n",
       " '__contains__',\n",
       " '__delattr__',\n",
       " '__dir__',\n",
       " '__doc__',\n",
       " '__eq__',\n",
       " '__format__',\n",
       " '__ge__',\n",
       " '__getattribute__',\n",
       " '__getitem__',\n",
       " '__getnewargs__',\n",
       " '__getstate__',\n",
       " '__gt__',\n",
       " '__hash__',\n",
       " '__init__',\n",
       " '__init_subclass__',\n",
       " '__iter__',\n",
       " '__le__',\n",
       " '__len__',\n",
       " '__lt__',\n",
       " '__mul__',\n",
       " '__ne__',\n",
       " '__new__',\n",
       " '__reduce__',\n",
       " '__reduce_ex__',\n",
       " '__repr__',\n",
       " '__rmul__',\n",
       " '__setattr__',\n",
       " '__sizeof__',\n",
       " '__str__',\n",
       " '__subclasshook__',\n",
       " 'count',\n",
       " 'index']"
      ]
     },
     "execution_count": 5,
     "metadata": {},
     "output_type": "execute_result"
    }
   ],
   "source": [
    "#function of tuple\n",
    "\n",
    "var = (10,20,30)\n",
    "dir(var)"
   ]
  },
  {
   "cell_type": "code",
   "execution_count": 7,
   "id": "6fa26120-a901-4a74-9377-18b39f7902ea",
   "metadata": {},
   "outputs": [
    {
     "data": {
      "text/plain": [
       "5"
      ]
     },
     "execution_count": 7,
     "metadata": {},
     "output_type": "execute_result"
    }
   ],
   "source": [
    "var = (10,10,20,10,20,30,40)\n",
    "var.count(10)\n",
    "\n",
    "var.index(30)"
   ]
  },
  {
   "cell_type": "code",
   "execution_count": 20,
   "id": "be096391-f863-4d7a-a40f-ca6de95c17ba",
   "metadata": {},
   "outputs": [
    {
     "data": {
      "text/plain": [
       "(10, 20, 10, [100, 55, 65])"
      ]
     },
     "execution_count": 20,
     "metadata": {},
     "output_type": "execute_result"
    }
   ],
   "source": [
    "var = (10,20,10,[45,55,65])\n",
    "\n",
    "# var[-1]=100\n",
    "var[-1][0] = 100\n",
    "var"
   ]
  },
  {
   "cell_type": "code",
   "execution_count": 24,
   "id": "6bad8cbe-450d-4fdc-b655-3b42dae0e870",
   "metadata": {},
   "outputs": [
    {
     "name": "stdout",
     "output_type": "stream",
     "text": [
      "104 80\n"
     ]
    }
   ],
   "source": [
    "import sys\n",
    "\n",
    "li = [1,2,3,4,5]\n",
    "tuple = (1,2,3,4,5)\n",
    "\n",
    "list_size = sys.getsizeof(li)\n",
    "tuple_size = sys.getsizeof(tuple)\n",
    "\n",
    "print(list_size,tuple_size)\n"
   ]
  },
  {
   "cell_type": "code",
   "execution_count": null,
   "id": "bc064f3f-bb35-42e7-baa1-69ae0fdb3417",
   "metadata": {},
   "outputs": [],
   "source": [
    "#set ,frozenset,bytes,bytearray\n",
    "\n",
    "#set \n",
    "\n",
    "'''\n",
    "set data are enclosed in curlly brackets.\n",
    "it is not allowed any mutable datatype.\n",
    "indexing is not mattered.\n",
    "duplicate element is not allowed.\n",
    "It is a mutable datatype.\n",
    "\n",
    "'''\n"
   ]
  },
  {
   "cell_type": "code",
   "execution_count": 27,
   "id": "1ff1f5d0-a667-49e2-9c19-1096bf0eeef3",
   "metadata": {},
   "outputs": [
    {
     "data": {
      "text/plain": [
       "{(9+9j), 10, 20, 30, 40, 'qwerty'}"
      ]
     },
     "execution_count": 27,
     "metadata": {},
     "output_type": "execute_result"
    }
   ],
   "source": [
    "\n",
    "# indexing is not mattered.\n",
    "# duplicate element is not allowed.\n",
    "\n",
    "se = {10,20,'qwerty',9+9j,10,20,30,40}\n",
    "type(se)\n",
    "se"
   ]
  },
  {
   "cell_type": "code",
   "execution_count": 31,
   "id": "2ebf91ef-c1a4-4d4d-b7ba-a72a96565490",
   "metadata": {},
   "outputs": [
    {
     "ename": "TypeError",
     "evalue": "unhashable type: 'list'",
     "output_type": "error",
     "traceback": [
      "\u001b[0;31m---------------------------------------------------------------------------\u001b[0m",
      "\u001b[0;31mTypeError\u001b[0m                                 Traceback (most recent call last)",
      "Cell \u001b[0;32mIn[31], line 1\u001b[0m\n\u001b[0;32m----> 1\u001b[0m se \u001b[38;5;241m=\u001b[39m {\u001b[38;5;241m10\u001b[39m,\u001b[38;5;241m30\u001b[39m,(\u001b[38;5;241m20\u001b[39m,\u001b[38;5;241m30\u001b[39m,\u001b[38;5;241m40\u001b[39m),[\u001b[38;5;241m100\u001b[39m,\u001b[38;5;241m200\u001b[39m]}\n\u001b[1;32m      2\u001b[0m se\n",
      "\u001b[0;31mTypeError\u001b[0m: unhashable type: 'list'"
     ]
    }
   ],
   "source": [
    "#it is not allowed any mutable datatype.\n",
    "\n",
    "se = {10,30,(20,30,40),[100,200]}\n",
    "se"
   ]
  },
  {
   "cell_type": "code",
   "execution_count": 33,
   "id": "be963806-17d0-4210-94e9-1a0481cb9acc",
   "metadata": {},
   "outputs": [
    {
     "name": "stdout",
     "output_type": "stream",
     "text": [
      "['__and__', '__class__', '__class_getitem__', '__contains__', '__delattr__', '__dir__', '__doc__', '__eq__', '__format__', '__ge__', '__getattribute__', '__getstate__', '__gt__', '__hash__', '__iand__', '__init__', '__init_subclass__', '__ior__', '__isub__', '__iter__', '__ixor__', '__le__', '__len__', '__lt__', '__ne__', '__new__', '__or__', '__rand__', '__reduce__', '__reduce_ex__', '__repr__', '__ror__', '__rsub__', '__rxor__', '__setattr__', '__sizeof__', '__str__', '__sub__', '__subclasshook__', '__xor__', 'add', 'clear', 'copy', 'difference', 'difference_update', 'discard', 'intersection', 'intersection_update', 'isdisjoint', 'issubset', 'issuperset', 'pop', 'remove', 'symmetric_difference', 'symmetric_difference_update', 'union', 'update']\n"
     ]
    }
   ],
   "source": [
    "#set methods and function\n",
    "\n",
    "print(dir(set))"
   ]
  },
  {
   "cell_type": "code",
   "execution_count": 34,
   "id": "1e8a6e68-699f-43f0-b87d-6be823e7d494",
   "metadata": {},
   "outputs": [
    {
     "data": {
      "text/plain": [
       "{10, 13, 100, 160}"
      ]
     },
     "execution_count": 34,
     "metadata": {},
     "output_type": "execute_result"
    }
   ],
   "source": [
    "se = {10,100,160}\n",
    "se.add(13)\n",
    "se"
   ]
  },
  {
   "cell_type": "code",
   "execution_count": 36,
   "id": "695ab75e-0d28-4d53-8367-a3d6163f38c2",
   "metadata": {},
   "outputs": [
    {
     "data": {
      "text/plain": [
       "set()"
      ]
     },
     "execution_count": 36,
     "metadata": {},
     "output_type": "execute_result"
    }
   ],
   "source": [
    "se = {10,100,160}\n",
    "se.clear()\n",
    "se"
   ]
  },
  {
   "cell_type": "code",
   "execution_count": 44,
   "id": "863f7ad9-c804-44b6-b6df-036427cbcdb5",
   "metadata": {},
   "outputs": [],
   "source": [
    "#frozenset\n",
    "#to make a frozenset , we will required type casting.\n",
    "\n",
    "'''int(),float(),complex(),bool()\n",
    "str()\n",
    "list(),tuple(),set(),frozenset(),bytes(),bytearray()'''\n",
    "\n",
    "# single datatype should be convert to single datas only.\n",
    "\n",
    "a = 10\n",
    "b = float(a)\n",
    "c = complex(a)\n",
    "d = bool(a)\n",
    "\n"
   ]
  },
  {
   "cell_type": "code",
   "execution_count": 43,
   "id": "7323b5a1-a303-4d5c-8597-96bd03e71a6b",
   "metadata": {},
   "outputs": [
    {
     "ename": "TypeError",
     "evalue": "'int' object is not iterable",
     "output_type": "error",
     "traceback": [
      "\u001b[0;31m---------------------------------------------------------------------------\u001b[0m",
      "\u001b[0;31mTypeError\u001b[0m                                 Traceback (most recent call last)",
      "Cell \u001b[0;32mIn[43], line 4\u001b[0m\n\u001b[1;32m      1\u001b[0m \u001b[38;5;66;03m#single values not type cast to collections\u001b[39;00m\n\u001b[1;32m      3\u001b[0m a \u001b[38;5;241m=\u001b[39m \u001b[38;5;241m10\u001b[39m\n\u001b[0;32m----> 4\u001b[0m b \u001b[38;5;241m=\u001b[39m \u001b[38;5;28;43mlist\u001b[39;49m\u001b[43m(\u001b[49m\u001b[43ma\u001b[49m\u001b[43m)\u001b[49m\n\u001b[1;32m      5\u001b[0m b\n",
      "\u001b[0;31mTypeError\u001b[0m: 'int' object is not iterable"
     ]
    }
   ],
   "source": [
    "#single values not type cast to collections\n",
    "\n",
    "a = 10\n",
    "b = list(a)\n",
    "b"
   ]
  },
  {
   "cell_type": "code",
   "execution_count": 46,
   "id": "e7b7f6f0-f097-44b8-8404-bf311489e4c6",
   "metadata": {},
   "outputs": [
    {
     "ename": "TypeError",
     "evalue": "'tuple' object is not callable",
     "output_type": "error",
     "traceback": [
      "\u001b[0;31m---------------------------------------------------------------------------\u001b[0m",
      "\u001b[0;31mTypeError\u001b[0m                                 Traceback (most recent call last)",
      "Cell \u001b[0;32mIn[46], line 6\u001b[0m\n\u001b[1;32m      1\u001b[0m \u001b[38;5;66;03m#collection should convert to a another collection\u001b[39;00m\n\u001b[1;32m      2\u001b[0m \u001b[38;5;66;03m#list,tuple,set.frozenset,bytes,bytearray\u001b[39;00m\n\u001b[1;32m      4\u001b[0m li \u001b[38;5;241m=\u001b[39m [\u001b[38;5;241m10\u001b[39m,\u001b[38;5;241m10\u001b[39m,\u001b[38;5;241m20\u001b[39m,\u001b[38;5;241m30\u001b[39m,\u001b[38;5;241m40\u001b[39m,\u001b[38;5;241m50\u001b[39m,\u001b[38;5;241m70\u001b[39m]\n\u001b[0;32m----> 6\u001b[0m tup \u001b[38;5;241m=\u001b[39m \u001b[38;5;28;43mtuple\u001b[39;49m\u001b[43m(\u001b[49m\u001b[43mli\u001b[49m\u001b[43m)\u001b[49m\n\u001b[1;32m      7\u001b[0m tup\n",
      "\u001b[0;31mTypeError\u001b[0m: 'tuple' object is not callable"
     ]
    }
   ],
   "source": [
    "#collection should convert to a another collection\n",
    "#list,tuple,set.frozenset,bytes,bytearray\n",
    "\n"
   ]
  },
  {
   "cell_type": "code",
   "execution_count": 49,
   "id": "16e75d2e-c66b-4f6a-979c-ca3eb28f2769",
   "metadata": {},
   "outputs": [],
   "source": [
    "# li = [10,10,20,30,40,50,70]\n",
    "\n",
    "# tup = tuple(li)\n",
    "# se = set(li)\n",
    "# fz = frozenset(li)\n",
    "# by = bytes(li)\n",
    "# bya = bytearray(li)\n",
    "# print(bya)"
   ]
  },
  {
   "cell_type": "code",
   "execution_count": 50,
   "id": "e1848b90-c6b5-4143-a71f-517805f368ba",
   "metadata": {},
   "outputs": [],
   "source": [
    "#bytes and bytearray"
   ]
  },
  {
   "cell_type": "code",
   "execution_count": 54,
   "id": "db570023-5f66-40e7-bd5a-489fe7e4fc59",
   "metadata": {},
   "outputs": [
    {
     "ename": "ValueError",
     "evalue": "bytes must be in range(0, 256)",
     "output_type": "error",
     "traceback": [
      "\u001b[0;31m---------------------------------------------------------------------------\u001b[0m",
      "\u001b[0;31mValueError\u001b[0m                                Traceback (most recent call last)",
      "Cell \u001b[0;32mIn[54], line 2\u001b[0m\n\u001b[1;32m      1\u001b[0m li \u001b[38;5;241m=\u001b[39m [\u001b[38;5;241m0\u001b[39m,\u001b[38;5;241m1\u001b[39m,\u001b[38;5;241m2\u001b[39m,\u001b[38;5;241m254\u001b[39m,\u001b[38;5;241m255\u001b[39m,\u001b[38;5;241m256\u001b[39m]\n\u001b[0;32m----> 2\u001b[0m by \u001b[38;5;241m=\u001b[39m \u001b[38;5;28;43mbytes\u001b[39;49m\u001b[43m(\u001b[49m\u001b[43mli\u001b[49m\u001b[43m)\u001b[49m\n\u001b[1;32m      3\u001b[0m by\n",
      "\u001b[0;31mValueError\u001b[0m: bytes must be in range(0, 256)"
     ]
    }
   ],
   "source": [
    "li = [0,1,2,254,255,256]\n",
    "by = bytes(li)\n",
    "by"
   ]
  },
  {
   "cell_type": "code",
   "execution_count": 56,
   "id": "dc5c215e-6f54-4f16-a845-543c604b6904",
   "metadata": {},
   "outputs": [
    {
     "data": {
      "text/plain": [
       "b'ABCabc'"
      ]
     },
     "execution_count": 56,
     "metadata": {},
     "output_type": "execute_result"
    }
   ],
   "source": [
    "li = [65,66,67,97,98,99]\n",
    "b = bytes(li)\n",
    "b"
   ]
  },
  {
   "cell_type": "code",
   "execution_count": null,
   "id": "91e8b8ca-62ac-43c2-8fb7-82b65c51e306",
   "metadata": {},
   "outputs": [],
   "source": [
    "#dictionary\n",
    "# key and value pairs , keys always look like tables columns and values looks like excel rows.\n",
    "# keys are always unquie and values are may be same\n",
    "# key and value pair should maintain in through , : (colon) :- name:ajay\n",
    "# one key pair seoparate withb another key pair help of ,(comma) :- name:ajay,age:23,salary:90\n",
    "# key value encloed with {} :- (curly brackets\n",
    "# key is always take immutable data type.\n",
    "# values are both accept the mutable and immutable."
   ]
  },
  {
   "cell_type": "code",
   "execution_count": 8,
   "id": "0803068e-5ed8-4aab-8683-938929b44eb7",
   "metadata": {},
   "outputs": [
    {
     "data": {
      "text/plain": [
       "dict"
      ]
     },
     "execution_count": 8,
     "metadata": {},
     "output_type": "execute_result"
    }
   ],
   "source": [
    "di = {'name':'ajay'}\n",
    "type(di)"
   ]
  },
  {
   "cell_type": "code",
   "execution_count": 13,
   "id": "08f55a63-58e4-41cb-bb3b-5aefc4ab5dc7",
   "metadata": {},
   "outputs": [
    {
     "data": {
      "text/plain": [
       "{'Name': 'Ajay', 'Age': 21, 'Salary': 78000}"
      ]
     },
     "execution_count": 13,
     "metadata": {},
     "output_type": "execute_result"
    }
   ],
   "source": [
    "di = {'Name':'Sahil','Age':21,'Salary':78000}\n",
    "\n",
    "#how to access the value. help of key we can access.\n",
    "\n",
    "# di[key]\n",
    "# di['Name']\n",
    "\n",
    "# di['Name'] = 'Ragav'\n",
    "\n",
    "# di\n",
    "\n",
    "# di['Address']='BBSR'\n",
    "# di\n",
    "\n",
    "# di = {'Name':'Sahil','Age':21,'Salary':78000,'Name':'Ajay'}\n",
    "# di"
   ]
  },
  {
   "cell_type": "code",
   "execution_count": 14,
   "id": "1e94cc5d-6cd6-4b66-8470-8617a2540c3e",
   "metadata": {},
   "outputs": [
    {
     "data": {
      "text/plain": [
       "['__class__',\n",
       " '__class_getitem__',\n",
       " '__contains__',\n",
       " '__delattr__',\n",
       " '__delitem__',\n",
       " '__dir__',\n",
       " '__doc__',\n",
       " '__eq__',\n",
       " '__format__',\n",
       " '__ge__',\n",
       " '__getattribute__',\n",
       " '__getitem__',\n",
       " '__getstate__',\n",
       " '__gt__',\n",
       " '__hash__',\n",
       " '__init__',\n",
       " '__init_subclass__',\n",
       " '__ior__',\n",
       " '__iter__',\n",
       " '__le__',\n",
       " '__len__',\n",
       " '__lt__',\n",
       " '__ne__',\n",
       " '__new__',\n",
       " '__or__',\n",
       " '__reduce__',\n",
       " '__reduce_ex__',\n",
       " '__repr__',\n",
       " '__reversed__',\n",
       " '__ror__',\n",
       " '__setattr__',\n",
       " '__setitem__',\n",
       " '__sizeof__',\n",
       " '__str__',\n",
       " '__subclasshook__',\n",
       " 'clear',\n",
       " 'copy',\n",
       " 'fromkeys',\n",
       " 'get',\n",
       " 'items',\n",
       " 'keys',\n",
       " 'pop',\n",
       " 'popitem',\n",
       " 'setdefault',\n",
       " 'update',\n",
       " 'values']"
      ]
     },
     "execution_count": 14,
     "metadata": {},
     "output_type": "execute_result"
    }
   ],
   "source": [
    "di = {'Name':'Sahil','Age':21,'Salary':78000,'Name':'Ajay'}\n",
    "dir(di)"
   ]
  },
  {
   "cell_type": "code",
   "execution_count": 33,
   "id": "7c1c220b-8cd8-4ea8-9b11-6f2f2d3a4ffe",
   "metadata": {},
   "outputs": [
    {
     "data": {
      "text/plain": [
       "{}"
      ]
     },
     "execution_count": 33,
     "metadata": {},
     "output_type": "execute_result"
    }
   ],
   "source": [
    "#clear:-\n",
    "\n",
    "di = {'Name':'Sahil','Age':21,'Salary':78000,'Name':'Ajay'}\n",
    "di.clear()\n",
    "di\n"
   ]
  },
  {
   "cell_type": "code",
   "execution_count": 21,
   "id": "e89de127-1e44-43b3-9a78-6cefa6026d38",
   "metadata": {},
   "outputs": [
    {
     "data": {
      "text/plain": [
       "{'Name': 'Ajay', 'Age': 21, 'Salary': 78000}"
      ]
     },
     "execution_count": 21,
     "metadata": {},
     "output_type": "execute_result"
    }
   ],
   "source": [
    "#copy:-\n",
    "\n",
    "di = {'Name':'Sahil','Age':21,'Salary':78000,'Name':'Ajay'}\n",
    "\n",
    "var1 = di.copy()\n",
    "var1"
   ]
  },
  {
   "cell_type": "code",
   "execution_count": 24,
   "id": "46a551f9-3d82-437b-acc6-145edc259fd2",
   "metadata": {},
   "outputs": [
    {
     "data": {
      "text/plain": [
       "21"
      ]
     },
     "execution_count": 24,
     "metadata": {},
     "output_type": "execute_result"
    }
   ],
   "source": [
    "#get():-\n",
    "\n",
    "di = {'Name':'Sahil','Age':21,'Salary':78000}\n",
    "\n",
    "# di['Name']\n",
    "di.get('Age')\n"
   ]
  },
  {
   "cell_type": "code",
   "execution_count": 29,
   "id": "7d090a50-06ef-4141-b39c-729b88b4167b",
   "metadata": {},
   "outputs": [
    {
     "data": {
      "text/plain": [
       "dict_keys(['Name', 'Age', 'Salary'])"
      ]
     },
     "execution_count": 29,
     "metadata": {},
     "output_type": "execute_result"
    }
   ],
   "source": [
    "# keys:-\n",
    "\n",
    "di = {'Name':'Sahil','Age':21,'Salary':78000}\n",
    "di.keys()\n",
    "\n"
   ]
  },
  {
   "cell_type": "code",
   "execution_count": 28,
   "id": "dfa96d43-5804-4bd3-a3d8-31ba74cea810",
   "metadata": {},
   "outputs": [
    {
     "data": {
      "text/plain": [
       "dict_values(['Sahil', 21, 78000])"
      ]
     },
     "execution_count": 28,
     "metadata": {},
     "output_type": "execute_result"
    }
   ],
   "source": [
    "#values\n",
    "\n",
    "di.values()"
   ]
  },
  {
   "cell_type": "code",
   "execution_count": 30,
   "id": "48f1d4b5-97e9-46c0-ab1d-03f1c3ec6cb0",
   "metadata": {},
   "outputs": [
    {
     "data": {
      "text/plain": [
       "dict_items([('Name', 'Sahil'), ('Age', 21), ('Salary', 78000)])"
      ]
     },
     "execution_count": 30,
     "metadata": {},
     "output_type": "execute_result"
    }
   ],
   "source": [
    "#items():-\n",
    "\n",
    "di.items()"
   ]
  },
  {
   "cell_type": "code",
   "execution_count": 37,
   "id": "3d3c3478-5a57-4b76-99d9-d309e3b949c8",
   "metadata": {},
   "outputs": [
    {
     "data": {
      "text/plain": [
       "{'Name': 'Sahil', 'Age': 21, 'Salary': 78000, 'Address': 'BBSR'}"
      ]
     },
     "execution_count": 37,
     "metadata": {},
     "output_type": "execute_result"
    }
   ],
   "source": [
    "#setdefault\n",
    "di = {'Name':'Sahil','Age':21,'Salary':78000}\n",
    "# di['Address']='BBSR'\n",
    "# di\n",
    "\n",
    "\n",
    "di.setdefault('Address','BBSR')\n",
    "di"
   ]
  },
  {
   "cell_type": "code",
   "execution_count": 40,
   "id": "29a1dbe0-f67f-47a8-90cc-eff220170d3a",
   "metadata": {},
   "outputs": [
    {
     "data": {
      "text/plain": [
       "{'Salary': 45000, 'Address': 'BBSR', 'Name': 'A', 'Age': 21}"
      ]
     },
     "execution_count": 40,
     "metadata": {},
     "output_type": "execute_result"
    }
   ],
   "source": [
    "#update : merge two dictionary\n",
    "\n",
    "di1 = {'Name':'A','Age':21}\n",
    "di2 = {'Salary':45000,'Address':'BBSR'}\n",
    "\n",
    "di2.update(di1)\n",
    "di2"
   ]
  },
  {
   "cell_type": "code",
   "execution_count": 42,
   "id": "e6cc0d1e-9eb4-4c87-900e-f767ac1c4f6f",
   "metadata": {},
   "outputs": [
    {
     "data": {
      "text/plain": [
       "{'Salary': 45000, 'Address': 'BBSR', 'Name': 'A'}"
      ]
     },
     "execution_count": 42,
     "metadata": {},
     "output_type": "execute_result"
    }
   ],
   "source": [
    "#popitem():- \n",
    "\n",
    "di = {'Salary': 45000, 'Address': 'BBSR', 'Name': 'A', 'Age': 21}\n",
    "di.popitem()\n",
    "di"
   ]
  },
  {
   "cell_type": "code",
   "execution_count": 43,
   "id": "a4b87937-1454-4852-a25e-9d31aa7ce4f0",
   "metadata": {},
   "outputs": [
    {
     "data": {
      "text/plain": [
       "{'Salary': 45000, 'Name': 'A', 'Age': 21}"
      ]
     },
     "execution_count": 43,
     "metadata": {},
     "output_type": "execute_result"
    }
   ],
   "source": [
    "#pop\n",
    "\n",
    "di = {'Salary': 45000, 'Address': 'BBSR', 'Name': 'A', 'Age': 21}\n",
    "di.pop('Address')\n",
    "di"
   ]
  },
  {
   "cell_type": "code",
   "execution_count": 54,
   "id": "cbc32e71-a0bc-4314-b59a-2f55a4a4ed96",
   "metadata": {},
   "outputs": [
    {
     "name": "stdout",
     "output_type": "stream",
     "text": [
      "<class 'NoneType'>\n"
     ]
    }
   ],
   "source": [
    "# None :- None Nonthing to their.\n",
    "\n",
    "\n",
    "bank_debit_card = None\n",
    "print(type(bank_debit_card))\n"
   ]
  },
  {
   "cell_type": "code",
   "execution_count": 58,
   "id": "c6f8e27c-3fd3-42d8-8f11-2490a900367c",
   "metadata": {},
   "outputs": [
    {
     "name": "stdout",
     "output_type": "stream",
     "text": [
      "None\n"
     ]
    }
   ],
   "source": [
    "def f1():\n",
    "    a = 10\n",
    "\n",
    "print(f1())"
   ]
  },
  {
   "cell_type": "code",
   "execution_count": null,
   "id": "e80a31d0-458f-4db4-a36e-13b7bddcabf4",
   "metadata": {},
   "outputs": [],
   "source": [
    "#garbage collection\n",
    "# in variable how to store data\n",
    "# in backend how data look like\n",
    "#heep memory and stack memory"
   ]
  },
  {
   "cell_type": "code",
   "execution_count": 2,
   "id": "2347c9e4-12db-406e-8de0-842f218d2e9e",
   "metadata": {},
   "outputs": [
    {
     "name": "stdout",
     "output_type": "stream",
     "text": [
      "['False', 'None', 'True', 'and', 'as', 'assert', 'async', 'await', 'break', 'class', 'continue', 'def', 'del', 'elif', 'else', 'except', 'finally', 'for', 'from', 'global', 'if', 'import', 'in', 'is', 'lambda', 'nonlocal', 'not', 'or', 'pass', 'raise', 'return', 'try', 'while', 'with', 'yield']\n"
     ]
    }
   ],
   "source": [
    "import keyword\n",
    "print(keyword.kwlist)\n"
   ]
  },
  {
   "cell_type": "code",
   "execution_count": 3,
   "id": "88e885a6-1aeb-4eec-97d4-ce4336a31f8c",
   "metadata": {},
   "outputs": [],
   "source": [
    "HBjjk_67 = 90"
   ]
  },
  {
   "cell_type": "code",
   "execution_count": 4,
   "id": "62c05e13-2345-4d38-86fe-5118ecdbecf8",
   "metadata": {},
   "outputs": [
    {
     "ename": "SyntaxError",
     "evalue": "invalid decimal literal (2969110590.py, line 1)",
     "output_type": "error",
     "traceback": [
      "\u001b[0;36m  Cell \u001b[0;32mIn[4], line 1\u001b[0;36m\u001b[0m\n\u001b[0;31m    6hj = 90\u001b[0m\n\u001b[0m    ^\u001b[0m\n\u001b[0;31mSyntaxError\u001b[0m\u001b[0;31m:\u001b[0m invalid decimal literal\n"
     ]
    }
   ],
   "source": [
    "6hj = 90"
   ]
  },
  {
   "cell_type": "code",
   "execution_count": null,
   "id": "ce0e917a-f6c1-4185-826a-8b0dc3bfb3f2",
   "metadata": {},
   "outputs": [],
   "source": []
  }
 ],
 "metadata": {
  "kernelspec": {
   "display_name": "Python 3 (ipykernel)",
   "language": "python",
   "name": "python3"
  },
  "language_info": {
   "codemirror_mode": {
    "name": "ipython",
    "version": 3
   },
   "file_extension": ".py",
   "mimetype": "text/x-python",
   "name": "python",
   "nbconvert_exporter": "python",
   "pygments_lexer": "ipython3",
   "version": "3.13.2"
  }
 },
 "nbformat": 4,
 "nbformat_minor": 5
}
