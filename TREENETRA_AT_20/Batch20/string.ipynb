{
 "cells": [
  {
   "cell_type": "code",
   "execution_count": 7,
   "id": "02d81447-cc09-4b63-9bd7-9f1840087e12",
   "metadata": {},
   "outputs": [
    {
     "data": {
      "text/plain": [
       "'multiline comment'"
      ]
     },
     "execution_count": 7,
     "metadata": {},
     "output_type": "execute_result"
    }
   ],
   "source": [
    "#string?\n",
    "'''Collection of alpha, numeric and special char, know as string and a python string should be enclosed in  \n",
    "single :- ''\n",
    "double :- \"\"\n",
    "triple cot :- ''' ''', \"\"\" \"\"\" \n",
    "\n",
    "\n",
    "A-Z\n",
    "a-z\n",
    "0-9\n",
    "!@#$%^&*()_+{\":><>?\":{\n",
    "\n",
    "'''\n",
    "\n",
    "# var = \"Gagan\"\n",
    "\n",
    "''' where we can use single cot, double cot and triple cot'''\n",
    "\n",
    "# signle cot and doubl used for data declaration\n",
    "\n",
    "# var  = ? string data declrartion\n",
    "\n",
    "# triple cot used?\n",
    "# '''multiline comment'''\n",
    "# doc string :- documentation string\n",
    "\n",
    "\n",
    "# function(prepaid bill deduction):\n",
    "#     ''' why this function was written, and how to use this function'''\n"
   ]
  },
  {
   "cell_type": "code",
   "execution_count": 24,
   "id": "c5c05c86-a5cc-4aee-a218-b0c1a76a9aea",
   "metadata": {},
   "outputs": [
    {
     "name": "stdout",
     "output_type": "stream",
     "text": [
      "Bhu\n",
      "eswar\n",
      "bane\n",
      "rawsenabuhB\n",
      "enab\n"
     ]
    }
   ],
   "source": [
    "#What is slicing in string?\n",
    "'''peace of the string'''\n",
    "''' \n",
    "In String , python provides the indexing\n",
    "indexing both +ve and - ve indexing\n",
    "Right to left -ve indexing\n",
    "Left to right +ve indexing\n",
    "'''\n",
    "\n",
    "\n",
    "var = 'Bhubaneswar'\n",
    "# print(len(var))\n",
    "\n",
    "\n",
    "#formula\n",
    "# var_name[start:end+1:steps]\n",
    "\n",
    "# print(var[0:3])\n",
    "# print(var[-5:])\n",
    "# print(var[3:7])\n",
    "# print(var[::-1])\n",
    "# print(var[6:2:-1])\n",
    "\n",
    "\n",
    "\n"
   ]
  },
  {
   "cell_type": "code",
   "execution_count": 29,
   "id": "b1e30081-ac5e-4f8e-b72e-14fd6a014d22",
   "metadata": {},
   "outputs": [
    {
     "name": "stdout",
     "output_type": "stream",
     "text": [
      "ABABABABABABABABABABABABABABABABABABABAB\n"
     ]
    }
   ],
   "source": [
    "# string arithmetic operation\n",
    "# string addition , string multiplication\n",
    "\n",
    "''' String add with a another string only'''\n",
    "\n",
    "# a = 'AB'\n",
    "# b = 'CD'\n",
    "# print(a+b)\n",
    "\n",
    "'''string multiple with a int only'''\n",
    "'''a = 'AB'\n",
    "b = 20\n",
    "print(a*b)'''"
   ]
  },
  {
   "cell_type": "code",
   "execution_count": 9,
   "id": "372e990c-0573-4307-a10e-a5c6062a4ce4",
   "metadata": {},
   "outputs": [
    {
     "name": "stdout",
     "output_type": "stream",
     "text": [
      "Bhabbata06raws202020602-GIL\n"
     ]
    }
   ],
   "source": [
    "# Create a unqiue password\n",
    "\n",
    "Name = 'Bhabanishank Debata'\n",
    "dob = '19/06/1996'\n",
    "address = 'Bhubaneswar'\n",
    "vichel = 'OD-02-AB-9187'\n",
    "house_addres = 'LIG-206/1st'\n",
    "\n",
    "\n",
    "# name first 4 char and last 4 char\n",
    "# dob - month only\n",
    "# address - last 4 char reverse string\n",
    "# vichel :- Area code reverse 3times\n",
    "# House :- first 7 char rev\n",
    "\n",
    "# Bhabatab06raws020202602-GIL\n",
    "\n",
    "password = Name[0:4]+Name[-4:]+dob[3:5]+address[-1:-5:-1]+vichel[4:2:-1]*3+house_addres[-5::-1]\n",
    "print(password)"
   ]
  },
  {
   "cell_type": "code",
   "execution_count": 13,
   "id": "bb36f065-f93a-4245-95f8-b3c3eb282824",
   "metadata": {},
   "outputs": [
    {
     "name": "stdout",
     "output_type": "stream",
     "text": [
      "QWERTY\n",
      "QWERTY\n"
     ]
    }
   ],
   "source": [
    "#what is mutable and immutable ?\n",
    "\n",
    "'''\n",
    "Those datatype are changeable and element modification is possiable known as mutable datatype.\n",
    "Those datatype are not changeable and element modification is not possiable is known as immutbale datatype.\n",
    "'''\n",
    "\n",
    "'''String is a immutable datatype'''"
   ]
  },
  {
   "cell_type": "code",
   "execution_count": 15,
   "id": "2ce68e20-6b56-441f-bd8f-83de8ab9f3b3",
   "metadata": {},
   "outputs": [
    {
     "name": "stdout",
     "output_type": "stream",
     "text": [
      "<class 'int'>\n"
     ]
    }
   ],
   "source": [
    "#own functionality\n",
    "\n",
    "a = 10\n",
    "print(type(a))\n",
    "\n"
   ]
  },
  {
   "cell_type": "code",
   "execution_count": 17,
   "id": "6eb69fb8-1c7c-4d2b-9c6a-a0762ece7fe7",
   "metadata": {},
   "outputs": [
    {
     "name": "stdout",
     "output_type": "stream",
     "text": [
      "['__add__', '__class__', '__contains__', '__delattr__', '__dir__', '__doc__', '__eq__', '__format__', '__ge__', '__getattribute__', '__getitem__', '__getnewargs__', '__getstate__', '__gt__', '__hash__', '__init__', '__init_subclass__', '__iter__', '__le__', '__len__', '__lt__', '__mod__', '__mul__', '__ne__', '__new__', '__reduce__', '__reduce_ex__', '__repr__', '__rmod__', '__rmul__', '__setattr__', '__sizeof__', '__str__', '__subclasshook__', 'capitalize', 'casefold', 'center', 'count', 'encode', 'endswith', 'expandtabs', 'find', 'format', 'format_map', 'index', 'isalnum', 'isalpha', 'isascii', 'isdecimal', 'isdigit', 'isidentifier', 'islower', 'isnumeric', 'isprintable', 'isspace', 'istitle', 'isupper', 'join', 'ljust', 'lower', 'lstrip', 'maketrans', 'partition', 'removeprefix', 'removesuffix', 'replace', 'rfind', 'rindex', 'rjust', 'rpartition', 'rsplit', 'rstrip', 'split', 'splitlines', 'startswith', 'strip', 'swapcase', 'title', 'translate', 'upper', 'zfill']\n"
     ]
    }
   ],
   "source": [
    "print(dir(str))"
   ]
  },
  {
   "cell_type": "code",
   "execution_count": 19,
   "id": "3e8be59a-dac6-4cf7-88e0-67936effd08c",
   "metadata": {},
   "outputs": [
    {
     "name": "stdout",
     "output_type": "stream",
     "text": [
      "['__add__', '__class__', '__contains__', '__delattr__', '__dir__', '__doc__', '__eq__', '__format__', '__ge__', '__getattribute__', '__getitem__', '__getnewargs__', '__getstate__', '__gt__', '__hash__', '__init__', '__init_subclass__', '__iter__', '__le__', '__len__', '__lt__', '__mod__', '__mul__', '__ne__', '__new__', '__reduce__', '__reduce_ex__', '__repr__', '__rmod__', '__rmul__', '__setattr__', '__sizeof__', '__str__', '__subclasshook__', 'capitalize', 'casefold', 'center', 'count', 'encode', 'endswith', 'expandtabs', 'find', 'format', 'format_map', 'index', 'isalnum', 'isalpha', 'isascii', 'isdecimal', 'isdigit', 'isidentifier', 'islower', 'isnumeric', 'isprintable', 'isspace', 'istitle', 'isupper', 'join', 'ljust', 'lower', 'lstrip', 'maketrans', 'partition', 'removeprefix', 'removesuffix', 'replace', 'rfind', 'rindex', 'rjust', 'rpartition', 'rsplit', 'rstrip', 'split', 'splitlines', 'startswith', 'strip', 'swapcase', 'title', 'translate', 'upper', 'zfill']\n"
     ]
    }
   ],
   "source": [
    "var = 'qwerty'\n",
    "print(dir(var))"
   ]
  },
  {
   "cell_type": "code",
   "execution_count": null,
   "id": "3d7f66ce-e401-4f2d-9a2b-493efad37e8b",
   "metadata": {},
   "outputs": [],
   "source": [
    "#https://www.w3schools.com/python/python_ref_string.asp (methods means)\n"
   ]
  },
  {
   "cell_type": "code",
   "execution_count": 22,
   "id": "c2d53a66-977d-4bda-89dd-472657e425db",
   "metadata": {},
   "outputs": [
    {
     "name": "stdout",
     "output_type": "stream",
     "text": [
      "Qwerty\n"
     ]
    }
   ],
   "source": [
    "#capitalize():- Converts the first character to upper case\n",
    "\n",
    "var = 'qwerty'\n",
    "print(var.capitalize())\n"
   ]
  },
  {
   "cell_type": "code",
   "execution_count": 26,
   "id": "5503a367-e910-4f66-a633-b2777d54edba",
   "metadata": {},
   "outputs": [
    {
     "name": "stdout",
     "output_type": "stream",
     "text": [
      "True\n"
     ]
    }
   ],
   "source": [
    "#startswith(single_value):- Return the bool value, \tReturns true if the string starts with the specified value\n",
    "\n",
    "var = 'qwerty'\n",
    "print(var.startswith('qw'))"
   ]
  },
  {
   "cell_type": "code",
   "execution_count": 27,
   "id": "a6d35c9b-ae81-4ea9-aac1-c1ac552bc1d1",
   "metadata": {},
   "outputs": [
    {
     "name": "stdout",
     "output_type": "stream",
     "text": [
      "True\n"
     ]
    }
   ],
   "source": [
    "#endswith(single_value):-Returns true if the string ends with the specified value\n",
    "\n",
    "var = 'qwerty'\n",
    "print(var.endswith('y'))"
   ]
  },
  {
   "cell_type": "code",
   "execution_count": 28,
   "id": "e734c472-e2b7-438a-859e-2c5211fb4978",
   "metadata": {},
   "outputs": [
    {
     "name": "stdout",
     "output_type": "stream",
     "text": [
      "QWEETYNJM\n"
     ]
    }
   ],
   "source": [
    "#upper():- \tConverts a string into upper case\n",
    "\n",
    "var = 'QweeTYnjm'\n",
    "print(var.upper())"
   ]
  },
  {
   "cell_type": "code",
   "execution_count": 29,
   "id": "01a62df6-0ce6-41a5-b206-7c564eb15446",
   "metadata": {},
   "outputs": [
    {
     "name": "stdout",
     "output_type": "stream",
     "text": [
      "qweetynjm\n"
     ]
    }
   ],
   "source": [
    "#lower():- \tConverts a string into lower case\n",
    "\n",
    "var = 'QweeTYnjm'\n",
    "print(var.lower())"
   ]
  },
  {
   "cell_type": "code",
   "execution_count": 36,
   "id": "2ce05c98-6615-4add-9360-0ab961774337",
   "metadata": {},
   "outputs": [
    {
     "name": "stdout",
     "output_type": "stream",
     "text": [
      "6\n"
     ]
    }
   ],
   "source": [
    "#count(value) :- Returns the number of times a specified value occurs in a string\n",
    "\n",
    "st = 'i love india, india is best'\n",
    "# print(len(st))\n",
    "print(st.count('i'))"
   ]
  },
  {
   "cell_type": "code",
   "execution_count": 39,
   "id": "b9adc030-521b-4d0d-93dc-b17e8fb9efe7",
   "metadata": {},
   "outputs": [
    {
     "name": "stdout",
     "output_type": "stream",
     "text": [
      "jonney hocky\n"
     ]
    }
   ],
   "source": [
    "#replace(old,new) :- Returns a string where a specified value is replaced with a specified value\n",
    "\n",
    "st = 'honney hocky'\n",
    "\n",
    "print(st.replace('honney','jonney'))"
   ]
  },
  {
   "cell_type": "code",
   "execution_count": 50,
   "id": "323067a6-809f-4142-a8e1-2790422d12e9",
   "metadata": {},
   "outputs": [
    {
     "name": "stdout",
     "output_type": "stream",
     "text": [
      "True\n"
     ]
    }
   ],
   "source": [
    "#is methods:- 'isalnum', 'isalpha', 'isascii', 'isdecimal', 'isdigit', 'isidentifier', 'islower', 'isnumeric', 'isprintable', 'isspace', 'istitle', 'isupper\n",
    "\n",
    "'''is methods return the boolean values'''\n",
    "\n",
    "s = '1234'\n",
    "print(s.isdecimal())"
   ]
  },
  {
   "cell_type": "code",
   "execution_count": 4,
   "id": "5e4bff5f-8182-4f5f-8bd0-b4c127b838d0",
   "metadata": {},
   "outputs": [
    {
     "name": "stdout",
     "output_type": "stream",
     "text": [
      "bhubaneswar is        city\n",
      "bhubaneswar is        city        \n",
      "        bhubaneswar is        city\n"
     ]
    }
   ],
   "source": [
    "#strip :- \tReturns a trimmed version of the string\n",
    "\n",
    "\n",
    "st = '        bhubaneswar        '\n",
    "print(st.strip())\n",
    "print(st.lstrip())\n",
    "print(st.rstrip())"
   ]
  },
  {
   "cell_type": "code",
   "execution_count": 12,
   "id": "0bd46d3e-5fdc-4664-970c-e87ad51142d5",
   "metadata": {},
   "outputs": [
    {
     "name": "stdout",
     "output_type": "stream",
     "text": [
      "['Abhijeet', 'Abhiman', 'Abhilash', 'Abhilipsa']\n"
     ]
    }
   ],
   "source": [
    "#split:- Splits the string at the specified separator, and returns a list\n",
    "\n",
    "st = 'Abhijeet Abhiman Abhilash Abhilipsa'\n",
    "print(st.split())\n",
    "\n"
   ]
  },
  {
   "cell_type": "code",
   "execution_count": 16,
   "id": "2a9e977e-2cdf-4773-afb1-2480fa228b57",
   "metadata": {},
   "outputs": [
    {
     "name": "stdout",
     "output_type": "stream",
     "text": [
      "Abhijeet Abhiman Abhilash Abhilipsa\n"
     ]
    }
   ],
   "source": [
    "#join :- Converts the elements of an iterable into a string\n",
    "\n",
    "collection = ['Abhijeet', 'Abhiman', 'Abhilash', 'Abhilipsa']\n",
    "\n",
    "print(' '.join(collection))"
   ]
  },
  {
   "cell_type": "code",
   "execution_count": 34,
   "id": "e1869312-2770-47f2-9fee-312bcb1cc0e0",
   "metadata": {},
   "outputs": [
    {
     "name": "stdout",
     "output_type": "stream",
     "text": [
      "6\n"
     ]
    }
   ],
   "source": [
    "#find :- Searches the string for a specified value and returns the position of where it was found\n",
    "#index :- \tSearches the string for a specified value and returns the position of where it was found\n",
    "\n",
    "''' find :- if element is not present then return the -1\n",
    "    index :- if element is nor present it will raise a error :- ValueError\n",
    "'''\n",
    "\n",
    "\n",
    "st = 'qwertyqh'\n",
    "print(st.find('qh'))\n",
    "# print(st.index('z'))\n",
    "\n",
    "\n"
   ]
  },
  {
   "cell_type": "code",
   "execution_count": 30,
   "id": "ceb205ef-b561-491c-a649-ed1e0cc8c03f",
   "metadata": {},
   "outputs": [
    {
     "name": "stdout",
     "output_type": "stream",
     "text": [
      "a is 1000, b is 2056 and the sum is 3056\n"
     ]
    }
   ],
   "source": [
    "#format:- \tFormats specified values in a string\n",
    "''' f string '''\n",
    "\n",
    "a = 1000\n",
    "b = 2056\n",
    "\n",
    "res = a+b\n",
    "\n",
    "print(f'a is {a}, b is {b} and the sum is {res}')\n"
   ]
  },
  {
   "cell_type": "code",
   "execution_count": null,
   "id": "e4c83546-a577-4c7e-9355-a071b27e3274",
   "metadata": {},
   "outputs": [],
   "source": []
  },
  {
   "cell_type": "code",
   "execution_count": 47,
   "id": "8e6291b8-0b2a-4b56-a3e5-c0ee2301a770",
   "metadata": {},
   "outputs": [
    {
     "name": "stdout",
     "output_type": "stream",
     "text": [
      "najnar itoyj\n",
      "najnar\n",
      "najnar\n"
     ]
    }
   ],
   "source": [
    "st= 'jyoti ranjan'\n",
    "\n",
    "print(st[::-1])\n",
    "print(st[-1:-7:-1])\n",
    "print(st[12:5:-1])\n",
    "\n"
   ]
  },
  {
   "cell_type": "code",
   "execution_count": null,
   "id": "af2c3126-69a6-49d3-9b1d-e9b53ee85de2",
   "metadata": {},
   "outputs": [],
   "source": []
  }
 ],
 "metadata": {
  "kernelspec": {
   "display_name": "Python 3 (ipykernel)",
   "language": "python",
   "name": "python3"
  },
  "language_info": {
   "codemirror_mode": {
    "name": "ipython",
    "version": 3
   },
   "file_extension": ".py",
   "mimetype": "text/x-python",
   "name": "python",
   "nbconvert_exporter": "python",
   "pygments_lexer": "ipython3",
   "version": "3.13.2"
  }
 },
 "nbformat": 4,
 "nbformat_minor": 5
}
