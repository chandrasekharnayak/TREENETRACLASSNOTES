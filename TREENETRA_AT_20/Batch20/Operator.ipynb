{
 "cells": [
  {
   "cell_type": "code",
   "execution_count": null,
   "id": "1c7e015c-b2ed-4a44-b31e-d54d0beea6ba",
   "metadata": {},
   "outputs": [],
   "source": [
    "#what is an operator \n",
    "'''operatoes are words or symbols those are provide the some operation in python'''\n",
    "\n",
    "\n",
    "'''\n",
    "Arithmetic op\n",
    "Realational op or comparision op\n",
    "Logical op\n",
    "Assignment op\n",
    "Bitwise op\n",
    "special op (idenity op and membership op)\n",
    "'''"
   ]
  },
  {
   "cell_type": "code",
   "execution_count": null,
   "id": "f8eba311-163a-4f09-817c-63533b0dd673",
   "metadata": {},
   "outputs": [],
   "source": []
  },
  {
   "cell_type": "code",
   "execution_count": 8,
   "id": "ff2027fe-0bb2-4c2b-913c-a9ee4969a1b5",
   "metadata": {},
   "outputs": [
    {
     "name": "stdout",
     "output_type": "stream",
     "text": [
      "3.3333333333333335\n",
      "3\n",
      "100\n",
      "16\n",
      "0\n"
     ]
    }
   ],
   "source": [
    "#Arithmetic op \n",
    "\n",
    "'''\n",
    "+ (addition operation)\n",
    "- (substraction operation)\n",
    "* (Multiplication operation)\n",
    "/ (division operation)\n",
    "// (floor division)\n",
    "** (Exponent) \n",
    "% (modulo)\n",
    "'''\n",
    "\n",
    "a = 10\n",
    "b = 3\n",
    "\n",
    "print(a/b)\n",
    "print(a//b)\n",
    "\n",
    "print(10**2)\n",
    "print(2**4)\n",
    "\n",
    "print(10%2) \n",
    "\n",
    "\n",
    "\n"
   ]
  },
  {
   "cell_type": "code",
   "execution_count": 15,
   "id": "0acd4840-247a-437f-9130-a7242b985a4f",
   "metadata": {},
   "outputs": [
    {
     "name": "stdout",
     "output_type": "stream",
     "text": [
      "False\n",
      "True\n",
      "False\n",
      "True\n",
      "True\n",
      "False\n"
     ]
    }
   ],
   "source": [
    "#Realational op or comparision op\n",
    "\n",
    "''' this operation must be return a boolean Value , True and False'''\n",
    "\n",
    "'''\n",
    "> \n",
    "<\n",
    ">=\n",
    "<=\n",
    "\n",
    "== (compare between two or numbers)\n",
    "!= (not equal)\n",
    "\n",
    "'''\n",
    "\n",
    "print(10>11)\n",
    "print(10>9)\n",
    "print(10<9)\n",
    "print(10>=10)\n",
    "\n",
    "print(10==10)\n",
    "print(10!=10)\n",
    "\n",
    "\n"
   ]
  },
  {
   "cell_type": "code",
   "execution_count": null,
   "id": "a970f72d-b1fb-4ea9-92e9-6a992f825157",
   "metadata": {},
   "outputs": [],
   "source": [
    "#Assignment op ( = )\n",
    "\n",
    "''' store or assign , some data or value in a variable '''\n",
    "var = 10\n",
    "\n",
    "    #compound assignment op ( when both assignment and arithmetic work in single line know as comound assignment op\n",
    "        a = a+10\n",
    "        a = a*10\n",
    "        a = a-10\n",
    "        a = a/10\n",
    "\n",
    "\n"
   ]
  },
  {
   "cell_type": "code",
   "execution_count": null,
   "id": "4584c877-6de7-4a03-b19e-d0b4733b13db",
   "metadata": {},
   "outputs": [],
   "source": [
    "#logical op\n",
    "\n",
    "'''\n",
    "and :- if both the condition is True, then the statement is True\n",
    "\n",
    "T.    T.     T\n",
    "F.    T.     F\n",
    "T.    F.     F\n",
    "F.    F.     F\n",
    "\n",
    "or :- if atleast one conditiion True , then statement shoudl be True.\n",
    "\n",
    "T.   T.   T\n",
    "T.   F.   T\n",
    "F.   T.   T\n",
    "F.   F.   F\n",
    "\n",
    "not :- compliment , by force True convert False and False Convert to True.\n",
    "\n",
    "\n",
    "'''\n",
    "\n",
    "#user input :- take the data from end user.\n",
    "# input() :- take data from end user as a string format\n",
    "\n",
    "# what ever type of data we want from end user , with input function we will use own , type cast method\n",
    "'''docter_exp = complex(input('Enter your exp:-'))\n",
    "print(docter_exp)\n",
    "print(type(docter_exp))'''\n",
    "\n",
    "# eval() :- evulate the data automatically based on end user data.\n",
    "\n",
    "# num = eval(input('Enter a number'))\n",
    "\n",
    "\n",
    "docter_exp = float(input('Enter your exp:-'))\n",
    "child_age = float(input('Enter your age:-'))\n",
    "\n",
    "if docter_exp >= 15 and child_age<=10:\n",
    "    print('OK good ahead test')\n",
    "else:\n",
    "    print('stop it the test')\n",
    "\n",
    "\n",
    "docter_exp = float(input('Enter your exp:-'))\n",
    "child_age = float(input('Enter your age:-'))\n",
    "\n",
    "if docter_exp >= 15 or  child_age>=15:\n",
    "    print('OK good ahead test')\n",
    "else:\n",
    "    print('stop it the test')\n",
    "\n",
    "\n",
    "\n",
    "\n",
    "\n",
    "\n",
    "\n",
    "\n"
   ]
  },
  {
   "cell_type": "code",
   "execution_count": null,
   "id": "a68ccf26-cc87-4356-a41a-f75ee9502b50",
   "metadata": {},
   "outputs": [],
   "source": [
    "#special op (idenity op and membership op)\n",
    "\n",
    "# idenity op ( is) \n",
    "\n",
    "a = 10\n",
    "\n",
    "b = 10\n",
    "\n",
    "id(a)\n",
    "id(b)\n",
    "\n"
   ]
  },
  {
   "cell_type": "code",
   "execution_count": null,
   "id": "f02e30bc-4cd8-4516-b70b-ba4f96536360",
   "metadata": {},
   "outputs": [],
   "source": []
  },
  {
   "cell_type": "code",
   "execution_count": null,
   "id": "7c3ebbde-55c4-47c0-96ff-64145f1e02b3",
   "metadata": {},
   "outputs": [],
   "source": []
  }
 ],
 "metadata": {
  "kernelspec": {
   "display_name": "Python 3 (ipykernel)",
   "language": "python",
   "name": "python3"
  },
  "language_info": {
   "codemirror_mode": {
    "name": "ipython",
    "version": 3
   },
   "file_extension": ".py",
   "mimetype": "text/x-python",
   "name": "python",
   "nbconvert_exporter": "python",
   "pygments_lexer": "ipython3",
   "version": "3.13.2"
  }
 },
 "nbformat": 4,
 "nbformat_minor": 5
}
