{
 "cells": [
  {
   "cell_type": "code",
   "execution_count": 3,
   "id": "5be728b6-d8eb-41bd-b694-bb5842ff7bb8",
   "metadata": {},
   "outputs": [
    {
     "ename": "NameError",
     "evalue": "name 'keyowrd' is not defined",
     "output_type": "error",
     "traceback": [
      "\u001b[0;31m---------------------------------------------------------------------------\u001b[0m",
      "\u001b[0;31mNameError\u001b[0m                                 Traceback (most recent call last)",
      "Cell \u001b[0;32mIn[3], line 7\u001b[0m\n\u001b[1;32m      3\u001b[0m \u001b[38;5;124;03m'''some words reversed by the python end, those words know as keywords and reserved words. in python there are 35 keyowrds are avl.'''\u001b[39;00m\n\u001b[1;32m      6\u001b[0m \u001b[38;5;28;01mimport\u001b[39;00m\u001b[38;5;250m \u001b[39m\u001b[38;5;21;01mkeyword\u001b[39;00m\n\u001b[0;32m----> 7\u001b[0m \u001b[43mkeyowrd\u001b[49m\u001b[38;5;241m.\u001b[39mkwlist\n",
      "\u001b[0;31mNameError\u001b[0m: name 'keyowrd' is not defined"
     ]
    }
   ],
   "source": [
    "#keywords-- reserved words\n",
    "\n",
    "'''some words reversed by the python end, those words know as keywords and reserved words. in python there are 35 keyowrds are avl.'''\n",
    "\n",
    "\n",
    "import keyword\n",
    "keyowrd.kwlist\n",
    "\n",
    "\n",
    "['False', 'None', 'True', 'and', 'as', 'assert', 'async', 'await', 'break', 'class', 'continue', 'def', 'del', \n",
    " 'elif', 'else', 'except', 'finally', 'for', 'from', 'global', 'if', 'import', 'in', 'is', 'lambda', 'nonlocal', \n",
    " 'not', 'or', 'pass', 'raise', 'return', 'try', 'while', 'with', 'yield']\n",
    "\n"
   ]
  },
  {
   "cell_type": "code",
   "execution_count": null,
   "id": "559a04c8-2d22-4cb6-bb83-fbbece98f75d",
   "metadata": {},
   "outputs": [],
   "source": []
  },
  {
   "cell_type": "code",
   "execution_count": 16,
   "id": "aa9d0865-8289-4ea2-9209-7d2c96cc147a",
   "metadata": {},
   "outputs": [],
   "source": [
    "#what is identifiers\n",
    "\n",
    "'''provide name for any object know as identfiers'''\n",
    "\n",
    "\n",
    "#variable:- in a var we will store the data\n",
    "#function:- func is a container, who conatins the logic and return data.\n",
    "#class :- collection of function\n",
    "#module:- collection of class, function and variable\n",
    "\n",
    "# Rules\n",
    "'''\n",
    "1.use :- A to Z, a to z and 0 to 9, _(underscore)\n",
    "2.digit should not come first\n",
    "3.Python is case sensitive Lang, upper case not equal to lower case.\n",
    "\n",
    "'''\n",
    "\n",
    "#industry rules\n",
    "\n",
    "# camel casing :- Upper,Lower and digit (every word first char should be upper and rest are lower)\n",
    "\n",
    "#State Bank Of India 10927\n",
    "\n",
    "'''StateBankOfIndia10927'''#floder,Class\n",
    "\n",
    "\n",
    "\n",
    "\n",
    "#snake caseing:- lower,digit,underscore(every char in camel should be lower, use _ for word separation)\n",
    "\n",
    "'''state_bank_of_india_10927'''#var,func,module\n",
    "\n",
    "\n",
    "    \n",
    "\n",
    "\n",
    "\n",
    "\n",
    "\n"
   ]
  },
  {
   "cell_type": "code",
   "execution_count": null,
   "id": "0fd5b6a9-983c-4897-a560-85d3653f286d",
   "metadata": {},
   "outputs": [],
   "source": []
  }
 ],
 "metadata": {
  "kernelspec": {
   "display_name": "Python 3 (ipykernel)",
   "language": "python",
   "name": "python3"
  },
  "language_info": {
   "codemirror_mode": {
    "name": "ipython",
    "version": 3
   },
   "file_extension": ".py",
   "mimetype": "text/x-python",
   "name": "python",
   "nbconvert_exporter": "python",
   "pygments_lexer": "ipython3",
   "version": "3.13.2"
  }
 },
 "nbformat": 4,
 "nbformat_minor": 5
}
